{
 "cells": [
  {
   "cell_type": "code",
   "execution_count": 13,
   "metadata": {},
   "outputs": [],
   "source": [
    "# CartPole Env\n",
    "import gym\n",
    "import matplotlib as plt\n",
    "\n",
    "class CartPoleEnv:\n",
    "    def __init__(self):\n",
    "        self.fps = 30\n",
    "        self.env = gym.make('CartPole-v0')  # environment interface to game\n",
    "        self.env.seed(42)\n",
    "        self.env.reset()\n",
    "        self.is_show = False\n",
    "        self.current_sate = []\n",
    "        self.is_done = False\n",
    "\n",
    "    def render(self):\n",
    "        self.env.render()\n",
    "        \n",
    "    def reset(self, is_show = False):\n",
    "        state = self.env.reset()\n",
    "        state = state.tolist()\n",
    "        self.current_sate = state\n",
    "        self.is_done = False\n",
    "        self.is_show = is_show\n",
    "        if self.is_show:\n",
    "            self.env.render()\n",
    "\n",
    "        return state\n",
    "    \n",
    "    def act(self, action):\n",
    "        if self.is_show:\n",
    "            self.env.render()\n",
    "        # return observation, reward, done, info\n",
    "        state, reward, is_done, info = self.env.step(self.get_action_set()[action])\n",
    "        state = state.tolist()\n",
    "        self.current_sate = state\n",
    "        self.is_done = is_done\n",
    "        return state, reward, is_done, info\n",
    "\n",
    "    def get_num_actions(self):\n",
    "        return 2\n",
    "\n",
    "    def get_action_set(self):\n",
    "        return [0, 1]\n",
    "\n",
    "    def get_screen_rgb(self):\n",
    "        pass\n",
    "\n",
    "    def get_screen_gray(self):\n",
    "        pass\n",
    "\n",
    "    def get_num_state_features(self):\n",
    "        return 4\n",
    "\n",
    "    def get_state(self):\n",
    "        return self.current_sate\n",
    "\n",
    "    def is_over(self):\n",
    "        return self.is_done\n"
   ]
  },
  {
   "cell_type": "code",
   "execution_count": 14,
   "metadata": {},
   "outputs": [],
   "source": [
    "# !pip install pygame\n",
    "# !git clone https://github.com/ntasfi/PyGame-Learning-Environment.git\n",
    "# !pip install -e ./PyGame-Learning-Environment"
   ]
  },
  {
   "cell_type": "code",
   "execution_count": 15,
   "metadata": {},
   "outputs": [],
   "source": [
    "from ple.games.flappybird import FlappyBird as flappyBird\n",
    "from ple import PLE\n",
    "\n",
    "class FlappyBirdEnv:\n",
    "    def __init__(self):\n",
    "        self.fps = 30\n",
    "        self.game = flappyBird()\n",
    "        self.env = PLE(self.game, fps=self.fps, display_screen=False)  # environment interface to game\n",
    "        self.env.reset_game()\n",
    "\n",
    "    def reset(self, is_show = False):\n",
    "        self.env = PLE(self.game, fps=self.fps, display_screen=is_show)  # environment interface to game\n",
    "        self.env.reset_game()\n",
    "        state = self.get_state()\n",
    "\n",
    "        return state\n",
    "    \n",
    "    def act(self, action):\n",
    "        # return state_prime, reward, done, info\n",
    "        reward = self.env.act(self.env.getActionSet()[action])\n",
    "        \n",
    "        # Survive reward +1\n",
    "#         reward += 1\n",
    "        \n",
    "        # Get closer to the middle of top and bottom pipe and get more reward\n",
    "#         state = self.game.getGameState()\n",
    "        \n",
    "#         next_dis_to_mid = abs((state['next_pipe_top_y'] + state['next_pipe_bottom_y']) / 2 - state['player_y'])\n",
    "#         print('State')\n",
    "#         print(state)\n",
    "#         print('Mid')\n",
    "#         print((state['next_pipe_top_y'] + state['next_pipe_bottom_y']) / 2)\n",
    "#         print('next_dis_to_mid')\n",
    "#         print(abs((state['next_pipe_top_y'] + state['next_pipe_bottom_y']) / 2 - state['player_y']))\n",
    "#         next_next_dis_to_mid = abs((state['next_next_pipe_top_y'] + state['next_next_pipe_bottom_y']) / 2 - state['player_y'])\n",
    "#         dis_reward_coef = 0.01\n",
    "        \n",
    "#         reward += dis_reward_coef * ((-next_dis_to_mid) + 0.5 * (-next_next_dis_to_mid))\n",
    "        \n",
    "        state_prime = self.get_state()\n",
    "        is_done = self.is_over()\n",
    "        info = \"\"\n",
    "        return state_prime, reward, is_done, info\n",
    "\n",
    "    def get_num_actions(self):\n",
    "        return len(self.env.getActionSet())\n",
    "\n",
    "    def get_action_set(self):\n",
    "        return self.env.getActionSet()\n",
    "\n",
    "    def get_screen_rgb(self):\n",
    "        return self.env.getScreenRGB()\n",
    "\n",
    "    def get_screen_gray(self):\n",
    "        return self.env.getScreenGrayscale()\n",
    "\n",
    "    def get_num_state_features(self):\n",
    "        return len(self.game.getGameState())\n",
    "\n",
    "    def get_state(self):\n",
    "        # dict\n",
    "        #     * player y position.\n",
    "        #     * players velocity.\n",
    "        #     * next pipe distance to player\n",
    "        #     * next pipe top y position\n",
    "        #     * next pipe bottom y position\n",
    "        #     * next next pipe distance to player\n",
    "        #     * next next pipe top y position\n",
    "        #     * next next pipe bottom y position\n",
    "\n",
    "        # state = {\n",
    "        #     \"player_y\": self.player.pos_y,\n",
    "        #     \"player_vel\": self.player.vel,\n",
    "            \n",
    "        #     \"next_pipe_dist_to_player\": next_pipe.x - self.player.pos_x,\n",
    "        #     \"next_pipe_top_y\": next_pipe.gap_start,\n",
    "        #     \"next_pipe_bottom_y\": next_pipe.gap_start+self.pipe_gap, \n",
    "            \n",
    "        #     \"next_next_pipe_dist_to_player\": next_next_pipe.x - self.player.pos_x,\n",
    "        #     \"next_next_pipe_top_y\": next_next_pipe.gap_start,\n",
    "        #     \"next_next_pipe_bottom_y\": next_next_pipe.gap_start+self.pipe_gap \n",
    "        # }\n",
    "        state = self.game.getGameState()\n",
    "        state['next_pipe_top_y'] -= state['player_y']\n",
    "        state['next_pipe_bottom_y'] -= state['player_y']\n",
    "        state['next_next_pipe_top_y'] -= state['player_y']\n",
    "        state['next_next_pipe_bottom_y'] -= state['player_y']\n",
    "        return list(state.values())\n",
    "\n",
    "    def is_over(self):\n",
    "        return self.env.game_over()\n"
   ]
  },
  {
   "cell_type": "code",
   "execution_count": 16,
   "metadata": {},
   "outputs": [],
   "source": [
    "import numpy as np\n",
    "\n",
    "class EpsilonGreedy:\n",
    "    def __init__(self, epsilon, num_action, min_epsilon = 0.01, decay = 0.99):\n",
    "        self.epsilon = epsilon\n",
    "        self.num_action = num_action\n",
    "        self.min_epsilon = min_epsilon\n",
    "        self.decay = decay\n",
    "        self.action_time = 0\n",
    "\n",
    "    def select_action(self):\n",
    "        self.action_time += 1\n",
    "        if np.random.rand() < self.epsilon:\n",
    "            self.update_epsilon()\n",
    "            return np.random.choice(self.num_action)\n",
    "        else: \n",
    "            self.update_epsilon()\n",
    "            return -1\n",
    "    \n",
    "    def update_epsilon(self):\n",
    "        self.epsilon = max(self.min_epsilon, min(0.5, 0.99**(self.action_time / 30)))\n",
    "    \n",
    "    def shutdown_explore(self):\n",
    "        self.epsilon = 0"
   ]
  },
  {
   "cell_type": "code",
   "execution_count": 17,
   "metadata": {},
   "outputs": [],
   "source": [
    "import tensorflow as tf\n",
    "import numpy as np\n",
    "\n",
    "class Agent:\n",
    "    def __init__(self, state_size, num_action, reward_discount, learning_rate, exploration_strategy):\n",
    "        self.state_size = state_size\n",
    "        self.num_action = num_action\n",
    "        self.reward_discount = reward_discount\n",
    "        self.exploration_strategy = exploration_strategy\n",
    "        self.eps = 0\n",
    "        self.data_type = tf.float32\n",
    "        self.optimizer = tf.keras.optimizers.Adam(learning_rate = learning_rate)\n",
    "        self.avg_loss = tf.keras.metrics.Mean(name = 'loss')\n",
    "        self.model = self.build_model('model')\n",
    "        self.is_shutdown_explore = False\n",
    "\n",
    "        # For A2C loss function coefficients\n",
    "        self.coef_entropy = 1.5\n",
    "        self.coef_value = 1\n",
    "\n",
    "    def build_model(self, name):\n",
    "        # # Shared layers\n",
    "        # nn_input = tf.keras.Input(shape = self.state_size, dtype = self.data_type)\n",
    "        # x = tf.keras.layers.Dense(units = 64)(nn_input)\n",
    "        # x = tf.keras.layers.ReLU()(x)\n",
    "        # x = tf.keras.layers.Dense(units = 128)(x)\n",
    "        # common = tf.keras.layers.ReLU()(x)\n",
    "\n",
    "        # # Actor Model\n",
    "        # actor_layer = tf.keras.layers.Dense(units = 64)(common)\n",
    "        # actor_layer = tf.keras.layers.ReLU()(actor_layer)\n",
    "        # actor_layer = tf.keras.layers.Dense(units = self.num_action)(actor_layer)\n",
    "        # actor_nn_output = tf.keras.activations.softmax(actor_layer)\n",
    "\n",
    "        # # Critic Model\n",
    "        # critic_layer = tf.keras.layers.Dense(units = 64)(common)\n",
    "        # critic_layer = tf.keras.layers.ReLU()(critic_layer)\n",
    "        # critic_nn_output = tf.keras.layers.Dense(units = 1)(critic_layer)\n",
    "\n",
    "        # # Combine into a model\n",
    "        # model = tf.keras.Model(name = name, inputs = nn_input, outputs = [actor_nn_output, critic_nn_output])\n",
    "\n",
    "        inputs = tf.keras.layers.Input(shape=self.state_size)\n",
    "        x = tf.keras.layers.Dense(128, activation=\"relu\")(inputs)\n",
    "        common = tf.keras.layers.Dense(128, activation=\"relu\")(x)\n",
    "        action = tf.keras.layers.Dense(self.num_action, activation=\"softmax\")(common)\n",
    "        critic = tf.keras.layers.Dense(1)(common)\n",
    "\n",
    "        model = tf.keras.Model(name = name, inputs=inputs, outputs=[action, critic])\n",
    "\n",
    "        return model\n",
    "\n",
    "    def predict(self, state):\n",
    "        return self.model(tf.convert_to_tensor(state, self.data_type))\n",
    "\n",
    "    def loss(self, action_probs, critic_values, rewards):\n",
    "        # Calculate accumulated reward Q(s, a) with discount\n",
    "        np_rewards = np.array(rewards)\n",
    "        num_reward = np_rewards.shape[0]\n",
    "        discounts = np.logspace(0, num_reward, base = self.reward_discount, num = num_reward)\n",
    "        \n",
    "        q_values = np.zeros(num_reward)\n",
    "        for i in range(num_reward):\n",
    "            q_values[i] = np.sum(np.multiply(np_rewards[i:], discounts[:num_reward - i]))\n",
    "        q_values = (q_values - np.mean(q_values)) / (np.std(q_values) + 1e-9)\n",
    "\n",
    "        # Calculate the Actor Loss and Advantage A(s, a) = Q_value(s, a) - value(s)\n",
    "        action_log_prbs = tf.math.log(action_probs)\n",
    "        advs = q_values - critic_values\n",
    "        actor_loss = -action_log_prbs * advs\n",
    "        \n",
    "        # Calculate the critic loss \n",
    "        huber = tf.keras.losses.Huber()\n",
    "        critic_loss = huber(tf.convert_to_tensor(critic_values, dtype = self.data_type), tf.convert_to_tensor(q_values, dtype = self.data_type))\n",
    "\n",
    "        # Calculate the cross entropy of action distribution\n",
    "        entropy = tf.reduce_sum(action_probs * action_log_prbs * -1)\n",
    "        \n",
    "        # Compute loss as formular: loss = Sum of a trajectory(-log(Pr(s, a| Theta)) * Advantage + coefficient of value * Value - coefficient of entropy * cross entropy of action distribution)\n",
    "        # Advantage: A(s, a) = Q_value(s, a) - value(s)\n",
    "        # The modification refer to the implement of Baseline A2C from OpenAI\n",
    "        # Update model with a trajectory Every time.\n",
    "        return tf.reduce_sum(actor_loss + self.coef_value * critic_loss - self.coef_entropy * entropy)\n",
    "\n",
    "    def get_metrics_loss(self):\n",
    "        return self.avg_loss.result()\n",
    "    \n",
    "    def reset_metrics_loss(self):\n",
    "        self.avg_loss.reset_states()\n",
    "\n",
    "    def select_action(self, state):\n",
    "        # Predict the probability of each action(Stochastic Policy)\n",
    "        act_dist, value = self.predict([state])\n",
    "        act_dist = tf.squeeze(act_dist)\n",
    "        value = tf.squeeze(value)\n",
    "        # Assume using Epsilon Greedy Strategy\n",
    "        action = self.exploration_strategy.select_action()\n",
    "        \n",
    "        # If the index of action (return value) is -1, choose the action with highest probability that model predict\n",
    "#         if action == -1 or self.shutdown_explore == True:\n",
    "#             # Pick then action with HIGHTEST probability\n",
    "#             act_idx = tf.argmax(act_dist, axis = 0).numpy()\n",
    "#             return act_idx, act_dist, value\n",
    "#         else:\n",
    "#             # If the index of action (return value) is != -1, act randomly    \n",
    "#             return action, act_dist, value\n",
    "        return np.random.choice(self.num_action, p=np.squeeze(act_dist)), act_dist, value\n",
    "\n",
    "    def shutdown_explore(self):\n",
    "        self.is_shutdown_explore = True\n",
    "        self.exploration_strategy.shutdown_explore()\n",
    "    \n",
    "    def update(self, loss, tape):\n",
    "        gradients = tape.gradient(loss, self.model.trainable_variables)\n",
    "        # gradients = [gradients if gradients is not None else tf.zeros_like(var) for var, grad in zip(self.model.trainable_variables, gradients)]\n",
    "        self.optimizer.apply_gradients(zip(gradients, self.model.trainable_variables))\n",
    "        self.avg_loss.update_state(loss)\n",
    "\n",
    "        # Update exploration rate of Epsilon Greedy Strategy\n",
    "        self.exploration_strategy.update_epsilon()\n",
    "\n",
    "        self.eps += 1\n",
    "\n",
    "    def train_on_env(self, env, is_show = False):\n",
    "        with tf.GradientTape() as tape:\n",
    "            tape.watch(self.model.trainable_variables)\n",
    "            episode_reward = 0\n",
    "            state = env.reset(is_show)\n",
    "\n",
    "            action_probs = []\n",
    "            critic_values = []\n",
    "            rewards = []\n",
    "\n",
    "            while not env.is_over():\n",
    "                # env.render()\n",
    "                action, act_prob_dist, value = self.select_action(state)\n",
    "                \n",
    "                act_prob = act_prob_dist[action]\n",
    "                state_prime, reward, is_done, info = env.act(action)\n",
    "                # print(f'State: {state}, Action: {action}, Reward: {reward}, State_Prime: {state_prime}')\n",
    "\n",
    "                state = state_prime\n",
    "                episode_reward += reward\n",
    "\n",
    "                action_probs.append(act_prob)\n",
    "                critic_values.append(value)\n",
    "                rewards.append(reward)\n",
    "\n",
    "            loss = self.loss(action_probs, critic_values, rewards)\n",
    "            self.update(loss, tape)\n",
    "            env.reset()\n",
    "\n",
    "            return episode_reward, loss"
   ]
  },
  {
   "cell_type": "code",
   "execution_count": 18,
   "metadata": {
    "scrolled": true
   },
   "outputs": [
    {
     "name": "stdout",
     "output_type": "stream",
     "text": [
      "4 Physical GPUs, 1 Logical GPUs\n",
      "Episode 1\n"
     ]
    },
    {
     "data": {
      "application/vnd.jupyter.widget-view+json": {
       "model_id": "80503032d0a644f2a9f060bd376f5eab",
       "version_major": 2,
       "version_minor": 0
      },
      "text/plain": [
       "HBox(children=(FloatProgress(value=0.0, max=50.0), HTML(value='')))"
      ]
     },
     "metadata": {},
     "output_type": "display_data"
    },
    {
     "name": "stdout",
     "output_type": "stream",
     "text": [
      "\n",
      "Avgerage Accumulated Reward: -5 | Loss: 606.153076171875\n",
      "Episode 51\n"
     ]
    },
    {
     "data": {
      "application/vnd.jupyter.widget-view+json": {
       "model_id": "049daf2e35174af4a344073e6e70f011",
       "version_major": 2,
       "version_minor": 0
      },
      "text/plain": [
       "HBox(children=(FloatProgress(value=0.0, max=50.0), HTML(value='')))"
      ]
     },
     "metadata": {},
     "output_type": "display_data"
    },
    {
     "name": "stdout",
     "output_type": "stream",
     "text": [
      "\n",
      "Avgerage Accumulated Reward: -5 | Loss: 181.6160125732422\n",
      "Episode 101\n"
     ]
    },
    {
     "data": {
      "application/vnd.jupyter.widget-view+json": {
       "model_id": "42983470108941fb959976a38bc81c8b",
       "version_major": 2,
       "version_minor": 0
      },
      "text/plain": [
       "HBox(children=(FloatProgress(value=0.0, max=50.0), HTML(value='')))"
      ]
     },
     "metadata": {},
     "output_type": "display_data"
    },
    {
     "name": "stdout",
     "output_type": "stream",
     "text": [
      "\n",
      "Avgerage Accumulated Reward: -5 | Loss: 107.29521179199219\n",
      "Episode 151\n"
     ]
    },
    {
     "data": {
      "application/vnd.jupyter.widget-view+json": {
       "model_id": "014d191c59c946cf9e688544760180ef",
       "version_major": 2,
       "version_minor": 0
      },
      "text/plain": [
       "HBox(children=(FloatProgress(value=0.0, max=50.0), HTML(value='')))"
      ]
     },
     "metadata": {},
     "output_type": "display_data"
    },
    {
     "name": "stdout",
     "output_type": "stream",
     "text": [
      "\n",
      "Avgerage Accumulated Reward: -5 | Loss: 107.89985656738281\n",
      "Episode 201\n"
     ]
    },
    {
     "data": {
      "application/vnd.jupyter.widget-view+json": {
       "model_id": "8f87a7ac09904638885a7c975c916322",
       "version_major": 2,
       "version_minor": 0
      },
      "text/plain": [
       "HBox(children=(FloatProgress(value=0.0, max=50.0), HTML(value='')))"
      ]
     },
     "metadata": {},
     "output_type": "display_data"
    },
    {
     "name": "stdout",
     "output_type": "stream",
     "text": [
      "\n",
      "Avgerage Accumulated Reward: -5 | Loss: 65.92730712890625\n",
      "Episode 251\n"
     ]
    },
    {
     "data": {
      "application/vnd.jupyter.widget-view+json": {
       "model_id": "abbd95e5e8084aa68d4aa215fabf8b71",
       "version_major": 2,
       "version_minor": 0
      },
      "text/plain": [
       "HBox(children=(FloatProgress(value=0.0, max=50.0), HTML(value='')))"
      ]
     },
     "metadata": {},
     "output_type": "display_data"
    },
    {
     "name": "stdout",
     "output_type": "stream",
     "text": [
      "\n",
      "Avgerage Accumulated Reward: -5 | Loss: 101.25994873046875\n",
      "Episode 301\n"
     ]
    },
    {
     "data": {
      "application/vnd.jupyter.widget-view+json": {
       "model_id": "5b23b853487b4b27b28c67da68bb2cf3",
       "version_major": 2,
       "version_minor": 0
      },
      "text/plain": [
       "HBox(children=(FloatProgress(value=0.0, max=50.0), HTML(value='')))"
      ]
     },
     "metadata": {},
     "output_type": "display_data"
    },
    {
     "name": "stdout",
     "output_type": "stream",
     "text": [
      "\n",
      "Avgerage Accumulated Reward: -5 | Loss: 78.04361724853516\n",
      "Episode 351\n"
     ]
    },
    {
     "data": {
      "application/vnd.jupyter.widget-view+json": {
       "model_id": "abb9e59d5381474f9ac8d91f4ab2320e",
       "version_major": 2,
       "version_minor": 0
      },
      "text/plain": [
       "HBox(children=(FloatProgress(value=0.0, max=50.0), HTML(value='')))"
      ]
     },
     "metadata": {},
     "output_type": "display_data"
    },
    {
     "name": "stdout",
     "output_type": "stream",
     "text": [
      "\n",
      "Avgerage Accumulated Reward: -5 | Loss: 35.115116119384766\n",
      "Episode 401\n"
     ]
    },
    {
     "data": {
      "application/vnd.jupyter.widget-view+json": {
       "model_id": "504539e686184d39b94548d71f817849",
       "version_major": 2,
       "version_minor": 0
      },
      "text/plain": [
       "HBox(children=(FloatProgress(value=0.0, max=50.0), HTML(value='')))"
      ]
     },
     "metadata": {},
     "output_type": "display_data"
    },
    {
     "name": "stdout",
     "output_type": "stream",
     "text": [
      "\n",
      "Avgerage Accumulated Reward: -5 | Loss: 11.860280990600586\n",
      "Episode 451\n"
     ]
    },
    {
     "data": {
      "application/vnd.jupyter.widget-view+json": {
       "model_id": "866ca0c48f08480f803520da522fae7b",
       "version_major": 2,
       "version_minor": 0
      },
      "text/plain": [
       "HBox(children=(FloatProgress(value=0.0, max=50.0), HTML(value='')))"
      ]
     },
     "metadata": {},
     "output_type": "display_data"
    },
    {
     "name": "stdout",
     "output_type": "stream",
     "text": [
      "\n",
      "Avgerage Accumulated Reward: -5 | Loss: 15.07702922821045\n",
      "Episode 501\n"
     ]
    },
    {
     "data": {
      "application/vnd.jupyter.widget-view+json": {
       "model_id": "9f4f6961950c4c27b645b38e92dd6486",
       "version_major": 2,
       "version_minor": 0
      },
      "text/plain": [
       "HBox(children=(FloatProgress(value=0.0, max=50.0), HTML(value='')))"
      ]
     },
     "metadata": {},
     "output_type": "display_data"
    },
    {
     "name": "stdout",
     "output_type": "stream",
     "text": [
      "\n",
      "Avgerage Accumulated Reward: -5 | Loss: 18.051151275634766\n",
      "Episode 551\n"
     ]
    },
    {
     "data": {
      "application/vnd.jupyter.widget-view+json": {
       "model_id": "185237475bfc47819cb2c122440c52c6",
       "version_major": 2,
       "version_minor": 0
      },
      "text/plain": [
       "HBox(children=(FloatProgress(value=0.0, max=50.0), HTML(value='')))"
      ]
     },
     "metadata": {},
     "output_type": "display_data"
    },
    {
     "name": "stdout",
     "output_type": "stream",
     "text": [
      "\n",
      "Avgerage Accumulated Reward: -5 | Loss: 19.11495590209961\n",
      "Episode 601\n"
     ]
    },
    {
     "data": {
      "application/vnd.jupyter.widget-view+json": {
       "model_id": "5a1234aa08b64a2d8d576a6a17278fc5",
       "version_major": 2,
       "version_minor": 0
      },
      "text/plain": [
       "HBox(children=(FloatProgress(value=0.0, max=50.0), HTML(value='')))"
      ]
     },
     "metadata": {},
     "output_type": "display_data"
    },
    {
     "name": "stdout",
     "output_type": "stream",
     "text": [
      "\n",
      "Avgerage Accumulated Reward: -5 | Loss: 11.879219055175781\n",
      "Episode 651\n"
     ]
    },
    {
     "data": {
      "application/vnd.jupyter.widget-view+json": {
       "model_id": "1fad6022248747cf8c41c667be8d3fad",
       "version_major": 2,
       "version_minor": 0
      },
      "text/plain": [
       "HBox(children=(FloatProgress(value=0.0, max=50.0), HTML(value='')))"
      ]
     },
     "metadata": {},
     "output_type": "display_data"
    },
    {
     "name": "stdout",
     "output_type": "stream",
     "text": [
      "\n",
      "Avgerage Accumulated Reward: -5 | Loss: 10.918200492858887\n",
      "Episode 701\n"
     ]
    },
    {
     "data": {
      "application/vnd.jupyter.widget-view+json": {
       "model_id": "552157fbefc247a9809cb2d7f308cf50",
       "version_major": 2,
       "version_minor": 0
      },
      "text/plain": [
       "HBox(children=(FloatProgress(value=0.0, max=50.0), HTML(value='')))"
      ]
     },
     "metadata": {},
     "output_type": "display_data"
    },
    {
     "name": "stdout",
     "output_type": "stream",
     "text": [
      "\n",
      "Avgerage Accumulated Reward: -5 | Loss: 21.998483657836914\n",
      "Episode 751\n"
     ]
    },
    {
     "data": {
      "application/vnd.jupyter.widget-view+json": {
       "model_id": "3bbb0826259f4e08aa3395b112a43f3f",
       "version_major": 2,
       "version_minor": 0
      },
      "text/plain": [
       "HBox(children=(FloatProgress(value=0.0, max=50.0), HTML(value='')))"
      ]
     },
     "metadata": {},
     "output_type": "display_data"
    },
    {
     "name": "stdout",
     "output_type": "stream",
     "text": [
      "\n",
      "Avgerage Accumulated Reward: -5 | Loss: 8.269617080688477\n",
      "Episode 801\n"
     ]
    },
    {
     "data": {
      "application/vnd.jupyter.widget-view+json": {
       "model_id": "8cab7dd3ea7a48efa7a5847c5cf7d7ae",
       "version_major": 2,
       "version_minor": 0
      },
      "text/plain": [
       "HBox(children=(FloatProgress(value=0.0, max=50.0), HTML(value='')))"
      ]
     },
     "metadata": {},
     "output_type": "display_data"
    },
    {
     "name": "stdout",
     "output_type": "stream",
     "text": [
      "\n",
      "Avgerage Accumulated Reward: -5 | Loss: 9.423725128173828\n",
      "Episode 851\n"
     ]
    },
    {
     "data": {
      "application/vnd.jupyter.widget-view+json": {
       "model_id": "9d23fd5046b04e6d9010aa92985272a5",
       "version_major": 2,
       "version_minor": 0
      },
      "text/plain": [
       "HBox(children=(FloatProgress(value=0.0, max=50.0), HTML(value='')))"
      ]
     },
     "metadata": {},
     "output_type": "display_data"
    },
    {
     "name": "stdout",
     "output_type": "stream",
     "text": [
      "\n",
      "Avgerage Accumulated Reward: -5 | Loss: 0.712795615196228\n",
      "Episode 901\n"
     ]
    },
    {
     "data": {
      "application/vnd.jupyter.widget-view+json": {
       "model_id": "3e2125cd922d43759754abafc78e4f3f",
       "version_major": 2,
       "version_minor": 0
      },
      "text/plain": [
       "HBox(children=(FloatProgress(value=0.0, max=50.0), HTML(value='')))"
      ]
     },
     "metadata": {},
     "output_type": "display_data"
    },
    {
     "name": "stdout",
     "output_type": "stream",
     "text": [
      "\n",
      "Avgerage Accumulated Reward: -5 | Loss: 2.2054975032806396\n",
      "Episode 951\n"
     ]
    },
    {
     "data": {
      "application/vnd.jupyter.widget-view+json": {
       "model_id": "d43424d98e2d4966be2c20985e5afcdd",
       "version_major": 2,
       "version_minor": 0
      },
      "text/plain": [
       "HBox(children=(FloatProgress(value=0.0, max=50.0), HTML(value='')))"
      ]
     },
     "metadata": {},
     "output_type": "display_data"
    },
    {
     "name": "stdout",
     "output_type": "stream",
     "text": [
      "\n",
      "Avgerage Accumulated Reward: -5 | Loss: 6.531569957733154\n",
      "Episode 1001\n"
     ]
    },
    {
     "data": {
      "application/vnd.jupyter.widget-view+json": {
       "model_id": "a9b7eaac17dd417f86441136db111614",
       "version_major": 2,
       "version_minor": 0
      },
      "text/plain": [
       "HBox(children=(FloatProgress(value=0.0, max=50.0), HTML(value='')))"
      ]
     },
     "metadata": {},
     "output_type": "display_data"
    },
    {
     "name": "stdout",
     "output_type": "stream",
     "text": [
      "\n",
      "Avgerage Accumulated Reward: -5 | Loss: 2.1192097663879395\n",
      "Episode 1051\n"
     ]
    },
    {
     "data": {
      "application/vnd.jupyter.widget-view+json": {
       "model_id": "3384efbbac01445e91a5a4d3257f74ac",
       "version_major": 2,
       "version_minor": 0
      },
      "text/plain": [
       "HBox(children=(FloatProgress(value=0.0, max=50.0), HTML(value='')))"
      ]
     },
     "metadata": {},
     "output_type": "display_data"
    },
    {
     "name": "stdout",
     "output_type": "stream",
     "text": [
      "\n",
      "Avgerage Accumulated Reward: -5 | Loss: 0.4479793310165405\n",
      "Episode 1101\n"
     ]
    },
    {
     "data": {
      "application/vnd.jupyter.widget-view+json": {
       "model_id": "15fd8eb963c64b4cb2918e8428b7ee8c",
       "version_major": 2,
       "version_minor": 0
      },
      "text/plain": [
       "HBox(children=(FloatProgress(value=0.0, max=50.0), HTML(value='')))"
      ]
     },
     "metadata": {},
     "output_type": "display_data"
    },
    {
     "name": "stdout",
     "output_type": "stream",
     "text": [
      "\n",
      "Avgerage Accumulated Reward: -5 | Loss: 0.2126186490058899\n",
      "Episode 1151\n"
     ]
    },
    {
     "data": {
      "application/vnd.jupyter.widget-view+json": {
       "model_id": "8a64436f5d20476c863aeb8ee5f8aeb5",
       "version_major": 2,
       "version_minor": 0
      },
      "text/plain": [
       "HBox(children=(FloatProgress(value=0.0, max=50.0), HTML(value='')))"
      ]
     },
     "metadata": {},
     "output_type": "display_data"
    },
    {
     "name": "stdout",
     "output_type": "stream",
     "text": [
      "\n",
      "Avgerage Accumulated Reward: -5 | Loss: 0.6485067009925842\n",
      "Episode 1201\n"
     ]
    },
    {
     "data": {
      "application/vnd.jupyter.widget-view+json": {
       "model_id": "81d7b91766394a02be9517a72bd01e21",
       "version_major": 2,
       "version_minor": 0
      },
      "text/plain": [
       "HBox(children=(FloatProgress(value=0.0, max=50.0), HTML(value='')))"
      ]
     },
     "metadata": {},
     "output_type": "display_data"
    },
    {
     "name": "stdout",
     "output_type": "stream",
     "text": [
      "\n",
      "Avgerage Accumulated Reward: -5 | Loss: 9.785855293273926\n",
      "Episode 1251\n"
     ]
    },
    {
     "data": {
      "application/vnd.jupyter.widget-view+json": {
       "model_id": "80399c93c5b144f283ef6d4cb4276b90",
       "version_major": 2,
       "version_minor": 0
      },
      "text/plain": [
       "HBox(children=(FloatProgress(value=0.0, max=50.0), HTML(value='')))"
      ]
     },
     "metadata": {},
     "output_type": "display_data"
    },
    {
     "name": "stdout",
     "output_type": "stream",
     "text": [
      "\n",
      "Avgerage Accumulated Reward: -5 | Loss: 1.7006545066833496\n",
      "Episode 1301\n"
     ]
    },
    {
     "data": {
      "application/vnd.jupyter.widget-view+json": {
       "model_id": "7613f66d69c3477a88e2bbe9927ca1b3",
       "version_major": 2,
       "version_minor": 0
      },
      "text/plain": [
       "HBox(children=(FloatProgress(value=0.0, max=50.0), HTML(value='')))"
      ]
     },
     "metadata": {},
     "output_type": "display_data"
    },
    {
     "name": "stdout",
     "output_type": "stream",
     "text": [
      "\n",
      "Avgerage Accumulated Reward: -5 | Loss: 20.06502342224121\n",
      "Episode 1351\n"
     ]
    },
    {
     "data": {
      "application/vnd.jupyter.widget-view+json": {
       "model_id": "cf6de801df06465fbad0f9f2cb23a36c",
       "version_major": 2,
       "version_minor": 0
      },
      "text/plain": [
       "HBox(children=(FloatProgress(value=0.0, max=50.0), HTML(value='')))"
      ]
     },
     "metadata": {},
     "output_type": "display_data"
    },
    {
     "name": "stdout",
     "output_type": "stream",
     "text": [
      "\n",
      "Avgerage Accumulated Reward: -5 | Loss: 28.832714080810547\n",
      "Episode 1401\n"
     ]
    },
    {
     "data": {
      "application/vnd.jupyter.widget-view+json": {
       "model_id": "16a9039c27584e628be50712750ef70c",
       "version_major": 2,
       "version_minor": 0
      },
      "text/plain": [
       "HBox(children=(FloatProgress(value=0.0, max=50.0), HTML(value='')))"
      ]
     },
     "metadata": {},
     "output_type": "display_data"
    },
    {
     "name": "stdout",
     "output_type": "stream",
     "text": [
      "\n",
      "Avgerage Accumulated Reward: -5 | Loss: 8.553360939025879\n",
      "Episode 1451\n"
     ]
    },
    {
     "data": {
      "application/vnd.jupyter.widget-view+json": {
       "model_id": "d2a40df73ee546ce9f048e40d9274eb2",
       "version_major": 2,
       "version_minor": 0
      },
      "text/plain": [
       "HBox(children=(FloatProgress(value=0.0, max=50.0), HTML(value='')))"
      ]
     },
     "metadata": {},
     "output_type": "display_data"
    },
    {
     "name": "stdout",
     "output_type": "stream",
     "text": [
      "\n",
      "Avgerage Accumulated Reward: -5 | Loss: 1.3821781873703003\n",
      "Episode 1501\n"
     ]
    },
    {
     "data": {
      "application/vnd.jupyter.widget-view+json": {
       "model_id": "0dc4d898d48546ecad81cb54bfc836ce",
       "version_major": 2,
       "version_minor": 0
      },
      "text/plain": [
       "HBox(children=(FloatProgress(value=0.0, max=50.0), HTML(value='')))"
      ]
     },
     "metadata": {},
     "output_type": "display_data"
    },
    {
     "name": "stdout",
     "output_type": "stream",
     "text": [
      "\n",
      "Avgerage Accumulated Reward: -5 | Loss: 0.5872985124588013\n",
      "Episode 1551\n"
     ]
    },
    {
     "data": {
      "application/vnd.jupyter.widget-view+json": {
       "model_id": "296fa3f1744841d7b70c359c4642f2a4",
       "version_major": 2,
       "version_minor": 0
      },
      "text/plain": [
       "HBox(children=(FloatProgress(value=0.0, max=50.0), HTML(value='')))"
      ]
     },
     "metadata": {},
     "output_type": "display_data"
    },
    {
     "name": "stdout",
     "output_type": "stream",
     "text": [
      "\n",
      "Avgerage Accumulated Reward: -5 | Loss: 0.2626471221446991\n",
      "Episode 1601\n"
     ]
    },
    {
     "data": {
      "application/vnd.jupyter.widget-view+json": {
       "model_id": "912d525e48a14f6dbb6be4f569a504f9",
       "version_major": 2,
       "version_minor": 0
      },
      "text/plain": [
       "HBox(children=(FloatProgress(value=0.0, max=50.0), HTML(value='')))"
      ]
     },
     "metadata": {},
     "output_type": "display_data"
    },
    {
     "name": "stdout",
     "output_type": "stream",
     "text": [
      "\n",
      "Avgerage Accumulated Reward: -5 | Loss: 0.1644030064344406\n",
      "Episode 1651\n"
     ]
    },
    {
     "data": {
      "application/vnd.jupyter.widget-view+json": {
       "model_id": "9c9855a3c4ac4c0a8eb1a3641582f3c6",
       "version_major": 2,
       "version_minor": 0
      },
      "text/plain": [
       "HBox(children=(FloatProgress(value=0.0, max=50.0), HTML(value='')))"
      ]
     },
     "metadata": {},
     "output_type": "display_data"
    },
    {
     "name": "stdout",
     "output_type": "stream",
     "text": [
      "\n",
      "Avgerage Accumulated Reward: -5 | Loss: 0.11518894135951996\n",
      "Episode 1701\n"
     ]
    },
    {
     "data": {
      "application/vnd.jupyter.widget-view+json": {
       "model_id": "91129cfa58b14766abb7249526be6f63",
       "version_major": 2,
       "version_minor": 0
      },
      "text/plain": [
       "HBox(children=(FloatProgress(value=0.0, max=50.0), HTML(value='')))"
      ]
     },
     "metadata": {},
     "output_type": "display_data"
    },
    {
     "name": "stdout",
     "output_type": "stream",
     "text": [
      "\n",
      "Avgerage Accumulated Reward: -5 | Loss: 0.1608159989118576\n",
      "Episode 1751\n"
     ]
    },
    {
     "data": {
      "application/vnd.jupyter.widget-view+json": {
       "model_id": "6d1db4fe31c34f6f9f4806cfba1fd180",
       "version_major": 2,
       "version_minor": 0
      },
      "text/plain": [
       "HBox(children=(FloatProgress(value=0.0, max=50.0), HTML(value='')))"
      ]
     },
     "metadata": {},
     "output_type": "display_data"
    },
    {
     "name": "stdout",
     "output_type": "stream",
     "text": [
      "\n",
      "Avgerage Accumulated Reward: -5 | Loss: 0.13810411095619202\n",
      "Episode 1801\n"
     ]
    },
    {
     "data": {
      "application/vnd.jupyter.widget-view+json": {
       "model_id": "d4fb787c8fc8469faea46200d6409a64",
       "version_major": 2,
       "version_minor": 0
      },
      "text/plain": [
       "HBox(children=(FloatProgress(value=0.0, max=50.0), HTML(value='')))"
      ]
     },
     "metadata": {},
     "output_type": "display_data"
    },
    {
     "name": "stdout",
     "output_type": "stream",
     "text": [
      "\n",
      "Avgerage Accumulated Reward: -5 | Loss: 0.08389919996261597\n",
      "Episode 1851\n"
     ]
    },
    {
     "data": {
      "application/vnd.jupyter.widget-view+json": {
       "model_id": "ff0f2667ef7e4533a2ca6b2225093677",
       "version_major": 2,
       "version_minor": 0
      },
      "text/plain": [
       "HBox(children=(FloatProgress(value=0.0, max=50.0), HTML(value='')))"
      ]
     },
     "metadata": {},
     "output_type": "display_data"
    },
    {
     "name": "stdout",
     "output_type": "stream",
     "text": [
      "\n",
      "Avgerage Accumulated Reward: -5 | Loss: 0.09337905049324036\n",
      "Episode 1901\n"
     ]
    },
    {
     "data": {
      "application/vnd.jupyter.widget-view+json": {
       "model_id": "a9fea71c210247919910f2bce91de439",
       "version_major": 2,
       "version_minor": 0
      },
      "text/plain": [
       "HBox(children=(FloatProgress(value=0.0, max=50.0), HTML(value='')))"
      ]
     },
     "metadata": {},
     "output_type": "display_data"
    },
    {
     "name": "stdout",
     "output_type": "stream",
     "text": [
      "\n",
      "Avgerage Accumulated Reward: -5 | Loss: 0.07179220020771027\n",
      "Episode 1951\n"
     ]
    },
    {
     "data": {
      "application/vnd.jupyter.widget-view+json": {
       "model_id": "fb3b0835ca1a42fcbd8104c0c405f9c1",
       "version_major": 2,
       "version_minor": 0
      },
      "text/plain": [
       "HBox(children=(FloatProgress(value=0.0, max=50.0), HTML(value='')))"
      ]
     },
     "metadata": {},
     "output_type": "display_data"
    },
    {
     "name": "stdout",
     "output_type": "stream",
     "text": [
      "\n",
      "Avgerage Accumulated Reward: -5 | Loss: 0.06311289221048355\n",
      "Episode 2001\n"
     ]
    },
    {
     "data": {
      "application/vnd.jupyter.widget-view+json": {
       "model_id": "a17b761a3e13416cafee9966dc445639",
       "version_major": 2,
       "version_minor": 0
      },
      "text/plain": [
       "HBox(children=(FloatProgress(value=0.0, max=50.0), HTML(value='')))"
      ]
     },
     "metadata": {},
     "output_type": "display_data"
    },
    {
     "name": "stdout",
     "output_type": "stream",
     "text": [
      "\n",
      "Avgerage Accumulated Reward: -5 | Loss: 0.09350056946277618\n",
      "Episode 2051\n"
     ]
    },
    {
     "data": {
      "application/vnd.jupyter.widget-view+json": {
       "model_id": "47e73c8137e34a1d8c2f5cfb94ac6af4",
       "version_major": 2,
       "version_minor": 0
      },
      "text/plain": [
       "HBox(children=(FloatProgress(value=0.0, max=50.0), HTML(value='')))"
      ]
     },
     "metadata": {},
     "output_type": "display_data"
    },
    {
     "name": "stdout",
     "output_type": "stream",
     "text": [
      "\n",
      "Avgerage Accumulated Reward: -5 | Loss: 0.09413115680217743\n",
      "Episode 2101\n"
     ]
    },
    {
     "data": {
      "application/vnd.jupyter.widget-view+json": {
       "model_id": "d3e37c8fec22479e8e2193045b757ba1",
       "version_major": 2,
       "version_minor": 0
      },
      "text/plain": [
       "HBox(children=(FloatProgress(value=0.0, max=50.0), HTML(value='')))"
      ]
     },
     "metadata": {},
     "output_type": "display_data"
    },
    {
     "name": "stdout",
     "output_type": "stream",
     "text": [
      "\n",
      "Avgerage Accumulated Reward: -5 | Loss: 0.06171359866857529\n",
      "Episode 2151\n"
     ]
    },
    {
     "data": {
      "application/vnd.jupyter.widget-view+json": {
       "model_id": "bb33d186e31f4bbeadbe56d3fbaf494b",
       "version_major": 2,
       "version_minor": 0
      },
      "text/plain": [
       "HBox(children=(FloatProgress(value=0.0, max=50.0), HTML(value='')))"
      ]
     },
     "metadata": {},
     "output_type": "display_data"
    },
    {
     "name": "stdout",
     "output_type": "stream",
     "text": [
      "\n",
      "Avgerage Accumulated Reward: -5 | Loss: 0.07340562343597412\n",
      "Episode 2201\n"
     ]
    },
    {
     "data": {
      "application/vnd.jupyter.widget-view+json": {
       "model_id": "a7261f5209204266a016c42dbb805662",
       "version_major": 2,
       "version_minor": 0
      },
      "text/plain": [
       "HBox(children=(FloatProgress(value=0.0, max=50.0), HTML(value='')))"
      ]
     },
     "metadata": {},
     "output_type": "display_data"
    },
    {
     "name": "stdout",
     "output_type": "stream",
     "text": [
      "\n",
      "Avgerage Accumulated Reward: -5 | Loss: 0.07862420380115509\n",
      "Episode 2251\n"
     ]
    },
    {
     "data": {
      "application/vnd.jupyter.widget-view+json": {
       "model_id": "52a3102d4cbc4ec681ee4734e39502a3",
       "version_major": 2,
       "version_minor": 0
      },
      "text/plain": [
       "HBox(children=(FloatProgress(value=0.0, max=50.0), HTML(value='')))"
      ]
     },
     "metadata": {},
     "output_type": "display_data"
    },
    {
     "name": "stdout",
     "output_type": "stream",
     "text": [
      "\n",
      "Avgerage Accumulated Reward: -5 | Loss: 0.059931498020887375\n",
      "Episode 2301\n"
     ]
    },
    {
     "data": {
      "application/vnd.jupyter.widget-view+json": {
       "model_id": "e65a19d98fac471497e500bfd48540bc",
       "version_major": 2,
       "version_minor": 0
      },
      "text/plain": [
       "HBox(children=(FloatProgress(value=0.0, max=50.0), HTML(value='')))"
      ]
     },
     "metadata": {},
     "output_type": "display_data"
    },
    {
     "name": "stdout",
     "output_type": "stream",
     "text": [
      "\n",
      "Avgerage Accumulated Reward: -5 | Loss: 0.10559942573308945\n",
      "Episode 2351\n"
     ]
    },
    {
     "data": {
      "application/vnd.jupyter.widget-view+json": {
       "model_id": "b6f087b3b8114296b0cee344c624fcaf",
       "version_major": 2,
       "version_minor": 0
      },
      "text/plain": [
       "HBox(children=(FloatProgress(value=0.0, max=50.0), HTML(value='')))"
      ]
     },
     "metadata": {},
     "output_type": "display_data"
    },
    {
     "name": "stdout",
     "output_type": "stream",
     "text": [
      "\n",
      "Avgerage Accumulated Reward: -5 | Loss: 0.14638783037662506\n",
      "Episode 2401\n"
     ]
    },
    {
     "data": {
      "application/vnd.jupyter.widget-view+json": {
       "model_id": "638952705f7045389c5db11c559acea5",
       "version_major": 2,
       "version_minor": 0
      },
      "text/plain": [
       "HBox(children=(FloatProgress(value=0.0, max=50.0), HTML(value='')))"
      ]
     },
     "metadata": {},
     "output_type": "display_data"
    },
    {
     "name": "stdout",
     "output_type": "stream",
     "text": [
      "\n",
      "Avgerage Accumulated Reward: -5 | Loss: 0.18928058445453644\n",
      "Episode 2451\n"
     ]
    },
    {
     "data": {
      "application/vnd.jupyter.widget-view+json": {
       "model_id": "b3a75b4f4108413c926baba913d34c5b",
       "version_major": 2,
       "version_minor": 0
      },
      "text/plain": [
       "HBox(children=(FloatProgress(value=0.0, max=50.0), HTML(value='')))"
      ]
     },
     "metadata": {},
     "output_type": "display_data"
    },
    {
     "name": "stdout",
     "output_type": "stream",
     "text": [
      "\n",
      "Avgerage Accumulated Reward: -5 | Loss: 0.05423232913017273\n",
      "Episode 2501\n"
     ]
    },
    {
     "data": {
      "application/vnd.jupyter.widget-view+json": {
       "model_id": "5102339975b0458aba39dad09b1df3ba",
       "version_major": 2,
       "version_minor": 0
      },
      "text/plain": [
       "HBox(children=(FloatProgress(value=0.0, max=50.0), HTML(value='')))"
      ]
     },
     "metadata": {},
     "output_type": "display_data"
    },
    {
     "name": "stdout",
     "output_type": "stream",
     "text": [
      "\n",
      "Avgerage Accumulated Reward: -5 | Loss: 0.15383891761302948\n",
      "Episode 2951\n"
     ]
    },
    {
     "data": {
      "application/vnd.jupyter.widget-view+json": {
       "model_id": "e820604e9ae84a699ffc43a9705003ae",
       "version_major": 2,
       "version_minor": 0
      },
      "text/plain": [
       "HBox(children=(FloatProgress(value=0.0, max=50.0), HTML(value='')))"
      ]
     },
     "metadata": {},
     "output_type": "display_data"
    },
    {
     "name": "stdout",
     "output_type": "stream",
     "text": [
      "\n",
      "Avgerage Accumulated Reward: -5 | Loss: 1.0574079751968384\n",
      "Episode 3001\n"
     ]
    },
    {
     "data": {
      "application/vnd.jupyter.widget-view+json": {
       "model_id": "3fa3c2175a1f4194b7b667f4a4de5674",
       "version_major": 2,
       "version_minor": 0
      },
      "text/plain": [
       "HBox(children=(FloatProgress(value=0.0, max=50.0), HTML(value='')))"
      ]
     },
     "metadata": {},
     "output_type": "display_data"
    },
    {
     "name": "stdout",
     "output_type": "stream",
     "text": [
      "\n",
      "Avgerage Accumulated Reward: -5 | Loss: 6.617269515991211\n",
      "Episode 3051\n"
     ]
    },
    {
     "data": {
      "application/vnd.jupyter.widget-view+json": {
       "model_id": "98b39604e1cb4e54a5e4f747ed588d3b",
       "version_major": 2,
       "version_minor": 0
      },
      "text/plain": [
       "HBox(children=(FloatProgress(value=0.0, max=50.0), HTML(value='')))"
      ]
     },
     "metadata": {},
     "output_type": "display_data"
    },
    {
     "name": "stdout",
     "output_type": "stream",
     "text": [
      "\n",
      "Avgerage Accumulated Reward: -5 | Loss: 8.485738754272461\n",
      "Episode 3101\n"
     ]
    },
    {
     "data": {
      "application/vnd.jupyter.widget-view+json": {
       "model_id": "715ce71c5cc545478c7883afb5693e4e",
       "version_major": 2,
       "version_minor": 0
      },
      "text/plain": [
       "HBox(children=(FloatProgress(value=0.0, max=50.0), HTML(value='')))"
      ]
     },
     "metadata": {},
     "output_type": "display_data"
    },
    {
     "name": "stdout",
     "output_type": "stream",
     "text": [
      "\n",
      "Avgerage Accumulated Reward: -5 | Loss: 1.6134321689605713\n",
      "Episode 3151\n"
     ]
    },
    {
     "data": {
      "application/vnd.jupyter.widget-view+json": {
       "model_id": "fd17d2a8f4654e50b4e8fae652712cff",
       "version_major": 2,
       "version_minor": 0
      },
      "text/plain": [
       "HBox(children=(FloatProgress(value=0.0, max=50.0), HTML(value='')))"
      ]
     },
     "metadata": {},
     "output_type": "display_data"
    },
    {
     "name": "stdout",
     "output_type": "stream",
     "text": [
      "\n",
      "Avgerage Accumulated Reward: -5 | Loss: 1.1847244501113892\n",
      "Episode 3201\n"
     ]
    },
    {
     "data": {
      "application/vnd.jupyter.widget-view+json": {
       "model_id": "e02dd3bafca74aabb63f89fe5dc1d9b9",
       "version_major": 2,
       "version_minor": 0
      },
      "text/plain": [
       "HBox(children=(FloatProgress(value=0.0, max=50.0), HTML(value='')))"
      ]
     },
     "metadata": {},
     "output_type": "display_data"
    },
    {
     "name": "stdout",
     "output_type": "stream",
     "text": [
      "\n",
      "Avgerage Accumulated Reward: -5 | Loss: 0.8696580529212952\n",
      "Episode 3251\n"
     ]
    },
    {
     "data": {
      "application/vnd.jupyter.widget-view+json": {
       "model_id": "621cdb9043e8448a9261c9ff42fe9486",
       "version_major": 2,
       "version_minor": 0
      },
      "text/plain": [
       "HBox(children=(FloatProgress(value=0.0, max=50.0), HTML(value='')))"
      ]
     },
     "metadata": {},
     "output_type": "display_data"
    },
    {
     "name": "stdout",
     "output_type": "stream",
     "text": [
      "\n",
      "Avgerage Accumulated Reward: -5 | Loss: 0.23179864883422852\n",
      "Episode 3301\n"
     ]
    },
    {
     "data": {
      "application/vnd.jupyter.widget-view+json": {
       "model_id": "744f87fd83054d268d5f6ab5cab7d726",
       "version_major": 2,
       "version_minor": 0
      },
      "text/plain": [
       "HBox(children=(FloatProgress(value=0.0, max=50.0), HTML(value='')))"
      ]
     },
     "metadata": {},
     "output_type": "display_data"
    },
    {
     "name": "stdout",
     "output_type": "stream",
     "text": [
      "\n",
      "Avgerage Accumulated Reward: -5 | Loss: 0.10214167833328247\n",
      "Episode 3351\n"
     ]
    },
    {
     "data": {
      "application/vnd.jupyter.widget-view+json": {
       "model_id": "6a4938be1cfa4940be98effb78c07294",
       "version_major": 2,
       "version_minor": 0
      },
      "text/plain": [
       "HBox(children=(FloatProgress(value=0.0, max=50.0), HTML(value='')))"
      ]
     },
     "metadata": {},
     "output_type": "display_data"
    },
    {
     "name": "stdout",
     "output_type": "stream",
     "text": [
      "\n",
      "Avgerage Accumulated Reward: -5 | Loss: 0.1739106923341751\n",
      "Episode 3401\n"
     ]
    },
    {
     "data": {
      "application/vnd.jupyter.widget-view+json": {
       "model_id": "a6ab9b5039e840abb2f667496231ddd5",
       "version_major": 2,
       "version_minor": 0
      },
      "text/plain": [
       "HBox(children=(FloatProgress(value=0.0, max=50.0), HTML(value='')))"
      ]
     },
     "metadata": {},
     "output_type": "display_data"
    },
    {
     "name": "stdout",
     "output_type": "stream",
     "text": [
      "\n",
      "Avgerage Accumulated Reward: -5 | Loss: 0.8683975338935852\n",
      "Episode 3451\n"
     ]
    },
    {
     "data": {
      "application/vnd.jupyter.widget-view+json": {
       "model_id": "24064ee6fca949078c852323725b7120",
       "version_major": 2,
       "version_minor": 0
      },
      "text/plain": [
       "HBox(children=(FloatProgress(value=0.0, max=50.0), HTML(value='')))"
      ]
     },
     "metadata": {},
     "output_type": "display_data"
    },
    {
     "name": "stdout",
     "output_type": "stream",
     "text": [
      "\n",
      "Avgerage Accumulated Reward: -5 | Loss: 8.216297149658203\n",
      "Episode 3501\n"
     ]
    },
    {
     "data": {
      "application/vnd.jupyter.widget-view+json": {
       "model_id": "ba15b254a2bf42beac6033f3eacf5ce8",
       "version_major": 2,
       "version_minor": 0
      },
      "text/plain": [
       "HBox(children=(FloatProgress(value=0.0, max=50.0), HTML(value='')))"
      ]
     },
     "metadata": {},
     "output_type": "display_data"
    },
    {
     "name": "stdout",
     "output_type": "stream",
     "text": [
      "\n",
      "Avgerage Accumulated Reward: -5 | Loss: 4.16827917098999\n",
      "Episode 3551\n"
     ]
    },
    {
     "data": {
      "application/vnd.jupyter.widget-view+json": {
       "model_id": "89feed4997ad4af48600c6b48b4ac2b2",
       "version_major": 2,
       "version_minor": 0
      },
      "text/plain": [
       "HBox(children=(FloatProgress(value=0.0, max=50.0), HTML(value='')))"
      ]
     },
     "metadata": {},
     "output_type": "display_data"
    },
    {
     "name": "stdout",
     "output_type": "stream",
     "text": [
      "\n",
      "Avgerage Accumulated Reward: -5 | Loss: 0.46401143074035645\n",
      "Episode 3601\n"
     ]
    },
    {
     "data": {
      "application/vnd.jupyter.widget-view+json": {
       "model_id": "f71a8d79e54346688a8e6ff911432732",
       "version_major": 2,
       "version_minor": 0
      },
      "text/plain": [
       "HBox(children=(FloatProgress(value=0.0, max=50.0), HTML(value='')))"
      ]
     },
     "metadata": {},
     "output_type": "display_data"
    },
    {
     "name": "stdout",
     "output_type": "stream",
     "text": [
      "\n",
      "Avgerage Accumulated Reward: -5 | Loss: 0.22071188688278198\n",
      "Episode 3651\n"
     ]
    },
    {
     "data": {
      "application/vnd.jupyter.widget-view+json": {
       "model_id": "100111ab7e8e449b8c590dfeea9fc31f",
       "version_major": 2,
       "version_minor": 0
      },
      "text/plain": [
       "HBox(children=(FloatProgress(value=0.0, max=50.0), HTML(value='')))"
      ]
     },
     "metadata": {},
     "output_type": "display_data"
    },
    {
     "name": "stdout",
     "output_type": "stream",
     "text": [
      "\n",
      "Avgerage Accumulated Reward: -5 | Loss: 0.15563195943832397\n",
      "Episode 3701\n"
     ]
    },
    {
     "data": {
      "application/vnd.jupyter.widget-view+json": {
       "model_id": "e7b204da4e7940c38e094a2b71e50c50",
       "version_major": 2,
       "version_minor": 0
      },
      "text/plain": [
       "HBox(children=(FloatProgress(value=0.0, max=50.0), HTML(value='')))"
      ]
     },
     "metadata": {},
     "output_type": "display_data"
    },
    {
     "name": "stdout",
     "output_type": "stream",
     "text": [
      "\n",
      "Avgerage Accumulated Reward: -5 | Loss: 0.09788233786821365\n",
      "Episode 3751\n"
     ]
    },
    {
     "data": {
      "application/vnd.jupyter.widget-view+json": {
       "model_id": "470e32ead0a5407c9417f48966fcbcc3",
       "version_major": 2,
       "version_minor": 0
      },
      "text/plain": [
       "HBox(children=(FloatProgress(value=0.0, max=50.0), HTML(value='')))"
      ]
     },
     "metadata": {},
     "output_type": "display_data"
    },
    {
     "name": "stdout",
     "output_type": "stream",
     "text": [
      "\n",
      "Avgerage Accumulated Reward: -5 | Loss: 0.052450619637966156\n",
      "Episode 3801\n"
     ]
    },
    {
     "data": {
      "application/vnd.jupyter.widget-view+json": {
       "model_id": "b4696e4ead5a46708041711ecb0f368e",
       "version_major": 2,
       "version_minor": 0
      },
      "text/plain": [
       "HBox(children=(FloatProgress(value=0.0, max=50.0), HTML(value='')))"
      ]
     },
     "metadata": {},
     "output_type": "display_data"
    },
    {
     "name": "stdout",
     "output_type": "stream",
     "text": [
      "\n",
      "Avgerage Accumulated Reward: -5 | Loss: 0.045643892139196396\n",
      "Episode 3851\n"
     ]
    },
    {
     "data": {
      "application/vnd.jupyter.widget-view+json": {
       "model_id": "f3cb21b10d464e36bd40d3d4e22e4156",
       "version_major": 2,
       "version_minor": 0
      },
      "text/plain": [
       "HBox(children=(FloatProgress(value=0.0, max=50.0), HTML(value='')))"
      ]
     },
     "metadata": {},
     "output_type": "display_data"
    },
    {
     "name": "stdout",
     "output_type": "stream",
     "text": [
      "\n",
      "Avgerage Accumulated Reward: -5 | Loss: 0.04928258806467056\n",
      "Episode 3901\n"
     ]
    },
    {
     "data": {
      "application/vnd.jupyter.widget-view+json": {
       "model_id": "75d166ea438f45cbbe5b6941e9a2030e",
       "version_major": 2,
       "version_minor": 0
      },
      "text/plain": [
       "HBox(children=(FloatProgress(value=0.0, max=50.0), HTML(value='')))"
      ]
     },
     "metadata": {},
     "output_type": "display_data"
    },
    {
     "name": "stdout",
     "output_type": "stream",
     "text": [
      "\n",
      "Avgerage Accumulated Reward: -5 | Loss: 0.06071878597140312\n",
      "Episode 3951\n"
     ]
    },
    {
     "data": {
      "application/vnd.jupyter.widget-view+json": {
       "model_id": "597fdb6779e944229c184420950065c8",
       "version_major": 2,
       "version_minor": 0
      },
      "text/plain": [
       "HBox(children=(FloatProgress(value=0.0, max=50.0), HTML(value='')))"
      ]
     },
     "metadata": {},
     "output_type": "display_data"
    },
    {
     "name": "stdout",
     "output_type": "stream",
     "text": [
      "\n",
      "Avgerage Accumulated Reward: -5 | Loss: 0.04309516027569771\n",
      "Episode 4001\n"
     ]
    },
    {
     "data": {
      "application/vnd.jupyter.widget-view+json": {
       "model_id": "61399c99b805481f94ed5781136c748c",
       "version_major": 2,
       "version_minor": 0
      },
      "text/plain": [
       "HBox(children=(FloatProgress(value=0.0, max=50.0), HTML(value='')))"
      ]
     },
     "metadata": {},
     "output_type": "display_data"
    },
    {
     "name": "stdout",
     "output_type": "stream",
     "text": [
      "\n",
      "Avgerage Accumulated Reward: -5 | Loss: 0.05446299538016319\n",
      "Episode 4051\n"
     ]
    },
    {
     "data": {
      "application/vnd.jupyter.widget-view+json": {
       "model_id": "55bc9ccbc01345898c6e738eb518b1eb",
       "version_major": 2,
       "version_minor": 0
      },
      "text/plain": [
       "HBox(children=(FloatProgress(value=0.0, max=50.0), HTML(value='')))"
      ]
     },
     "metadata": {},
     "output_type": "display_data"
    },
    {
     "name": "stdout",
     "output_type": "stream",
     "text": [
      "\n",
      "Avgerage Accumulated Reward: -5 | Loss: 0.056219786405563354\n",
      "Episode 4101\n"
     ]
    },
    {
     "data": {
      "application/vnd.jupyter.widget-view+json": {
       "model_id": "ece9e843dde44d2fa8f5a6080aa70c32",
       "version_major": 2,
       "version_minor": 0
      },
      "text/plain": [
       "HBox(children=(FloatProgress(value=0.0, max=50.0), HTML(value='')))"
      ]
     },
     "metadata": {},
     "output_type": "display_data"
    },
    {
     "name": "stdout",
     "output_type": "stream",
     "text": [
      "\n",
      "Avgerage Accumulated Reward: -5 | Loss: 0.03474864736199379\n",
      "Episode 4151\n"
     ]
    },
    {
     "data": {
      "application/vnd.jupyter.widget-view+json": {
       "model_id": "3369e92c61124f8f88cfcd78f994c116",
       "version_major": 2,
       "version_minor": 0
      },
      "text/plain": [
       "HBox(children=(FloatProgress(value=0.0, max=50.0), HTML(value='')))"
      ]
     },
     "metadata": {},
     "output_type": "display_data"
    },
    {
     "name": "stdout",
     "output_type": "stream",
     "text": [
      "\n",
      "Avgerage Accumulated Reward: -5 | Loss: 0.06807587295770645\n",
      "Episode 4201\n"
     ]
    },
    {
     "data": {
      "application/vnd.jupyter.widget-view+json": {
       "model_id": "deacf09f6dbc4da9b93ace13fbd4a769",
       "version_major": 2,
       "version_minor": 0
      },
      "text/plain": [
       "HBox(children=(FloatProgress(value=0.0, max=50.0), HTML(value='')))"
      ]
     },
     "metadata": {},
     "output_type": "display_data"
    },
    {
     "name": "stdout",
     "output_type": "stream",
     "text": [
      "\n",
      "Avgerage Accumulated Reward: -5 | Loss: 0.07688756287097931\n",
      "Episode 4251\n"
     ]
    },
    {
     "data": {
      "application/vnd.jupyter.widget-view+json": {
       "model_id": "36cce98caea042d5a3381bf87c87d115",
       "version_major": 2,
       "version_minor": 0
      },
      "text/plain": [
       "HBox(children=(FloatProgress(value=0.0, max=50.0), HTML(value='')))"
      ]
     },
     "metadata": {},
     "output_type": "display_data"
    },
    {
     "name": "stdout",
     "output_type": "stream",
     "text": [
      "\n",
      "Avgerage Accumulated Reward: -5 | Loss: 0.03437935933470726\n",
      "Episode 4301\n"
     ]
    },
    {
     "data": {
      "application/vnd.jupyter.widget-view+json": {
       "model_id": "3f2c481ae2c64c76a08300f10722e74e",
       "version_major": 2,
       "version_minor": 0
      },
      "text/plain": [
       "HBox(children=(FloatProgress(value=0.0, max=50.0), HTML(value='')))"
      ]
     },
     "metadata": {},
     "output_type": "display_data"
    },
    {
     "name": "stdout",
     "output_type": "stream",
     "text": [
      "\n",
      "Avgerage Accumulated Reward: -5 | Loss: 0.03952638804912567\n",
      "Episode 4351\n"
     ]
    },
    {
     "data": {
      "application/vnd.jupyter.widget-view+json": {
       "model_id": "9ec50d3dc545499e98d6d0324b24e3e8",
       "version_major": 2,
       "version_minor": 0
      },
      "text/plain": [
       "HBox(children=(FloatProgress(value=0.0, max=50.0), HTML(value='')))"
      ]
     },
     "metadata": {},
     "output_type": "display_data"
    },
    {
     "name": "stdout",
     "output_type": "stream",
     "text": [
      "\n",
      "Avgerage Accumulated Reward: -5 | Loss: 0.0195245873183012\n",
      "Episode 4401\n"
     ]
    },
    {
     "data": {
      "application/vnd.jupyter.widget-view+json": {
       "model_id": "9a50523c38f44f3f9aac4d2f9e18c629",
       "version_major": 2,
       "version_minor": 0
      },
      "text/plain": [
       "HBox(children=(FloatProgress(value=0.0, max=50.0), HTML(value='')))"
      ]
     },
     "metadata": {},
     "output_type": "display_data"
    },
    {
     "name": "stdout",
     "output_type": "stream",
     "text": [
      "\n",
      "Avgerage Accumulated Reward: -5 | Loss: 0.02204897254705429\n",
      "Episode 4451\n"
     ]
    },
    {
     "data": {
      "application/vnd.jupyter.widget-view+json": {
       "model_id": "45836bff6f9f49fdb3ca9ae6cee9d7a7",
       "version_major": 2,
       "version_minor": 0
      },
      "text/plain": [
       "HBox(children=(FloatProgress(value=0.0, max=50.0), HTML(value='')))"
      ]
     },
     "metadata": {},
     "output_type": "display_data"
    },
    {
     "name": "stdout",
     "output_type": "stream",
     "text": [
      "\n",
      "Avgerage Accumulated Reward: -5 | Loss: 0.03981387987732887\n",
      "Episode 4501\n"
     ]
    },
    {
     "data": {
      "application/vnd.jupyter.widget-view+json": {
       "model_id": "bf9cf704fe07419d895edca03ee980b7",
       "version_major": 2,
       "version_minor": 0
      },
      "text/plain": [
       "HBox(children=(FloatProgress(value=0.0, max=50.0), HTML(value='')))"
      ]
     },
     "metadata": {},
     "output_type": "display_data"
    },
    {
     "name": "stdout",
     "output_type": "stream",
     "text": [
      "\n",
      "Avgerage Accumulated Reward: -5 | Loss: 0.06209429353475571\n",
      "Episode 4551\n"
     ]
    },
    {
     "data": {
      "application/vnd.jupyter.widget-view+json": {
       "model_id": "e39bfb52935a4335a0954fc8ce101973",
       "version_major": 2,
       "version_minor": 0
      },
      "text/plain": [
       "HBox(children=(FloatProgress(value=0.0, max=50.0), HTML(value='')))"
      ]
     },
     "metadata": {},
     "output_type": "display_data"
    },
    {
     "name": "stdout",
     "output_type": "stream",
     "text": [
      "\n",
      "Avgerage Accumulated Reward: -5 | Loss: 0.023848164826631546\n",
      "Episode 4601\n"
     ]
    },
    {
     "data": {
      "application/vnd.jupyter.widget-view+json": {
       "model_id": "3d75d0b749274c0497eb9d9f7d2b18e8",
       "version_major": 2,
       "version_minor": 0
      },
      "text/plain": [
       "HBox(children=(FloatProgress(value=0.0, max=50.0), HTML(value='')))"
      ]
     },
     "metadata": {},
     "output_type": "display_data"
    },
    {
     "name": "stdout",
     "output_type": "stream",
     "text": [
      "\n",
      "Avgerage Accumulated Reward: -5 | Loss: 0.06941287964582443\n",
      "Episode 4651\n"
     ]
    },
    {
     "data": {
      "application/vnd.jupyter.widget-view+json": {
       "model_id": "2db19b1c816243ea92dca8011dcf403d",
       "version_major": 2,
       "version_minor": 0
      },
      "text/plain": [
       "HBox(children=(FloatProgress(value=0.0, max=50.0), HTML(value='')))"
      ]
     },
     "metadata": {},
     "output_type": "display_data"
    },
    {
     "name": "stdout",
     "output_type": "stream",
     "text": [
      "\n",
      "Avgerage Accumulated Reward: -5 | Loss: 0.07592926919460297\n",
      "Episode 4701\n"
     ]
    },
    {
     "data": {
      "application/vnd.jupyter.widget-view+json": {
       "model_id": "eda284930dbe441dabc1735d0169fd1f",
       "version_major": 2,
       "version_minor": 0
      },
      "text/plain": [
       "HBox(children=(FloatProgress(value=0.0, max=50.0), HTML(value='')))"
      ]
     },
     "metadata": {},
     "output_type": "display_data"
    },
    {
     "name": "stdout",
     "output_type": "stream",
     "text": [
      "\n",
      "Avgerage Accumulated Reward: -5 | Loss: 0.03730307146906853\n",
      "Episode 4751\n"
     ]
    },
    {
     "data": {
      "application/vnd.jupyter.widget-view+json": {
       "model_id": "659d9ea63ffb494f9cb644206ff2ddc2",
       "version_major": 2,
       "version_minor": 0
      },
      "text/plain": [
       "HBox(children=(FloatProgress(value=0.0, max=50.0), HTML(value='')))"
      ]
     },
     "metadata": {},
     "output_type": "display_data"
    },
    {
     "name": "stdout",
     "output_type": "stream",
     "text": [
      "\n",
      "Avgerage Accumulated Reward: -5 | Loss: 0.22763867676258087\n",
      "Episode 4801\n"
     ]
    },
    {
     "data": {
      "application/vnd.jupyter.widget-view+json": {
       "model_id": "351634377ec748d6bdfd11a70e91634c",
       "version_major": 2,
       "version_minor": 0
      },
      "text/plain": [
       "HBox(children=(FloatProgress(value=0.0, max=50.0), HTML(value='')))"
      ]
     },
     "metadata": {},
     "output_type": "display_data"
    },
    {
     "name": "stdout",
     "output_type": "stream",
     "text": [
      "\n",
      "Avgerage Accumulated Reward: -5 | Loss: 0.20312456786632538\n",
      "Episode 4851\n"
     ]
    },
    {
     "data": {
      "application/vnd.jupyter.widget-view+json": {
       "model_id": "011ef07eae9c471e93ba4e4c0d0ee496",
       "version_major": 2,
       "version_minor": 0
      },
      "text/plain": [
       "HBox(children=(FloatProgress(value=0.0, max=50.0), HTML(value='')))"
      ]
     },
     "metadata": {},
     "output_type": "display_data"
    },
    {
     "name": "stdout",
     "output_type": "stream",
     "text": [
      "\n",
      "Avgerage Accumulated Reward: -5 | Loss: 0.08190905302762985\n",
      "Episode 4901\n"
     ]
    },
    {
     "data": {
      "application/vnd.jupyter.widget-view+json": {
       "model_id": "da83ac4828b84db9b556e2c82fab31b9",
       "version_major": 2,
       "version_minor": 0
      },
      "text/plain": [
       "HBox(children=(FloatProgress(value=0.0, max=50.0), HTML(value='')))"
      ]
     },
     "metadata": {},
     "output_type": "display_data"
    },
    {
     "name": "stdout",
     "output_type": "stream",
     "text": [
      "\n",
      "Avgerage Accumulated Reward: -5 | Loss: 0.2203885018825531\n",
      "Episode 4951\n"
     ]
    },
    {
     "data": {
      "application/vnd.jupyter.widget-view+json": {
       "model_id": "0f4c9cdbc40740fa971aad60b342a36d",
       "version_major": 2,
       "version_minor": 0
      },
      "text/plain": [
       "HBox(children=(FloatProgress(value=0.0, max=50.0), HTML(value='')))"
      ]
     },
     "metadata": {},
     "output_type": "display_data"
    },
    {
     "name": "stdout",
     "output_type": "stream",
     "text": [
      "\n",
      "Avgerage Accumulated Reward: -5 | Loss: 0.05900636315345764\n",
      "Episode 5001\n"
     ]
    },
    {
     "data": {
      "application/vnd.jupyter.widget-view+json": {
       "model_id": "ee5542c9147040828df99aa3c35cc93a",
       "version_major": 2,
       "version_minor": 0
      },
      "text/plain": [
       "HBox(children=(FloatProgress(value=0.0, max=50.0), HTML(value='')))"
      ]
     },
     "metadata": {},
     "output_type": "display_data"
    },
    {
     "name": "stdout",
     "output_type": "stream",
     "text": [
      "\n",
      "Avgerage Accumulated Reward: -5 | Loss: 0.057474490255117416\n",
      "Episode 5051\n"
     ]
    },
    {
     "data": {
      "application/vnd.jupyter.widget-view+json": {
       "model_id": "7bb8626d464b4b04a3f8c81300ec2f17",
       "version_major": 2,
       "version_minor": 0
      },
      "text/plain": [
       "HBox(children=(FloatProgress(value=0.0, max=50.0), HTML(value='')))"
      ]
     },
     "metadata": {},
     "output_type": "display_data"
    },
    {
     "name": "stdout",
     "output_type": "stream",
     "text": [
      "\n",
      "Avgerage Accumulated Reward: -5 | Loss: 0.07227997481822968\n",
      "Episode 5101\n"
     ]
    },
    {
     "data": {
      "application/vnd.jupyter.widget-view+json": {
       "model_id": "8c4e160c60d34038866af685a68a2bfa",
       "version_major": 2,
       "version_minor": 0
      },
      "text/plain": [
       "HBox(children=(FloatProgress(value=0.0, max=50.0), HTML(value='')))"
      ]
     },
     "metadata": {},
     "output_type": "display_data"
    },
    {
     "name": "stdout",
     "output_type": "stream",
     "text": [
      "\n",
      "Avgerage Accumulated Reward: -5 | Loss: 0.13686417043209076\n",
      "Episode 5151\n"
     ]
    },
    {
     "data": {
      "application/vnd.jupyter.widget-view+json": {
       "model_id": "7457321abc4d4d1e8442cf26433800cd",
       "version_major": 2,
       "version_minor": 0
      },
      "text/plain": [
       "HBox(children=(FloatProgress(value=0.0, max=50.0), HTML(value='')))"
      ]
     },
     "metadata": {},
     "output_type": "display_data"
    },
    {
     "name": "stdout",
     "output_type": "stream",
     "text": [
      "\n",
      "Avgerage Accumulated Reward: -5 | Loss: 0.43970221281051636\n",
      "Episode 5201\n"
     ]
    },
    {
     "data": {
      "application/vnd.jupyter.widget-view+json": {
       "model_id": "ddaa12ec0d8a477a837ea8ce4cf03db3",
       "version_major": 2,
       "version_minor": 0
      },
      "text/plain": [
       "HBox(children=(FloatProgress(value=0.0, max=50.0), HTML(value='')))"
      ]
     },
     "metadata": {},
     "output_type": "display_data"
    },
    {
     "name": "stdout",
     "output_type": "stream",
     "text": [
      "\n",
      "Avgerage Accumulated Reward: -5 | Loss: 0.08396455645561218\n",
      "Episode 5251\n"
     ]
    },
    {
     "data": {
      "application/vnd.jupyter.widget-view+json": {
       "model_id": "08c1bdb32f7b42eea14efb1a4bf7b428",
       "version_major": 2,
       "version_minor": 0
      },
      "text/plain": [
       "HBox(children=(FloatProgress(value=0.0, max=50.0), HTML(value='')))"
      ]
     },
     "metadata": {},
     "output_type": "display_data"
    },
    {
     "name": "stdout",
     "output_type": "stream",
     "text": [
      "\n",
      "Avgerage Accumulated Reward: -5 | Loss: 0.33229705691337585\n",
      "Episode 5301\n"
     ]
    },
    {
     "data": {
      "application/vnd.jupyter.widget-view+json": {
       "model_id": "a13d11ace0c54ec195f88f48be972099",
       "version_major": 2,
       "version_minor": 0
      },
      "text/plain": [
       "HBox(children=(FloatProgress(value=0.0, max=50.0), HTML(value='')))"
      ]
     },
     "metadata": {},
     "output_type": "display_data"
    },
    {
     "name": "stdout",
     "output_type": "stream",
     "text": [
      "\n",
      "Avgerage Accumulated Reward: -5 | Loss: 1.9118832349777222\n",
      "Episode 5351\n"
     ]
    },
    {
     "data": {
      "application/vnd.jupyter.widget-view+json": {
       "model_id": "29d45baac13843468ea503748e0c5914",
       "version_major": 2,
       "version_minor": 0
      },
      "text/plain": [
       "HBox(children=(FloatProgress(value=0.0, max=50.0), HTML(value='')))"
      ]
     },
     "metadata": {},
     "output_type": "display_data"
    },
    {
     "name": "stdout",
     "output_type": "stream",
     "text": [
      "\n",
      "Avgerage Accumulated Reward: -5 | Loss: 16.530241012573242\n",
      "Episode 5401\n"
     ]
    },
    {
     "data": {
      "application/vnd.jupyter.widget-view+json": {
       "model_id": "c8e97462d5314d28b711fd44e2b9907f",
       "version_major": 2,
       "version_minor": 0
      },
      "text/plain": [
       "HBox(children=(FloatProgress(value=0.0, max=50.0), HTML(value='')))"
      ]
     },
     "metadata": {},
     "output_type": "display_data"
    },
    {
     "name": "stdout",
     "output_type": "stream",
     "text": [
      "\n",
      "Avgerage Accumulated Reward: -5 | Loss: 38.5173454284668\n",
      "Episode 5451\n"
     ]
    },
    {
     "data": {
      "application/vnd.jupyter.widget-view+json": {
       "model_id": "38b6c083a5cd44a0ba4eee44bef6a6c3",
       "version_major": 2,
       "version_minor": 0
      },
      "text/plain": [
       "HBox(children=(FloatProgress(value=0.0, max=50.0), HTML(value='')))"
      ]
     },
     "metadata": {},
     "output_type": "display_data"
    },
    {
     "name": "stdout",
     "output_type": "stream",
     "text": [
      "\n",
      "Avgerage Accumulated Reward: -5 | Loss: 5.408092021942139\n",
      "Episode 5501\n"
     ]
    },
    {
     "data": {
      "application/vnd.jupyter.widget-view+json": {
       "model_id": "84534cb005a64d18a836e5077abfad58",
       "version_major": 2,
       "version_minor": 0
      },
      "text/plain": [
       "HBox(children=(FloatProgress(value=0.0, max=50.0), HTML(value='')))"
      ]
     },
     "metadata": {},
     "output_type": "display_data"
    },
    {
     "name": "stdout",
     "output_type": "stream",
     "text": [
      "\n",
      "Avgerage Accumulated Reward: -5 | Loss: 3.231877088546753\n",
      "Episode 5551\n"
     ]
    },
    {
     "data": {
      "application/vnd.jupyter.widget-view+json": {
       "model_id": "00278f59099047f3bf56e1bccfe964ba",
       "version_major": 2,
       "version_minor": 0
      },
      "text/plain": [
       "HBox(children=(FloatProgress(value=0.0, max=50.0), HTML(value='')))"
      ]
     },
     "metadata": {},
     "output_type": "display_data"
    },
    {
     "name": "stdout",
     "output_type": "stream",
     "text": [
      "\n",
      "Avgerage Accumulated Reward: -5 | Loss: 0.7176723480224609\n",
      "Episode 5601\n"
     ]
    },
    {
     "data": {
      "application/vnd.jupyter.widget-view+json": {
       "model_id": "a60939229fc643049fa1f7d130cdfc6d",
       "version_major": 2,
       "version_minor": 0
      },
      "text/plain": [
       "HBox(children=(FloatProgress(value=0.0, max=50.0), HTML(value='')))"
      ]
     },
     "metadata": {},
     "output_type": "display_data"
    },
    {
     "name": "stdout",
     "output_type": "stream",
     "text": [
      "\n",
      "Avgerage Accumulated Reward: -5 | Loss: 0.4797920286655426\n",
      "Episode 5651\n"
     ]
    },
    {
     "data": {
      "application/vnd.jupyter.widget-view+json": {
       "model_id": "1d8afb0275dd48c08f66ccd40256b50f",
       "version_major": 2,
       "version_minor": 0
      },
      "text/plain": [
       "HBox(children=(FloatProgress(value=0.0, max=50.0), HTML(value='')))"
      ]
     },
     "metadata": {},
     "output_type": "display_data"
    },
    {
     "name": "stdout",
     "output_type": "stream",
     "text": [
      "\n",
      "Avgerage Accumulated Reward: -5 | Loss: 0.317618191242218\n",
      "Episode 5701\n"
     ]
    },
    {
     "data": {
      "application/vnd.jupyter.widget-view+json": {
       "model_id": "7879762ca00249e4aef03d6a12de5041",
       "version_major": 2,
       "version_minor": 0
      },
      "text/plain": [
       "HBox(children=(FloatProgress(value=0.0, max=50.0), HTML(value='')))"
      ]
     },
     "metadata": {},
     "output_type": "display_data"
    },
    {
     "name": "stdout",
     "output_type": "stream",
     "text": [
      "\n",
      "Avgerage Accumulated Reward: -5 | Loss: 0.18559645116329193\n",
      "Episode 5751\n"
     ]
    },
    {
     "data": {
      "application/vnd.jupyter.widget-view+json": {
       "model_id": "b47d87be18864262b8bb8e281aae72be",
       "version_major": 2,
       "version_minor": 0
      },
      "text/plain": [
       "HBox(children=(FloatProgress(value=0.0, max=50.0), HTML(value='')))"
      ]
     },
     "metadata": {},
     "output_type": "display_data"
    },
    {
     "name": "stdout",
     "output_type": "stream",
     "text": [
      "\n",
      "Avgerage Accumulated Reward: -5 | Loss: 0.1948103904724121\n",
      "Episode 5801\n"
     ]
    },
    {
     "data": {
      "application/vnd.jupyter.widget-view+json": {
       "model_id": "9335a499b6844374afcd72467c82ac7e",
       "version_major": 2,
       "version_minor": 0
      },
      "text/plain": [
       "HBox(children=(FloatProgress(value=0.0, max=50.0), HTML(value='')))"
      ]
     },
     "metadata": {},
     "output_type": "display_data"
    },
    {
     "name": "stdout",
     "output_type": "stream",
     "text": [
      "\n",
      "Avgerage Accumulated Reward: -5 | Loss: 0.1406441479921341\n",
      "Episode 5851\n"
     ]
    },
    {
     "data": {
      "application/vnd.jupyter.widget-view+json": {
       "model_id": "2a7c2592a4ab49c9a3bc42902ba9c1b2",
       "version_major": 2,
       "version_minor": 0
      },
      "text/plain": [
       "HBox(children=(FloatProgress(value=0.0, max=50.0), HTML(value='')))"
      ]
     },
     "metadata": {},
     "output_type": "display_data"
    },
    {
     "name": "stdout",
     "output_type": "stream",
     "text": [
      "\n",
      "Avgerage Accumulated Reward: -5 | Loss: 0.11763259023427963\n",
      "Episode 5901\n"
     ]
    },
    {
     "data": {
      "application/vnd.jupyter.widget-view+json": {
       "model_id": "de55f19dd5ff492a9dae0af0b38d4e0e",
       "version_major": 2,
       "version_minor": 0
      },
      "text/plain": [
       "HBox(children=(FloatProgress(value=0.0, max=50.0), HTML(value='')))"
      ]
     },
     "metadata": {},
     "output_type": "display_data"
    },
    {
     "name": "stdout",
     "output_type": "stream",
     "text": [
      "\n",
      "Avgerage Accumulated Reward: -5 | Loss: 0.08055204153060913\n",
      "Episode 5951\n"
     ]
    },
    {
     "data": {
      "application/vnd.jupyter.widget-view+json": {
       "model_id": "35ee4e2e3b2b49bda6b7c4fec2c45b0f",
       "version_major": 2,
       "version_minor": 0
      },
      "text/plain": [
       "HBox(children=(FloatProgress(value=0.0, max=50.0), HTML(value='')))"
      ]
     },
     "metadata": {},
     "output_type": "display_data"
    },
    {
     "name": "stdout",
     "output_type": "stream",
     "text": [
      "\n",
      "Avgerage Accumulated Reward: -5 | Loss: 0.09127498418092728\n",
      "Episode 6001\n"
     ]
    },
    {
     "data": {
      "application/vnd.jupyter.widget-view+json": {
       "model_id": "65687b09c322426a857aa0a6bfeca43c",
       "version_major": 2,
       "version_minor": 0
      },
      "text/plain": [
       "HBox(children=(FloatProgress(value=0.0, max=50.0), HTML(value='')))"
      ]
     },
     "metadata": {},
     "output_type": "display_data"
    },
    {
     "name": "stdout",
     "output_type": "stream",
     "text": [
      "\n",
      "Avgerage Accumulated Reward: -5 | Loss: 0.08041837811470032\n",
      "Episode 6051\n"
     ]
    },
    {
     "data": {
      "application/vnd.jupyter.widget-view+json": {
       "model_id": "1206c1e8a3e74cc0b1eb2feec65aa679",
       "version_major": 2,
       "version_minor": 0
      },
      "text/plain": [
       "HBox(children=(FloatProgress(value=0.0, max=50.0), HTML(value='')))"
      ]
     },
     "metadata": {},
     "output_type": "display_data"
    },
    {
     "name": "stdout",
     "output_type": "stream",
     "text": [
      "\n",
      "Avgerage Accumulated Reward: -5 | Loss: 0.06440380215644836\n",
      "Episode 6101\n"
     ]
    },
    {
     "data": {
      "application/vnd.jupyter.widget-view+json": {
       "model_id": "d96e00f3bacb41f4b014561d6446929e",
       "version_major": 2,
       "version_minor": 0
      },
      "text/plain": [
       "HBox(children=(FloatProgress(value=0.0, max=50.0), HTML(value='')))"
      ]
     },
     "metadata": {},
     "output_type": "display_data"
    },
    {
     "name": "stdout",
     "output_type": "stream",
     "text": [
      "\n",
      "Avgerage Accumulated Reward: -5 | Loss: 0.06630419194698334\n",
      "Episode 6151\n"
     ]
    },
    {
     "data": {
      "application/vnd.jupyter.widget-view+json": {
       "model_id": "315045e38a9e48458dd2bfd0d23c418e",
       "version_major": 2,
       "version_minor": 0
      },
      "text/plain": [
       "HBox(children=(FloatProgress(value=0.0, max=50.0), HTML(value='')))"
      ]
     },
     "metadata": {},
     "output_type": "display_data"
    },
    {
     "name": "stdout",
     "output_type": "stream",
     "text": [
      "\n",
      "Avgerage Accumulated Reward: -5 | Loss: 0.07291339337825775\n",
      "Episode 6201\n"
     ]
    },
    {
     "data": {
      "application/vnd.jupyter.widget-view+json": {
       "model_id": "c5f466e7227c431d94ff2d124f5eaeac",
       "version_major": 2,
       "version_minor": 0
      },
      "text/plain": [
       "HBox(children=(FloatProgress(value=0.0, max=50.0), HTML(value='')))"
      ]
     },
     "metadata": {},
     "output_type": "display_data"
    },
    {
     "name": "stdout",
     "output_type": "stream",
     "text": [
      "\n",
      "Avgerage Accumulated Reward: -5 | Loss: 0.044944509863853455\n",
      "Episode 6251\n"
     ]
    },
    {
     "data": {
      "application/vnd.jupyter.widget-view+json": {
       "model_id": "c084ab535e234eeb9dc418f5fdccae8d",
       "version_major": 2,
       "version_minor": 0
      },
      "text/plain": [
       "HBox(children=(FloatProgress(value=0.0, max=50.0), HTML(value='')))"
      ]
     },
     "metadata": {},
     "output_type": "display_data"
    },
    {
     "name": "stdout",
     "output_type": "stream",
     "text": [
      "\n",
      "Avgerage Accumulated Reward: -5 | Loss: 0.0827898308634758\n",
      "Episode 6301\n"
     ]
    },
    {
     "data": {
      "application/vnd.jupyter.widget-view+json": {
       "model_id": "eab536284ddf4fcb9fc566682fc134ca",
       "version_major": 2,
       "version_minor": 0
      },
      "text/plain": [
       "HBox(children=(FloatProgress(value=0.0, max=50.0), HTML(value='')))"
      ]
     },
     "metadata": {},
     "output_type": "display_data"
    },
    {
     "name": "stdout",
     "output_type": "stream",
     "text": [
      "\n",
      "Avgerage Accumulated Reward: -5 | Loss: 0.04817274957895279\n",
      "Episode 6351\n"
     ]
    },
    {
     "data": {
      "application/vnd.jupyter.widget-view+json": {
       "model_id": "8f750e85c6e445c3a2e8a88c625c579b",
       "version_major": 2,
       "version_minor": 0
      },
      "text/plain": [
       "HBox(children=(FloatProgress(value=0.0, max=50.0), HTML(value='')))"
      ]
     },
     "metadata": {},
     "output_type": "display_data"
    },
    {
     "name": "stdout",
     "output_type": "stream",
     "text": [
      "\n",
      "Avgerage Accumulated Reward: -5 | Loss: 0.059529323130846024\n",
      "Episode 6401\n"
     ]
    },
    {
     "data": {
      "application/vnd.jupyter.widget-view+json": {
       "model_id": "ac627455d1c54e3790bba2a7e6ca96d7",
       "version_major": 2,
       "version_minor": 0
      },
      "text/plain": [
       "HBox(children=(FloatProgress(value=0.0, max=50.0), HTML(value='')))"
      ]
     },
     "metadata": {},
     "output_type": "display_data"
    },
    {
     "name": "stdout",
     "output_type": "stream",
     "text": [
      "\n",
      "Avgerage Accumulated Reward: -5 | Loss: 0.03917689621448517\n",
      "Episode 6451\n"
     ]
    },
    {
     "data": {
      "application/vnd.jupyter.widget-view+json": {
       "model_id": "ae6aee2ca08c46bea495573b5f37f16e",
       "version_major": 2,
       "version_minor": 0
      },
      "text/plain": [
       "HBox(children=(FloatProgress(value=0.0, max=50.0), HTML(value='')))"
      ]
     },
     "metadata": {},
     "output_type": "display_data"
    },
    {
     "name": "stdout",
     "output_type": "stream",
     "text": [
      "\n",
      "Avgerage Accumulated Reward: -5 | Loss: 0.04022189974784851\n",
      "Episode 6501\n"
     ]
    },
    {
     "data": {
      "application/vnd.jupyter.widget-view+json": {
       "model_id": "6543d59559a64d34a8c3d64d37b298f6",
       "version_major": 2,
       "version_minor": 0
      },
      "text/plain": [
       "HBox(children=(FloatProgress(value=0.0, max=50.0), HTML(value='')))"
      ]
     },
     "metadata": {},
     "output_type": "display_data"
    },
    {
     "name": "stdout",
     "output_type": "stream",
     "text": [
      "\n",
      "Avgerage Accumulated Reward: -5 | Loss: 0.03839374706149101\n",
      "Episode 6551\n"
     ]
    },
    {
     "data": {
      "application/vnd.jupyter.widget-view+json": {
       "model_id": "d03d7510618947c18a1922770000cb61",
       "version_major": 2,
       "version_minor": 0
      },
      "text/plain": [
       "HBox(children=(FloatProgress(value=0.0, max=50.0), HTML(value='')))"
      ]
     },
     "metadata": {},
     "output_type": "display_data"
    },
    {
     "name": "stdout",
     "output_type": "stream",
     "text": [
      "\n",
      "Avgerage Accumulated Reward: -5 | Loss: 0.1460060030221939\n",
      "Episode 6601\n"
     ]
    },
    {
     "data": {
      "application/vnd.jupyter.widget-view+json": {
       "model_id": "49fbff95c7ab4a87b279feb30f2d0a10",
       "version_major": 2,
       "version_minor": 0
      },
      "text/plain": [
       "HBox(children=(FloatProgress(value=0.0, max=50.0), HTML(value='')))"
      ]
     },
     "metadata": {},
     "output_type": "display_data"
    },
    {
     "name": "stdout",
     "output_type": "stream",
     "text": [
      "\n",
      "Avgerage Accumulated Reward: -5 | Loss: 0.15529270470142365\n",
      "Episode 6651\n"
     ]
    },
    {
     "data": {
      "application/vnd.jupyter.widget-view+json": {
       "model_id": "65d0135bd7d24057b78247e1653496d1",
       "version_major": 2,
       "version_minor": 0
      },
      "text/plain": [
       "HBox(children=(FloatProgress(value=0.0, max=50.0), HTML(value='')))"
      ]
     },
     "metadata": {},
     "output_type": "display_data"
    },
    {
     "name": "stdout",
     "output_type": "stream",
     "text": [
      "\n",
      "Avgerage Accumulated Reward: -5 | Loss: 0.07421904802322388\n",
      "Episode 6701\n"
     ]
    },
    {
     "data": {
      "application/vnd.jupyter.widget-view+json": {
       "model_id": "dc750bd9cf8547e8924f3c48d22c6774",
       "version_major": 2,
       "version_minor": 0
      },
      "text/plain": [
       "HBox(children=(FloatProgress(value=0.0, max=50.0), HTML(value='')))"
      ]
     },
     "metadata": {},
     "output_type": "display_data"
    },
    {
     "name": "stdout",
     "output_type": "stream",
     "text": [
      "\n",
      "Avgerage Accumulated Reward: -5 | Loss: 0.0888684019446373\n",
      "Episode 6751\n"
     ]
    },
    {
     "data": {
      "application/vnd.jupyter.widget-view+json": {
       "model_id": "c492bb0364d54759875915d0eff01001",
       "version_major": 2,
       "version_minor": 0
      },
      "text/plain": [
       "HBox(children=(FloatProgress(value=0.0, max=50.0), HTML(value='')))"
      ]
     },
     "metadata": {},
     "output_type": "display_data"
    },
    {
     "name": "stdout",
     "output_type": "stream",
     "text": [
      "\n",
      "Avgerage Accumulated Reward: -5 | Loss: 0.0462903268635273\n",
      "Episode 6801\n"
     ]
    },
    {
     "data": {
      "application/vnd.jupyter.widget-view+json": {
       "model_id": "6c74dae97c7c45a9a433d0d7ae301f76",
       "version_major": 2,
       "version_minor": 0
      },
      "text/plain": [
       "HBox(children=(FloatProgress(value=0.0, max=50.0), HTML(value='')))"
      ]
     },
     "metadata": {},
     "output_type": "display_data"
    },
    {
     "name": "stdout",
     "output_type": "stream",
     "text": [
      "\n",
      "Avgerage Accumulated Reward: -5 | Loss: 0.0350763238966465\n",
      "Episode 6851\n"
     ]
    },
    {
     "data": {
      "application/vnd.jupyter.widget-view+json": {
       "model_id": "58661379d629466fa02732198d8f36d6",
       "version_major": 2,
       "version_minor": 0
      },
      "text/plain": [
       "HBox(children=(FloatProgress(value=0.0, max=50.0), HTML(value='')))"
      ]
     },
     "metadata": {},
     "output_type": "display_data"
    },
    {
     "name": "stdout",
     "output_type": "stream",
     "text": [
      "\n",
      "Avgerage Accumulated Reward: -5 | Loss: 0.038037218153476715\n",
      "Episode 6901\n"
     ]
    },
    {
     "data": {
      "application/vnd.jupyter.widget-view+json": {
       "model_id": "e8fa8f2648674eb8b39eb8f8858ea1c6",
       "version_major": 2,
       "version_minor": 0
      },
      "text/plain": [
       "HBox(children=(FloatProgress(value=0.0, max=50.0), HTML(value='')))"
      ]
     },
     "metadata": {},
     "output_type": "display_data"
    },
    {
     "name": "stdout",
     "output_type": "stream",
     "text": [
      "\n",
      "Avgerage Accumulated Reward: -5 | Loss: 0.03294362127780914\n",
      "Episode 6951\n"
     ]
    },
    {
     "data": {
      "application/vnd.jupyter.widget-view+json": {
       "model_id": "d9a78f4cd00248d3b32b26cbeb05246e",
       "version_major": 2,
       "version_minor": 0
      },
      "text/plain": [
       "HBox(children=(FloatProgress(value=0.0, max=50.0), HTML(value='')))"
      ]
     },
     "metadata": {},
     "output_type": "display_data"
    },
    {
     "name": "stdout",
     "output_type": "stream",
     "text": [
      "\n",
      "Avgerage Accumulated Reward: -5 | Loss: 0.03643070161342621\n",
      "Episode 7001\n"
     ]
    },
    {
     "data": {
      "application/vnd.jupyter.widget-view+json": {
       "model_id": "5c1e4abf67d04988828a56e6f2859a43",
       "version_major": 2,
       "version_minor": 0
      },
      "text/plain": [
       "HBox(children=(FloatProgress(value=0.0, max=50.0), HTML(value='')))"
      ]
     },
     "metadata": {},
     "output_type": "display_data"
    },
    {
     "name": "stdout",
     "output_type": "stream",
     "text": [
      "\n",
      "Avgerage Accumulated Reward: -5 | Loss: 0.022004563361406326\n",
      "Episode 7051\n"
     ]
    },
    {
     "data": {
      "application/vnd.jupyter.widget-view+json": {
       "model_id": "d06d3e8ce9574a499ef72d59ed6411e9",
       "version_major": 2,
       "version_minor": 0
      },
      "text/plain": [
       "HBox(children=(FloatProgress(value=0.0, max=50.0), HTML(value='')))"
      ]
     },
     "metadata": {},
     "output_type": "display_data"
    },
    {
     "name": "stdout",
     "output_type": "stream",
     "text": [
      "\n",
      "Avgerage Accumulated Reward: -5 | Loss: 0.04911572113633156\n",
      "Episode 7101\n"
     ]
    },
    {
     "data": {
      "application/vnd.jupyter.widget-view+json": {
       "model_id": "412e915cb9904ca9abd140de85a611f9",
       "version_major": 2,
       "version_minor": 0
      },
      "text/plain": [
       "HBox(children=(FloatProgress(value=0.0, max=50.0), HTML(value='')))"
      ]
     },
     "metadata": {},
     "output_type": "display_data"
    },
    {
     "name": "stdout",
     "output_type": "stream",
     "text": [
      "\n",
      "Avgerage Accumulated Reward: -5 | Loss: 0.09310241788625717\n",
      "Episode 7151\n"
     ]
    },
    {
     "data": {
      "application/vnd.jupyter.widget-view+json": {
       "model_id": "d6f310a45b454d3eab795ba6b9ba33ce",
       "version_major": 2,
       "version_minor": 0
      },
      "text/plain": [
       "HBox(children=(FloatProgress(value=0.0, max=50.0), HTML(value='')))"
      ]
     },
     "metadata": {},
     "output_type": "display_data"
    },
    {
     "name": "stdout",
     "output_type": "stream",
     "text": [
      "\n",
      "Avgerage Accumulated Reward: -5 | Loss: 0.3265271782875061\n",
      "Episode 7201\n"
     ]
    },
    {
     "data": {
      "application/vnd.jupyter.widget-view+json": {
       "model_id": "0f7c7e0944cf4adebba24c196e65d7fa",
       "version_major": 2,
       "version_minor": 0
      },
      "text/plain": [
       "HBox(children=(FloatProgress(value=0.0, max=50.0), HTML(value='')))"
      ]
     },
     "metadata": {},
     "output_type": "display_data"
    },
    {
     "name": "stdout",
     "output_type": "stream",
     "text": [
      "\n",
      "Avgerage Accumulated Reward: -5 | Loss: 0.6754692196846008\n",
      "Episode 7251\n"
     ]
    },
    {
     "data": {
      "application/vnd.jupyter.widget-view+json": {
       "model_id": "6c24b0704f4a4c15a666320be981580f",
       "version_major": 2,
       "version_minor": 0
      },
      "text/plain": [
       "HBox(children=(FloatProgress(value=0.0, max=50.0), HTML(value='')))"
      ]
     },
     "metadata": {},
     "output_type": "display_data"
    },
    {
     "name": "stdout",
     "output_type": "stream",
     "text": [
      "\n",
      "Avgerage Accumulated Reward: -5 | Loss: 0.18070457875728607\n",
      "Episode 7301\n"
     ]
    },
    {
     "data": {
      "application/vnd.jupyter.widget-view+json": {
       "model_id": "2cf004ec5b3042c499f07079dee7af36",
       "version_major": 2,
       "version_minor": 0
      },
      "text/plain": [
       "HBox(children=(FloatProgress(value=0.0, max=50.0), HTML(value='')))"
      ]
     },
     "metadata": {},
     "output_type": "display_data"
    },
    {
     "name": "stdout",
     "output_type": "stream",
     "text": [
      "\n",
      "Avgerage Accumulated Reward: -5 | Loss: 0.07226115465164185\n",
      "Episode 7351\n"
     ]
    },
    {
     "data": {
      "application/vnd.jupyter.widget-view+json": {
       "model_id": "5f4172aaa00c4a229fb751ace22aaf77",
       "version_major": 2,
       "version_minor": 0
      },
      "text/plain": [
       "HBox(children=(FloatProgress(value=0.0, max=50.0), HTML(value='')))"
      ]
     },
     "metadata": {},
     "output_type": "display_data"
    },
    {
     "name": "stdout",
     "output_type": "stream",
     "text": [
      "\n",
      "Avgerage Accumulated Reward: -5 | Loss: 0.050844430923461914\n",
      "Episode 7401\n"
     ]
    },
    {
     "data": {
      "application/vnd.jupyter.widget-view+json": {
       "model_id": "dff96a6bdd4343238d572b91a4acb8d9",
       "version_major": 2,
       "version_minor": 0
      },
      "text/plain": [
       "HBox(children=(FloatProgress(value=0.0, max=50.0), HTML(value='')))"
      ]
     },
     "metadata": {},
     "output_type": "display_data"
    },
    {
     "name": "stdout",
     "output_type": "stream",
     "text": [
      "\n",
      "Avgerage Accumulated Reward: -5 | Loss: 0.03273596614599228\n",
      "Episode 7451\n"
     ]
    },
    {
     "data": {
      "application/vnd.jupyter.widget-view+json": {
       "model_id": "ac2846a8de33448d843a9a1efe10f172",
       "version_major": 2,
       "version_minor": 0
      },
      "text/plain": [
       "HBox(children=(FloatProgress(value=0.0, max=50.0), HTML(value='')))"
      ]
     },
     "metadata": {},
     "output_type": "display_data"
    },
    {
     "name": "stdout",
     "output_type": "stream",
     "text": [
      "\n",
      "Avgerage Accumulated Reward: -5 | Loss: 0.04481305927038193\n",
      "Episode 7501\n"
     ]
    },
    {
     "data": {
      "application/vnd.jupyter.widget-view+json": {
       "model_id": "92e56229700c42969ffef98fa62d3fd9",
       "version_major": 2,
       "version_minor": 0
      },
      "text/plain": [
       "HBox(children=(FloatProgress(value=0.0, max=50.0), HTML(value='')))"
      ]
     },
     "metadata": {},
     "output_type": "display_data"
    },
    {
     "name": "stdout",
     "output_type": "stream",
     "text": [
      "\n",
      "Avgerage Accumulated Reward: -5 | Loss: 0.06761790066957474\n",
      "Episode 7551\n"
     ]
    },
    {
     "data": {
      "application/vnd.jupyter.widget-view+json": {
       "model_id": "1f51e786cef244899f30d5c838c968e8",
       "version_major": 2,
       "version_minor": 0
      },
      "text/plain": [
       "HBox(children=(FloatProgress(value=0.0, max=50.0), HTML(value='')))"
      ]
     },
     "metadata": {},
     "output_type": "display_data"
    },
    {
     "name": "stdout",
     "output_type": "stream",
     "text": [
      "\n",
      "Avgerage Accumulated Reward: -5 | Loss: 0.028519248589873314\n",
      "Episode 7601\n"
     ]
    },
    {
     "data": {
      "application/vnd.jupyter.widget-view+json": {
       "model_id": "0c7d2939e38546278599bac104ecf84f",
       "version_major": 2,
       "version_minor": 0
      },
      "text/plain": [
       "HBox(children=(FloatProgress(value=0.0, max=50.0), HTML(value='')))"
      ]
     },
     "metadata": {},
     "output_type": "display_data"
    },
    {
     "name": "stdout",
     "output_type": "stream",
     "text": [
      "\n",
      "Avgerage Accumulated Reward: -5 | Loss: 0.027355534955859184\n",
      "Episode 7651\n"
     ]
    },
    {
     "data": {
      "application/vnd.jupyter.widget-view+json": {
       "model_id": "11d6ec8bf73b4907a9f6db62cf50726d",
       "version_major": 2,
       "version_minor": 0
      },
      "text/plain": [
       "HBox(children=(FloatProgress(value=0.0, max=50.0), HTML(value='')))"
      ]
     },
     "metadata": {},
     "output_type": "display_data"
    },
    {
     "name": "stdout",
     "output_type": "stream",
     "text": [
      "\n",
      "Avgerage Accumulated Reward: -5 | Loss: 0.036859698593616486\n",
      "Episode 7701\n"
     ]
    },
    {
     "data": {
      "application/vnd.jupyter.widget-view+json": {
       "model_id": "aadfcbba841b4d9783987e2f95f7d0e0",
       "version_major": 2,
       "version_minor": 0
      },
      "text/plain": [
       "HBox(children=(FloatProgress(value=0.0, max=50.0), HTML(value='')))"
      ]
     },
     "metadata": {},
     "output_type": "display_data"
    },
    {
     "name": "stdout",
     "output_type": "stream",
     "text": [
      "\n",
      "Avgerage Accumulated Reward: -5 | Loss: 0.04447706788778305\n",
      "Episode 7751\n"
     ]
    },
    {
     "data": {
      "application/vnd.jupyter.widget-view+json": {
       "model_id": "56476f42584e4736b987c07c1e459cb3",
       "version_major": 2,
       "version_minor": 0
      },
      "text/plain": [
       "HBox(children=(FloatProgress(value=0.0, max=50.0), HTML(value='')))"
      ]
     },
     "metadata": {},
     "output_type": "display_data"
    },
    {
     "name": "stdout",
     "output_type": "stream",
     "text": [
      "\n",
      "Avgerage Accumulated Reward: -5 | Loss: 0.02280818484723568\n",
      "Episode 7801\n"
     ]
    },
    {
     "data": {
      "application/vnd.jupyter.widget-view+json": {
       "model_id": "8d14ec690da246dd974f959856f99dd2",
       "version_major": 2,
       "version_minor": 0
      },
      "text/plain": [
       "HBox(children=(FloatProgress(value=0.0, max=50.0), HTML(value='')))"
      ]
     },
     "metadata": {},
     "output_type": "display_data"
    },
    {
     "name": "stdout",
     "output_type": "stream",
     "text": [
      "\n",
      "Avgerage Accumulated Reward: -5 | Loss: 0.03328894078731537\n",
      "Episode 7851\n"
     ]
    },
    {
     "data": {
      "application/vnd.jupyter.widget-view+json": {
       "model_id": "36bd59cdea9642fa9d5fc30cb065a93e",
       "version_major": 2,
       "version_minor": 0
      },
      "text/plain": [
       "HBox(children=(FloatProgress(value=0.0, max=50.0), HTML(value='')))"
      ]
     },
     "metadata": {},
     "output_type": "display_data"
    },
    {
     "name": "stdout",
     "output_type": "stream",
     "text": [
      "\n",
      "Avgerage Accumulated Reward: -5 | Loss: 0.01954873837530613\n",
      "Episode 7901\n"
     ]
    },
    {
     "data": {
      "application/vnd.jupyter.widget-view+json": {
       "model_id": "54f2b2b2dbf741d9b53b6cb32d3a8f62",
       "version_major": 2,
       "version_minor": 0
      },
      "text/plain": [
       "HBox(children=(FloatProgress(value=0.0, max=50.0), HTML(value='')))"
      ]
     },
     "metadata": {},
     "output_type": "display_data"
    },
    {
     "name": "stdout",
     "output_type": "stream",
     "text": [
      "\n",
      "Avgerage Accumulated Reward: -5 | Loss: 0.032819412648677826\n",
      "Episode 7951\n"
     ]
    },
    {
     "data": {
      "application/vnd.jupyter.widget-view+json": {
       "model_id": "85fbd64829eb4f978fac34a6d6a27ae0",
       "version_major": 2,
       "version_minor": 0
      },
      "text/plain": [
       "HBox(children=(FloatProgress(value=0.0, max=50.0), HTML(value='')))"
      ]
     },
     "metadata": {},
     "output_type": "display_data"
    },
    {
     "name": "stdout",
     "output_type": "stream",
     "text": [
      "\n",
      "Avgerage Accumulated Reward: -5 | Loss: 0.04154287278652191\n",
      "Episode 8001\n"
     ]
    },
    {
     "data": {
      "application/vnd.jupyter.widget-view+json": {
       "model_id": "cff8c20f2d6c48148172f101ba1d8092",
       "version_major": 2,
       "version_minor": 0
      },
      "text/plain": [
       "HBox(children=(FloatProgress(value=0.0, max=50.0), HTML(value='')))"
      ]
     },
     "metadata": {},
     "output_type": "display_data"
    },
    {
     "name": "stdout",
     "output_type": "stream",
     "text": [
      "\n",
      "Avgerage Accumulated Reward: -5 | Loss: 14.134810447692871\n",
      "Episode 8051\n"
     ]
    },
    {
     "data": {
      "application/vnd.jupyter.widget-view+json": {
       "model_id": "01b73100e92c42adb5e9b68053b684d1",
       "version_major": 2,
       "version_minor": 0
      },
      "text/plain": [
       "HBox(children=(FloatProgress(value=0.0, max=50.0), HTML(value='')))"
      ]
     },
     "metadata": {},
     "output_type": "display_data"
    },
    {
     "name": "stdout",
     "output_type": "stream",
     "text": [
      "\n",
      "Avgerage Accumulated Reward: -5 | Loss: -979.12451171875\n",
      "Episode 8101\n"
     ]
    },
    {
     "data": {
      "application/vnd.jupyter.widget-view+json": {
       "model_id": "0869a55a380842e994ab29a3e1b69dec",
       "version_major": 2,
       "version_minor": 0
      },
      "text/plain": [
       "HBox(children=(FloatProgress(value=0.0, max=50.0), HTML(value='')))"
      ]
     },
     "metadata": {},
     "output_type": "display_data"
    },
    {
     "name": "stdout",
     "output_type": "stream",
     "text": [
      "\n",
      "Avgerage Accumulated Reward: -5 | Loss: -1549.45068359375\n",
      "Episode 8151\n"
     ]
    },
    {
     "data": {
      "application/vnd.jupyter.widget-view+json": {
       "model_id": "7d8788f960404f2aa35b9699eb858acf",
       "version_major": 2,
       "version_minor": 0
      },
      "text/plain": [
       "HBox(children=(FloatProgress(value=0.0, max=50.0), HTML(value='')))"
      ]
     },
     "metadata": {},
     "output_type": "display_data"
    },
    {
     "name": "stdout",
     "output_type": "stream",
     "text": [
      "\n",
      "Avgerage Accumulated Reward: -5 | Loss: -1519.3740234375\n",
      "Episode 8201\n"
     ]
    },
    {
     "data": {
      "application/vnd.jupyter.widget-view+json": {
       "model_id": "4bf3339b9ffa469d99e29ca2459762d2",
       "version_major": 2,
       "version_minor": 0
      },
      "text/plain": [
       "HBox(children=(FloatProgress(value=0.0, max=50.0), HTML(value='')))"
      ]
     },
     "metadata": {},
     "output_type": "display_data"
    },
    {
     "name": "stdout",
     "output_type": "stream",
     "text": [
      "\n",
      "Avgerage Accumulated Reward: -5 | Loss: -1489.0467529296875\n",
      "Episode 8251\n"
     ]
    },
    {
     "data": {
      "application/vnd.jupyter.widget-view+json": {
       "model_id": "ab28947562e54be3bb6c99aeb83f873b",
       "version_major": 2,
       "version_minor": 0
      },
      "text/plain": [
       "HBox(children=(FloatProgress(value=0.0, max=50.0), HTML(value='')))"
      ]
     },
     "metadata": {},
     "output_type": "display_data"
    },
    {
     "name": "stdout",
     "output_type": "stream",
     "text": [
      "\n",
      "Avgerage Accumulated Reward: -5 | Loss: -1508.1556396484375\n",
      "Episode 8301\n"
     ]
    },
    {
     "data": {
      "application/vnd.jupyter.widget-view+json": {
       "model_id": "c48bff3f56714cb991ef364e6cc7e29b",
       "version_major": 2,
       "version_minor": 0
      },
      "text/plain": [
       "HBox(children=(FloatProgress(value=0.0, max=50.0), HTML(value='')))"
      ]
     },
     "metadata": {},
     "output_type": "display_data"
    },
    {
     "name": "stdout",
     "output_type": "stream",
     "text": [
      "\n",
      "Avgerage Accumulated Reward: -5 | Loss: -1535.2264404296875\n",
      "Episode 8351\n"
     ]
    },
    {
     "data": {
      "application/vnd.jupyter.widget-view+json": {
       "model_id": "80d640ae052f4d5aae08679d8d06daa0",
       "version_major": 2,
       "version_minor": 0
      },
      "text/plain": [
       "HBox(children=(FloatProgress(value=0.0, max=50.0), HTML(value='')))"
      ]
     },
     "metadata": {},
     "output_type": "display_data"
    },
    {
     "name": "stdout",
     "output_type": "stream",
     "text": [
      "\n",
      "Avgerage Accumulated Reward: -5 | Loss: -1407.114501953125\n",
      "Episode 8401\n"
     ]
    },
    {
     "data": {
      "application/vnd.jupyter.widget-view+json": {
       "model_id": "bbc6b36d44d14fbdb0b672a8b2d26848",
       "version_major": 2,
       "version_minor": 0
      },
      "text/plain": [
       "HBox(children=(FloatProgress(value=0.0, max=50.0), HTML(value='')))"
      ]
     },
     "metadata": {},
     "output_type": "display_data"
    },
    {
     "name": "stdout",
     "output_type": "stream",
     "text": [
      "\n",
      "Avgerage Accumulated Reward: -5 | Loss: -1495.3935546875\n",
      "Episode 8451\n"
     ]
    },
    {
     "data": {
      "application/vnd.jupyter.widget-view+json": {
       "model_id": "87938b6d70f145bba2753e040c4c9ec9",
       "version_major": 2,
       "version_minor": 0
      },
      "text/plain": [
       "HBox(children=(FloatProgress(value=0.0, max=50.0), HTML(value='')))"
      ]
     },
     "metadata": {},
     "output_type": "display_data"
    },
    {
     "name": "stdout",
     "output_type": "stream",
     "text": [
      "\n",
      "Avgerage Accumulated Reward: -5 | Loss: -1565.8848876953125\n",
      "Episode 8501\n"
     ]
    },
    {
     "data": {
      "application/vnd.jupyter.widget-view+json": {
       "model_id": "d6b2738242624d1493d9c4cb781b2f84",
       "version_major": 2,
       "version_minor": 0
      },
      "text/plain": [
       "HBox(children=(FloatProgress(value=0.0, max=50.0), HTML(value='')))"
      ]
     },
     "metadata": {},
     "output_type": "display_data"
    },
    {
     "name": "stdout",
     "output_type": "stream",
     "text": [
      "\n",
      "Avgerage Accumulated Reward: -5 | Loss: -1554.888916015625\n",
      "Episode 8551\n"
     ]
    },
    {
     "data": {
      "application/vnd.jupyter.widget-view+json": {
       "model_id": "d582f0a3713e4e4c8bf3571ed28ab948",
       "version_major": 2,
       "version_minor": 0
      },
      "text/plain": [
       "HBox(children=(FloatProgress(value=0.0, max=50.0), HTML(value='')))"
      ]
     },
     "metadata": {},
     "output_type": "display_data"
    },
    {
     "name": "stdout",
     "output_type": "stream",
     "text": [
      "\n",
      "Avgerage Accumulated Reward: -5 | Loss: -1560.88525390625\n",
      "Episode 8601\n"
     ]
    },
    {
     "data": {
      "application/vnd.jupyter.widget-view+json": {
       "model_id": "231118479fbd4860b352b80340f042f8",
       "version_major": 2,
       "version_minor": 0
      },
      "text/plain": [
       "HBox(children=(FloatProgress(value=0.0, max=50.0), HTML(value='')))"
      ]
     },
     "metadata": {},
     "output_type": "display_data"
    },
    {
     "name": "stdout",
     "output_type": "stream",
     "text": [
      "\n",
      "Avgerage Accumulated Reward: -5 | Loss: -1468.397216796875\n",
      "Episode 8651\n"
     ]
    },
    {
     "data": {
      "application/vnd.jupyter.widget-view+json": {
       "model_id": "a1e164f28f5740c6864d960f84baa145",
       "version_major": 2,
       "version_minor": 0
      },
      "text/plain": [
       "HBox(children=(FloatProgress(value=0.0, max=50.0), HTML(value='')))"
      ]
     },
     "metadata": {},
     "output_type": "display_data"
    },
    {
     "name": "stdout",
     "output_type": "stream",
     "text": [
      "\n",
      "Avgerage Accumulated Reward: -5 | Loss: -1455.7991943359375\n",
      "Episode 8701\n"
     ]
    },
    {
     "data": {
      "application/vnd.jupyter.widget-view+json": {
       "model_id": "f0720cf182544b43b2c4ff99e585dd82",
       "version_major": 2,
       "version_minor": 0
      },
      "text/plain": [
       "HBox(children=(FloatProgress(value=0.0, max=50.0), HTML(value='')))"
      ]
     },
     "metadata": {},
     "output_type": "display_data"
    },
    {
     "name": "stdout",
     "output_type": "stream",
     "text": [
      "\n",
      "Avgerage Accumulated Reward: -5 | Loss: -1537.1356201171875\n",
      "Episode 8751\n"
     ]
    },
    {
     "data": {
      "application/vnd.jupyter.widget-view+json": {
       "model_id": "2dbce10474b54fe295d497ee86af2354",
       "version_major": 2,
       "version_minor": 0
      },
      "text/plain": [
       "HBox(children=(FloatProgress(value=0.0, max=50.0), HTML(value='')))"
      ]
     },
     "metadata": {},
     "output_type": "display_data"
    },
    {
     "name": "stdout",
     "output_type": "stream",
     "text": [
      "\n",
      "Avgerage Accumulated Reward: -5 | Loss: -1523.826416015625\n",
      "Episode 8801\n"
     ]
    },
    {
     "data": {
      "application/vnd.jupyter.widget-view+json": {
       "model_id": "5ab4a9444bb24e938110b9506308e9f1",
       "version_major": 2,
       "version_minor": 0
      },
      "text/plain": [
       "HBox(children=(FloatProgress(value=0.0, max=50.0), HTML(value='')))"
      ]
     },
     "metadata": {},
     "output_type": "display_data"
    },
    {
     "name": "stdout",
     "output_type": "stream",
     "text": [
      "\n",
      "Avgerage Accumulated Reward: -5 | Loss: -1368.7060546875\n",
      "Episode 8851\n"
     ]
    },
    {
     "data": {
      "application/vnd.jupyter.widget-view+json": {
       "model_id": "7a5253a653594fb497538bfa9daeb90f",
       "version_major": 2,
       "version_minor": 0
      },
      "text/plain": [
       "HBox(children=(FloatProgress(value=0.0, max=50.0), HTML(value='')))"
      ]
     },
     "metadata": {},
     "output_type": "display_data"
    },
    {
     "name": "stdout",
     "output_type": "stream",
     "text": [
      "\n",
      "Avgerage Accumulated Reward: -5 | Loss: -1512.499267578125\n",
      "Episode 8901\n"
     ]
    },
    {
     "data": {
      "application/vnd.jupyter.widget-view+json": {
       "model_id": "7d6cfe66f4ed40bdbc159e2c6111f2cf",
       "version_major": 2,
       "version_minor": 0
      },
      "text/plain": [
       "HBox(children=(FloatProgress(value=0.0, max=50.0), HTML(value='')))"
      ]
     },
     "metadata": {},
     "output_type": "display_data"
    },
    {
     "name": "stdout",
     "output_type": "stream",
     "text": [
      "\n",
      "Avgerage Accumulated Reward: -5 | Loss: -1488.25927734375\n",
      "Episode 8951\n"
     ]
    },
    {
     "data": {
      "application/vnd.jupyter.widget-view+json": {
       "model_id": "3e40ad010d6a4a9bb5b6818dd30e1399",
       "version_major": 2,
       "version_minor": 0
      },
      "text/plain": [
       "HBox(children=(FloatProgress(value=0.0, max=50.0), HTML(value='')))"
      ]
     },
     "metadata": {},
     "output_type": "display_data"
    },
    {
     "name": "stdout",
     "output_type": "stream",
     "text": [
      "\n",
      "Avgerage Accumulated Reward: -5 | Loss: -1396.2650146484375\n",
      "Episode 9001\n"
     ]
    },
    {
     "data": {
      "application/vnd.jupyter.widget-view+json": {
       "model_id": "b3ac190dd6ed42a6a27ba14b29af756a",
       "version_major": 2,
       "version_minor": 0
      },
      "text/plain": [
       "HBox(children=(FloatProgress(value=0.0, max=50.0), HTML(value='')))"
      ]
     },
     "metadata": {},
     "output_type": "display_data"
    },
    {
     "name": "stdout",
     "output_type": "stream",
     "text": [
      "\n",
      "Avgerage Accumulated Reward: -5 | Loss: -1604.742919921875\n",
      "Episode 9051\n"
     ]
    },
    {
     "data": {
      "application/vnd.jupyter.widget-view+json": {
       "model_id": "61e5d06eba984c2d84a1fa7b738268d5",
       "version_major": 2,
       "version_minor": 0
      },
      "text/plain": [
       "HBox(children=(FloatProgress(value=0.0, max=50.0), HTML(value='')))"
      ]
     },
     "metadata": {},
     "output_type": "display_data"
    },
    {
     "name": "stdout",
     "output_type": "stream",
     "text": [
      "\n",
      "Avgerage Accumulated Reward: -5 | Loss: -1514.0849609375\n",
      "Episode 9101\n"
     ]
    },
    {
     "data": {
      "application/vnd.jupyter.widget-view+json": {
       "model_id": "8a997d8251eb4561b964e1de5748ae46",
       "version_major": 2,
       "version_minor": 0
      },
      "text/plain": [
       "HBox(children=(FloatProgress(value=0.0, max=50.0), HTML(value='')))"
      ]
     },
     "metadata": {},
     "output_type": "display_data"
    },
    {
     "name": "stdout",
     "output_type": "stream",
     "text": [
      "\n",
      "Avgerage Accumulated Reward: -5 | Loss: -1322.3399658203125\n",
      "Episode 9151\n"
     ]
    },
    {
     "data": {
      "application/vnd.jupyter.widget-view+json": {
       "model_id": "a82014c17f524ddba52fda72045f8da2",
       "version_major": 2,
       "version_minor": 0
      },
      "text/plain": [
       "HBox(children=(FloatProgress(value=0.0, max=50.0), HTML(value='')))"
      ]
     },
     "metadata": {},
     "output_type": "display_data"
    },
    {
     "name": "stdout",
     "output_type": "stream",
     "text": [
      "\n",
      "Avgerage Accumulated Reward: -5 | Loss: -1602.1634521484375\n",
      "Episode 9201\n"
     ]
    },
    {
     "data": {
      "application/vnd.jupyter.widget-view+json": {
       "model_id": "007f62b703244668bf0217c67203f43f",
       "version_major": 2,
       "version_minor": 0
      },
      "text/plain": [
       "HBox(children=(FloatProgress(value=0.0, max=50.0), HTML(value='')))"
      ]
     },
     "metadata": {},
     "output_type": "display_data"
    },
    {
     "name": "stdout",
     "output_type": "stream",
     "text": [
      "\n",
      "Avgerage Accumulated Reward: -5 | Loss: -1568.607666015625\n",
      "Episode 9251\n"
     ]
    },
    {
     "data": {
      "application/vnd.jupyter.widget-view+json": {
       "model_id": "7c50df4ab0514184a886b370a651029b",
       "version_major": 2,
       "version_minor": 0
      },
      "text/plain": [
       "HBox(children=(FloatProgress(value=0.0, max=50.0), HTML(value='')))"
      ]
     },
     "metadata": {},
     "output_type": "display_data"
    },
    {
     "name": "stdout",
     "output_type": "stream",
     "text": [
      "\n",
      "Avgerage Accumulated Reward: -5 | Loss: -1477.94482421875\n",
      "Episode 9301\n"
     ]
    },
    {
     "data": {
      "application/vnd.jupyter.widget-view+json": {
       "model_id": "9f9066537e32469ba8eef508a71aa49d",
       "version_major": 2,
       "version_minor": 0
      },
      "text/plain": [
       "HBox(children=(FloatProgress(value=0.0, max=50.0), HTML(value='')))"
      ]
     },
     "metadata": {},
     "output_type": "display_data"
    },
    {
     "name": "stdout",
     "output_type": "stream",
     "text": [
      "\n",
      "Avgerage Accumulated Reward: -5 | Loss: -1478.7222900390625\n",
      "Episode 9351\n"
     ]
    },
    {
     "data": {
      "application/vnd.jupyter.widget-view+json": {
       "model_id": "4579d3187eb84cdaab2d84c99ab2af81",
       "version_major": 2,
       "version_minor": 0
      },
      "text/plain": [
       "HBox(children=(FloatProgress(value=0.0, max=50.0), HTML(value='')))"
      ]
     },
     "metadata": {},
     "output_type": "display_data"
    },
    {
     "name": "stdout",
     "output_type": "stream",
     "text": [
      "\n",
      "Avgerage Accumulated Reward: -5 | Loss: -1500.5450439453125\n",
      "Episode 9401\n"
     ]
    },
    {
     "data": {
      "application/vnd.jupyter.widget-view+json": {
       "model_id": "b6f012dd3ad84d43b6a20188cd4e8e71",
       "version_major": 2,
       "version_minor": 0
      },
      "text/plain": [
       "HBox(children=(FloatProgress(value=0.0, max=50.0), HTML(value='')))"
      ]
     },
     "metadata": {},
     "output_type": "display_data"
    },
    {
     "name": "stdout",
     "output_type": "stream",
     "text": [
      "\n",
      "Avgerage Accumulated Reward: -5 | Loss: -1485.3612060546875\n",
      "Episode 9451\n"
     ]
    },
    {
     "data": {
      "application/vnd.jupyter.widget-view+json": {
       "model_id": "c436954aa610479390f651fd4b8d9b62",
       "version_major": 2,
       "version_minor": 0
      },
      "text/plain": [
       "HBox(children=(FloatProgress(value=0.0, max=50.0), HTML(value='')))"
      ]
     },
     "metadata": {},
     "output_type": "display_data"
    },
    {
     "name": "stdout",
     "output_type": "stream",
     "text": [
      "\n",
      "Avgerage Accumulated Reward: -5 | Loss: -1499.85107421875\n",
      "Episode 9501\n"
     ]
    },
    {
     "data": {
      "application/vnd.jupyter.widget-view+json": {
       "model_id": "10c44b1100db479385d2d4dc0829317c",
       "version_major": 2,
       "version_minor": 0
      },
      "text/plain": [
       "HBox(children=(FloatProgress(value=0.0, max=50.0), HTML(value='')))"
      ]
     },
     "metadata": {},
     "output_type": "display_data"
    },
    {
     "name": "stdout",
     "output_type": "stream",
     "text": [
      "\n",
      "Avgerage Accumulated Reward: -5 | Loss: -1496.4329833984375\n",
      "Episode 9551\n"
     ]
    },
    {
     "data": {
      "application/vnd.jupyter.widget-view+json": {
       "model_id": "aae50f9e19734495a820f81590f024ca",
       "version_major": 2,
       "version_minor": 0
      },
      "text/plain": [
       "HBox(children=(FloatProgress(value=0.0, max=50.0), HTML(value='')))"
      ]
     },
     "metadata": {},
     "output_type": "display_data"
    },
    {
     "name": "stdout",
     "output_type": "stream",
     "text": [
      "\n",
      "Avgerage Accumulated Reward: -5 | Loss: -1541.3677978515625\n",
      "Episode 9601\n"
     ]
    },
    {
     "data": {
      "application/vnd.jupyter.widget-view+json": {
       "model_id": "ea6586ab107541a5a7d01d713e366e26",
       "version_major": 2,
       "version_minor": 0
      },
      "text/plain": [
       "HBox(children=(FloatProgress(value=0.0, max=50.0), HTML(value='')))"
      ]
     },
     "metadata": {},
     "output_type": "display_data"
    },
    {
     "name": "stdout",
     "output_type": "stream",
     "text": [
      "\n",
      "Avgerage Accumulated Reward: -5 | Loss: -1486.060302734375\n",
      "Episode 9651\n"
     ]
    },
    {
     "data": {
      "application/vnd.jupyter.widget-view+json": {
       "model_id": "1e221c3eac2041acb184a3b191bf3e9a",
       "version_major": 2,
       "version_minor": 0
      },
      "text/plain": [
       "HBox(children=(FloatProgress(value=0.0, max=50.0), HTML(value='')))"
      ]
     },
     "metadata": {},
     "output_type": "display_data"
    },
    {
     "name": "stdout",
     "output_type": "stream",
     "text": [
      "\n",
      "Avgerage Accumulated Reward: -5 | Loss: -1390.3076171875\n",
      "Episode 9701\n"
     ]
    },
    {
     "data": {
      "application/vnd.jupyter.widget-view+json": {
       "model_id": "cff49d3c965e4b519fe777494437b856",
       "version_major": 2,
       "version_minor": 0
      },
      "text/plain": [
       "HBox(children=(FloatProgress(value=0.0, max=50.0), HTML(value='')))"
      ]
     },
     "metadata": {},
     "output_type": "display_data"
    },
    {
     "name": "stdout",
     "output_type": "stream",
     "text": [
      "\n",
      "Avgerage Accumulated Reward: -5 | Loss: -1511.2659912109375\n",
      "Episode 9751\n"
     ]
    },
    {
     "data": {
      "application/vnd.jupyter.widget-view+json": {
       "model_id": "281aaabb43a044f9b229bcf3aec667b6",
       "version_major": 2,
       "version_minor": 0
      },
      "text/plain": [
       "HBox(children=(FloatProgress(value=0.0, max=50.0), HTML(value='')))"
      ]
     },
     "metadata": {},
     "output_type": "display_data"
    },
    {
     "name": "stdout",
     "output_type": "stream",
     "text": [
      "\n",
      "Avgerage Accumulated Reward: -5 | Loss: -1554.7098388671875\n",
      "Episode 9801\n"
     ]
    },
    {
     "data": {
      "application/vnd.jupyter.widget-view+json": {
       "model_id": "b267d3dac801461893dccbe2b6afe709",
       "version_major": 2,
       "version_minor": 0
      },
      "text/plain": [
       "HBox(children=(FloatProgress(value=0.0, max=50.0), HTML(value='')))"
      ]
     },
     "metadata": {},
     "output_type": "display_data"
    },
    {
     "name": "stdout",
     "output_type": "stream",
     "text": [
      "\n",
      "Avgerage Accumulated Reward: -5 | Loss: -1482.56982421875\n",
      "Episode 9851\n"
     ]
    },
    {
     "data": {
      "application/vnd.jupyter.widget-view+json": {
       "model_id": "ab1210e8965749469e940d984423898a",
       "version_major": 2,
       "version_minor": 0
      },
      "text/plain": [
       "HBox(children=(FloatProgress(value=0.0, max=50.0), HTML(value='')))"
      ]
     },
     "metadata": {},
     "output_type": "display_data"
    },
    {
     "name": "stdout",
     "output_type": "stream",
     "text": [
      "\n",
      "Avgerage Accumulated Reward: -5 | Loss: -1531.186767578125\n",
      "Episode 9901\n"
     ]
    },
    {
     "data": {
      "application/vnd.jupyter.widget-view+json": {
       "model_id": "2a7143dd55044ad79d410dcc7cff093c",
       "version_major": 2,
       "version_minor": 0
      },
      "text/plain": [
       "HBox(children=(FloatProgress(value=0.0, max=50.0), HTML(value='')))"
      ]
     },
     "metadata": {},
     "output_type": "display_data"
    },
    {
     "name": "stdout",
     "output_type": "stream",
     "text": [
      "\n",
      "Avgerage Accumulated Reward: -5 | Loss: -1418.2073974609375\n",
      "Episode 9951\n"
     ]
    },
    {
     "data": {
      "application/vnd.jupyter.widget-view+json": {
       "model_id": "84c18b6c223e4f05a9fe595a491ba800",
       "version_major": 2,
       "version_minor": 0
      },
      "text/plain": [
       "HBox(children=(FloatProgress(value=0.0, max=50.0), HTML(value='')))"
      ]
     },
     "metadata": {},
     "output_type": "display_data"
    },
    {
     "name": "stdout",
     "output_type": "stream",
     "text": [
      "\n",
      "Accumulated Reward: -5 | Loss: -1550.8443603515625\n",
      "Evaluate\n",
      "Accumulated Reward: -5\n"
     ]
    },
    {
     "data": {
      "image/png": "[encoded data removed]",
      "text/plain": [
       "<Figure size 1920x480 with 2 Axes>"
      ]
     },
     "metadata": {
      "needs_background": "light"
     },
     "output_type": "display_data"
    }
   ],
   "source": [
    "# CartPole-A2C Experiment\n",
    "# 2020/08/11 SYC \n",
    "\n",
    "# import models.A2C as A2C\n",
    "# import models.expStrategy.epsilonGreedy as EPSG\n",
    "# import envs.cartPole as cartPole\n",
    "import models.util as Util\n",
    "import logging\n",
    "import matplotlib.pyplot as plt\n",
    "from matplotlib.pylab import figure\n",
    "import os\n",
    "import numpy as np\n",
    "# To run tqdm on notebook, import tqdm.notebook\n",
    "from tqdm.notebook import tqdm\n",
    "# Run on pure python\n",
    "# from tqdm import tqdm\n",
    "\n",
    "# Config Logging format\n",
    "# logging.basicConfig(format='%(asctime)s - %(message)s', level=logging.INFO)\n",
    "# Config logging module to enable on notebook\n",
    "# logger = logging.getLogger()\n",
    "# logger.setLevel(logging.DEBUG)\n",
    "\n",
    "# Block any pop-up windows\n",
    "os.environ['SDL_VIDEODRIVER'] = 'dummy'\n",
    "\n",
    "# Test GPU and show the available logical & physical GPUs\n",
    "Util.test_gpu()\n",
    "\n",
    "env = FlappyBirdEnv()\n",
    "NUM_STATE_FEATURES = env.get_num_state_features()\n",
    "NUM_ACTIONS = env.get_num_actions()\n",
    "EPISODE_NUM = 10000\n",
    "PRINT_EVERY_EPISODE = 50\n",
    "LEARNING_RATE = 0.003\n",
    "REWARD_DISCOUNT = 0.99\n",
    "\n",
    "exp_stg = EpsilonGreedy(0.2, NUM_ACTIONS)\n",
    "agent = Agent((NUM_STATE_FEATURES, ), NUM_ACTIONS, REWARD_DISCOUNT, LEARNING_RATE, exp_stg)\n",
    "\n",
    "state = env.reset()\n",
    "accum_reward = 0\n",
    "\n",
    "# tqdm progress bar\n",
    "bar = []\n",
    "# Reward & LossHistory\n",
    "r_his = []\n",
    "avg_r_his = [0]\n",
    "loss_his = []\n",
    "episode_reward = 0\n",
    "\n",
    "print(\"Episode 1\")\n",
    "for episode in range(1, EPISODE_NUM + 1):\n",
    "    if episode % PRINT_EVERY_EPISODE == 1:\n",
    "        if episode > 1:\n",
    "            bar.close()\n",
    "            print(\"Avgerage Accumulated Reward: {} | Loss: {}\".format(round(accum_reward / PRINT_EVERY_EPISODE), agent.get_metrics_loss()))\n",
    "            print(\"Episode {}\".format(episode))\n",
    "            agent.reset_metrics_loss()\n",
    "            avg_r_his.append(round(accum_reward / PRINT_EVERY_EPISODE))\n",
    "            accum_reward = 0\n",
    "        bar = tqdm(total = PRINT_EVERY_EPISODE)\n",
    "\n",
    "    episode_reward, episode_loss = agent.train_on_env(env)\n",
    "    accum_reward += episode_reward\n",
    "    r_his.append(episode_reward)\n",
    "    loss_his.append(episode_loss)\n",
    "    \n",
    "    episode_reward = 0\n",
    "\n",
    "    bar.update(1)        \n",
    "    env.reset()\n",
    "\n",
    "bar.close()    \n",
    "print(\"Accumulated Reward: {} | Loss: {}\".format(round(accum_reward / PRINT_EVERY_EPISODE), agent.get_metrics_loss()))\n",
    "avg_r_his.append(round(accum_reward / PRINT_EVERY_EPISODE))\n",
    "agent.reset_metrics_loss()\n",
    "\n",
    "# Evaluate the model\n",
    "agent.shutdown_explore()\n",
    "agent.reset_metrics_loss()\n",
    "# Reset Game\n",
    "env_state = env.reset()\n",
    "accum_reward = 0\n",
    "\n",
    "while not env.is_over():\n",
    "    # env.render()\n",
    "    action, act_log_prob, value = agent.select_action(state)\n",
    "    state_prime, reward, is_done, info = env.act(action)\n",
    "\n",
    "    state = state_prime\n",
    "    accum_reward += reward\n",
    "\n",
    "print(\"Evaluate\")\n",
    "print(\"Accumulated Reward: {}\".format(round(accum_reward)))\n",
    "\n",
    "# Plot Reward History\n",
    "# figure(num=None, figsize=(24, 6), dpi=80)\n",
    "fig, (ax1, ax2) = plt.subplots(2, 1, figsize=(24, 6), dpi=80)\n",
    "fig.suptitle(f'FlappyBird A2C Result (Evaluate Reward: {round(accum_reward)})')\n",
    "x_datas = range(0, len(r_his))\n",
    "avg_x_datas = range(0, EPISODE_NUM + 1, PRINT_EVERY_EPISODE)\n",
    "\n",
    "ax1.plot(x_datas, r_his, color='blue')\n",
    "ax1.plot(avg_x_datas, avg_r_his, color='red')\n",
    "ax1.set_xlabel('Episodes')\n",
    "ax1.set_ylabel('Reward / Episode')\n",
    "ax1.grid()\n",
    "\n",
    "ax2.plot(x_datas, loss_his, color='orange')\n",
    "ax2.set_xlabel('Episodes')\n",
    "ax2.set_ylabel('Loss / Episode')\n",
    "ax2.grid()\n",
    "\n",
    "plt.savefig('FlappyBird-A2C-res.svg')\n",
    "plt.show()"
   ]
  }
 ],
 "metadata": {
  "kernelspec": {
   "display_name": "tf2",
   "language": "python",
   "name": "tf2"
  },
  "language_info": {
   "codemirror_mode": {
    "name": "ipython",
    "version": 3
   },
   "file_extension": ".py",
   "mimetype": "text/x-python",
   "name": "python",
   "nbconvert_exporter": "python",
   "pygments_lexer": "ipython3",
   "version": "3.6.8"
  }
 },
 "nbformat": 4,
 "nbformat_minor": 2
}
