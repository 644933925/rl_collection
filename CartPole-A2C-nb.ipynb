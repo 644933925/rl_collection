{
 "cells": [
  {
   "cell_type": "code",
   "execution_count": 5,
   "metadata": {},
   "outputs": [],
   "source": [
    "# CartPole Env\n",
    "import gym\n",
    "import matplotlib as plt\n",
    "\n",
    "class CartPoleEnv:\n",
    "    def __init__(self):\n",
    "        self.fps = 30\n",
    "        self.env = gym.make('CartPole-v0')  # environment interface to game\n",
    "        self.env.seed(42)\n",
    "        self.env.reset()\n",
    "        self.is_show = False\n",
    "        self.current_sate = []\n",
    "        self.is_done = False\n",
    "\n",
    "    def render(self):\n",
    "        self.env.render()\n",
    "        \n",
    "    def reset(self, is_show = False):\n",
    "        state = self.env.reset()\n",
    "        state = state.tolist()\n",
    "        self.current_sate = state\n",
    "        self.is_done = False\n",
    "        self.is_show = is_show\n",
    "        if self.is_show:\n",
    "            self.env.render()\n",
    "\n",
    "        return state\n",
    "    \n",
    "    def act(self, action):\n",
    "        if self.is_show:\n",
    "            self.env.render()\n",
    "        # return observation, reward, done, info\n",
    "        state, reward, is_done, info = self.env.step(self.get_action_set()[action])\n",
    "        state = state.tolist()\n",
    "        self.current_sate = state\n",
    "        self.is_done = is_done\n",
    "        return state, reward, is_done, info\n",
    "\n",
    "    def get_num_actions(self):\n",
    "        return 2\n",
    "\n",
    "    def get_action_set(self):\n",
    "        return [0, 1]\n",
    "\n",
    "    def get_screen_rgb(self):\n",
    "        pass\n",
    "\n",
    "    def get_screen_gray(self):\n",
    "        pass\n",
    "\n",
    "    def get_num_state_features(self):\n",
    "        return 4\n",
    "\n",
    "    def get_state(self):\n",
    "        return self.current_sate\n",
    "\n",
    "    def is_over(self):\n",
    "        return self.is_done\n"
   ]
  },
  {
   "cell_type": "code",
   "execution_count": 6,
   "metadata": {},
   "outputs": [],
   "source": [
    "import numpy as np\n",
    "\n",
    "class EpsilonGreedy:\n",
    "    def __init__(self, epsilon, num_action, min_epsilon = 0.01, decay = 0.99):\n",
    "        self.epsilon = epsilon\n",
    "        self.num_action = num_action\n",
    "        self.min_epsilon = min_epsilon\n",
    "        self.decay = decay\n",
    "        self.action_time = 0\n",
    "\n",
    "    def select_action(self):\n",
    "        self.action_time += 1\n",
    "        if np.random.rand() < self.epsilon:\n",
    "            self.update_epsilon()\n",
    "            return np.random.choice(self.num_action)\n",
    "        else: \n",
    "            self.update_epsilon()\n",
    "            return -1\n",
    "    \n",
    "    def update_epsilon(self):\n",
    "        self.epsilon = max(self.min_epsilon, min(0.5, 0.99**(self.action_time / 30)))\n",
    "    \n",
    "    def shutdown_explore(self):\n",
    "        self.epsilon = 0"
   ]
  },
  {
   "cell_type": "code",
   "execution_count": 7,
   "metadata": {},
   "outputs": [],
   "source": [
    "import tensorflow as tf\n",
    "import numpy as np\n",
    "\n",
    "class Agent:\n",
    "    def __init__(self, state_size, num_action, reward_discount, learning_rate, exploration_strategy):\n",
    "        self.state_size = state_size\n",
    "        self.num_action = num_action\n",
    "        self.reward_discount = reward_discount\n",
    "        self.exploration_strategy = exploration_strategy\n",
    "        self.iter = 0\n",
    "        self.eps = 0\n",
    "        self.data_type = tf.float32\n",
    "        self.optimizer = tf.keras.optimizers.Adam(learning_rate = learning_rate)\n",
    "        self.avg_loss = tf.keras.metrics.Mean(name = 'loss')\n",
    "        self.model = self.build_model('model')\n",
    "        self.is_shutdown_explore = False\n",
    "\n",
    "        # For A2C loss function coefficients\n",
    "        self.coef_entropy = 0\n",
    "        self.coef_value = 1\n",
    "\n",
    "    def build_model(self, name):\n",
    "        # # Shared layers\n",
    "        # nn_input = tf.keras.Input(shape = self.state_size, dtype = self.data_type)\n",
    "        # x = tf.keras.layers.Dense(units = 64)(nn_input)\n",
    "        # x = tf.keras.layers.ReLU()(x)\n",
    "        # x = tf.keras.layers.Dense(units = 128)(x)\n",
    "        # common = tf.keras.layers.ReLU()(x)\n",
    "\n",
    "        # # Actor Model\n",
    "        # actor_layer = tf.keras.layers.Dense(units = 64)(common)\n",
    "        # actor_layer = tf.keras.layers.ReLU()(actor_layer)\n",
    "        # actor_layer = tf.keras.layers.Dense(units = self.num_action)(actor_layer)\n",
    "        # actor_nn_output = tf.keras.activations.softmax(actor_layer)\n",
    "\n",
    "        # # Critic Model\n",
    "        # critic_layer = tf.keras.layers.Dense(units = 64)(common)\n",
    "        # critic_layer = tf.keras.layers.ReLU()(critic_layer)\n",
    "        # critic_nn_output = tf.keras.layers.Dense(units = 1)(critic_layer)\n",
    "\n",
    "        # # Combine into a model\n",
    "        # model = tf.keras.Model(name = name, inputs = nn_input, outputs = [actor_nn_output, critic_nn_output])\n",
    "\n",
    "        inputs = tf.keras.layers.Input(shape=self.state_size)\n",
    "#         x = tf.keras.layers.Dense(128, activation=\"relu\")(inputs)\n",
    "        common = tf.keras.layers.Dense(128, activation=\"relu\")(inputs)\n",
    "        action = tf.keras.layers.Dense(self.num_action, activation=\"softmax\")(common)\n",
    "        critic = tf.keras.layers.Dense(1)(common)\n",
    "\n",
    "        model = tf.keras.Model(inputs=inputs, outputs=[action, critic])\n",
    "\n",
    "        return model\n",
    "\n",
    "    def predict(self, state):\n",
    "        return self.model(tf.convert_to_tensor(state, self.data_type))\n",
    "    \n",
    "\n",
    "\n",
    "    def loss(self, action_probs, critic_values, rewards):\n",
    "        # Calculate accumulated reward Q(s, a) with discount\n",
    "        np_rewards = np.array(rewards)\n",
    "        num_reward = np_rewards.shape[0]\n",
    "        discounts = np.logspace(0, num_reward, base = self.reward_discount, num = num_reward)\n",
    "        \n",
    "        q_values = np.zeros(num_reward)\n",
    "        for i in range(num_reward):\n",
    "            q_values[i] = np.sum(np.multiply(np_rewards[i:], discounts[:num_reward - i]))\n",
    "        q_values = (q_values - np.mean(q_values)) / (np.std(q_values) + 1e-9)\n",
    "\n",
    "        # Calculate the Actor Loss and Advantage A(s, a) = Q_value(s, a) - value(s)\n",
    "        action_log_prbs = tf.math.log(action_probs)\n",
    "        advs = q_values - critic_values\n",
    "        actor_loss = -action_log_prbs * advs\n",
    "        \n",
    "        \n",
    "        # Calculate the critic loss \n",
    "        huber = tf.keras.losses.Huber()\n",
    "        critic_loss = huber(tf.convert_to_tensor(critic_values, dtype = self.data_type), tf.convert_to_tensor(q_values, dtype = self.data_type))\n",
    "\n",
    "        # Calculate the cross entropy of action distribution\n",
    "        entropy = tf.reduce_sum(action_probs * action_log_prbs * -1)\n",
    "        \n",
    "        # Compute loss as formular: loss = Sum of a trajectory(-log(Pr(s, a| Theta)) * Advantage + coefficient of value * Value - coefficient of entropy * cross entropy of action distribution)\n",
    "        # Advantage: A(s, a) = Q_value(s, a) - value(s)\n",
    "        # The modification refer to the implement of Baseline A2C from OpenAI\n",
    "        # Update model with a trajectory Every time.\n",
    "        return tf.reduce_sum(actor_loss + self.coef_value * critic_loss - self.coef_entropy * entropy)\n",
    "\n",
    "    def get_metrics_loss(self):\n",
    "        return self.avg_loss.result()\n",
    "    \n",
    "    def reset_metrics_loss(self):\n",
    "        self.avg_loss.reset_states()\n",
    "\n",
    "    def select_action(self, state):\n",
    "        # Predict the probability of each action(Stochastic Policy)\n",
    "        act_dist, value = self.predict([state])\n",
    "        act_dist = tf.squeeze(act_dist)\n",
    "        value = tf.squeeze(value)\n",
    "        # Assume using Epsilon Greedy Strategy\n",
    "        action = self.exploration_strategy.select_action()\n",
    "        \n",
    "        # If the index of action (return value) is -1, choose the action with highest probability that model predict\n",
    "#         if action == -1 or self.shutdown_explore == True:\n",
    "#             # Pick then action with HIGHTEST probability\n",
    "#             act_idx = tf.argmax(act_dist, axis = 0).numpy()\n",
    "#             return act_idx, act_dist, value\n",
    "#         else:\n",
    "#             # If the index of action (return value) is != -1, act randomly    \n",
    "#             return action, act_dist, value\n",
    "        return np.random.choice(self.num_action, p=np.squeeze(act_dist)), act_dist, value\n",
    "\n",
    "    def shutdown_explore(self):\n",
    "        self.is_shutdown_explore = True\n",
    "        self.exploration_strategy.shutdown_explore()\n",
    "    \n",
    "    def update(self, loss, tape):\n",
    "        gradients = tape.gradient(loss, self.model.trainable_variables)\n",
    "        # gradients = [gradients if gradients is not None else tf.zeros_like(var) for var, grad in zip(self.model.trainable_variables, gradients)]\n",
    "        self.optimizer.apply_gradients(zip(gradients, self.model.trainable_variables))\n",
    "        self.avg_loss.update_state(loss)\n",
    "\n",
    "        # Update exploration rate of Epsilon Greedy Strategy\n",
    "        self.exploration_strategy.update_epsilon()\n",
    "\n",
    "        self.iter += 1\n",
    "        self.eps += 1\n",
    "\n",
    "    def train_on_env(self, env, is_show = False):\n",
    "        with tf.GradientTape() as tape:\n",
    "            tape.watch(self.model.trainable_variables)\n",
    "            episode_reward = 0\n",
    "            state = env.reset(is_show)\n",
    "\n",
    "            action_probs = []\n",
    "            critic_values = []\n",
    "            rewards = []\n",
    "\n",
    "            while not env.is_over():\n",
    "                # env.render()\n",
    "                action, act_prob_dist, value = self.select_action(state)\n",
    "                \n",
    "                act_prob = act_prob_dist[action]\n",
    "                state_prime, reward, is_done, info = env.act(action)\n",
    "                # print(f'State: {state}, Action: {action}, Reward: {reward}, State_Prime: {state_prime}')\n",
    "\n",
    "                state = state_prime\n",
    "                episode_reward += reward\n",
    "\n",
    "                action_probs.append(act_prob)\n",
    "                critic_values.append(value)\n",
    "                rewards.append(reward)\n",
    "\n",
    "            loss = self.loss(action_probs, critic_values, rewards)\n",
    "            self.update(loss, tape)\n",
    "            env.reset()\n",
    "\n",
    "            return episode_reward, loss"
   ]
  },
  {
   "cell_type": "code",
   "execution_count": 8,
   "metadata": {
    "scrolled": false
   },
   "outputs": [
    {
     "name": "stdout",
     "output_type": "stream",
     "text": [
      "4 Physical GPUs, 1 Logical GPUs\n",
      "Episode 1\n"
     ]
    },
    {
     "data": {
      "application/vnd.jupyter.widget-view+json": {
       "model_id": "9aae9138bfbb4e87b68b0a0ed1fc7dc1",
       "version_major": 2,
       "version_minor": 0
      },
      "text/plain": [
       "HBox(children=(FloatProgress(value=0.0, max=20.0), HTML(value='')))"
      ]
     },
     "metadata": {},
     "output_type": "display_data"
    },
    {
     "name": "stdout",
     "output_type": "stream",
     "text": [
      "\n",
      "Avgerage Accumulated Reward: 24 | Loss: 12.148900985717773\n",
      "Episode 21\n"
     ]
    },
    {
     "data": {
      "application/vnd.jupyter.widget-view+json": {
       "model_id": "133faa00591b4a438f4bcf158fc4998a",
       "version_major": 2,
       "version_minor": 0
      },
      "text/plain": [
       "HBox(children=(FloatProgress(value=0.0, max=20.0), HTML(value='')))"
      ]
     },
     "metadata": {},
     "output_type": "display_data"
    },
    {
     "name": "stdout",
     "output_type": "stream",
     "text": [
      "\n",
      "Avgerage Accumulated Reward: 46 | Loss: 18.8170223236084\n",
      "Episode 41\n"
     ]
    },
    {
     "data": {
      "application/vnd.jupyter.widget-view+json": {
       "model_id": "4c017263f75742b6bffd03fd455e0a0d",
       "version_major": 2,
       "version_minor": 0
      },
      "text/plain": [
       "HBox(children=(FloatProgress(value=0.0, max=20.0), HTML(value='')))"
      ]
     },
     "metadata": {},
     "output_type": "display_data"
    },
    {
     "name": "stdout",
     "output_type": "stream",
     "text": [
      "\n",
      "Avgerage Accumulated Reward: 61 | Loss: 25.725399017333984\n",
      "Episode 61\n"
     ]
    },
    {
     "data": {
      "application/vnd.jupyter.widget-view+json": {
       "model_id": "95caea50cc4a43108c0c4572abc13a1b",
       "version_major": 2,
       "version_minor": 0
      },
      "text/plain": [
       "HBox(children=(FloatProgress(value=0.0, max=20.0), HTML(value='')))"
      ]
     },
     "metadata": {},
     "output_type": "display_data"
    },
    {
     "name": "stdout",
     "output_type": "stream",
     "text": [
      "\n",
      "Avgerage Accumulated Reward: 102 | Loss: 31.720775604248047\n",
      "Episode 81\n"
     ]
    },
    {
     "data": {
      "application/vnd.jupyter.widget-view+json": {
       "model_id": "8c319f0a9db64a91a6806a0f8e6e8df3",
       "version_major": 2,
       "version_minor": 0
      },
      "text/plain": [
       "HBox(children=(FloatProgress(value=0.0, max=20.0), HTML(value='')))"
      ]
     },
     "metadata": {},
     "output_type": "display_data"
    },
    {
     "name": "stdout",
     "output_type": "stream",
     "text": [
      "\n",
      "Avgerage Accumulated Reward: 117 | Loss: 28.90985679626465\n",
      "Episode 101\n"
     ]
    },
    {
     "data": {
      "application/vnd.jupyter.widget-view+json": {
       "model_id": "cb90a8a84d0a4b51987775cc48096129",
       "version_major": 2,
       "version_minor": 0
      },
      "text/plain": [
       "HBox(children=(FloatProgress(value=0.0, max=20.0), HTML(value='')))"
      ]
     },
     "metadata": {},
     "output_type": "display_data"
    },
    {
     "name": "stdout",
     "output_type": "stream",
     "text": [
      "\n",
      "Avgerage Accumulated Reward: 120 | Loss: 18.084636688232422\n",
      "Episode 121\n"
     ]
    },
    {
     "data": {
      "application/vnd.jupyter.widget-view+json": {
       "model_id": "582898fbae6b4d5fb4c5261ab449e83b",
       "version_major": 2,
       "version_minor": 0
      },
      "text/plain": [
       "HBox(children=(FloatProgress(value=0.0, max=20.0), HTML(value='')))"
      ]
     },
     "metadata": {},
     "output_type": "display_data"
    },
    {
     "name": "stdout",
     "output_type": "stream",
     "text": [
      "\n",
      "Avgerage Accumulated Reward: 151 | Loss: 42.25358200073242\n",
      "Episode 141\n"
     ]
    },
    {
     "data": {
      "application/vnd.jupyter.widget-view+json": {
       "model_id": "a78c16734b8c4d889be9eb5019b9c173",
       "version_major": 2,
       "version_minor": 0
      },
      "text/plain": [
       "HBox(children=(FloatProgress(value=0.0, max=20.0), HTML(value='')))"
      ]
     },
     "metadata": {},
     "output_type": "display_data"
    },
    {
     "name": "stdout",
     "output_type": "stream",
     "text": [
      "\n",
      "Avgerage Accumulated Reward: 172 | Loss: 26.66937255859375\n",
      "Episode 161\n"
     ]
    },
    {
     "data": {
      "application/vnd.jupyter.widget-view+json": {
       "model_id": "cad19ad6b7fc458d8e6586e6c3f70493",
       "version_major": 2,
       "version_minor": 0
      },
      "text/plain": [
       "HBox(children=(FloatProgress(value=0.0, max=20.0), HTML(value='')))"
      ]
     },
     "metadata": {},
     "output_type": "display_data"
    },
    {
     "name": "stdout",
     "output_type": "stream",
     "text": [
      "\n",
      "Avgerage Accumulated Reward: 187 | Loss: 29.5415096282959\n",
      "Episode 181\n"
     ]
    },
    {
     "data": {
      "application/vnd.jupyter.widget-view+json": {
       "model_id": "0bbb90a97f6342f6b4ad1fdd0ba011e2",
       "version_major": 2,
       "version_minor": 0
      },
      "text/plain": [
       "HBox(children=(FloatProgress(value=0.0, max=20.0), HTML(value='')))"
      ]
     },
     "metadata": {},
     "output_type": "display_data"
    },
    {
     "name": "stdout",
     "output_type": "stream",
     "text": [
      "\n",
      "Avgerage Accumulated Reward: 196 | Loss: 48.2578125\n",
      "Episode 201\n"
     ]
    },
    {
     "data": {
      "application/vnd.jupyter.widget-view+json": {
       "model_id": "ba9ec624b3a14cb5baf7004452ecdf9b",
       "version_major": 2,
       "version_minor": 0
      },
      "text/plain": [
       "HBox(children=(FloatProgress(value=0.0, max=20.0), HTML(value='')))"
      ]
     },
     "metadata": {},
     "output_type": "display_data"
    },
    {
     "name": "stdout",
     "output_type": "stream",
     "text": [
      "\n",
      "Avgerage Accumulated Reward: 185 | Loss: 52.57393264770508\n",
      "Episode 221\n"
     ]
    },
    {
     "data": {
      "application/vnd.jupyter.widget-view+json": {
       "model_id": "5e74990eceb745658678a5f534700c60",
       "version_major": 2,
       "version_minor": 0
      },
      "text/plain": [
       "HBox(children=(FloatProgress(value=0.0, max=20.0), HTML(value='')))"
      ]
     },
     "metadata": {},
     "output_type": "display_data"
    },
    {
     "name": "stdout",
     "output_type": "stream",
     "text": [
      "\n",
      "Avgerage Accumulated Reward: 151 | Loss: 18.620136260986328\n",
      "Episode 241\n"
     ]
    },
    {
     "data": {
      "application/vnd.jupyter.widget-view+json": {
       "model_id": "566390f57be44dbb84ccf2aa1f76e0ec",
       "version_major": 2,
       "version_minor": 0
      },
      "text/plain": [
       "HBox(children=(FloatProgress(value=0.0, max=20.0), HTML(value='')))"
      ]
     },
     "metadata": {},
     "output_type": "display_data"
    },
    {
     "name": "stdout",
     "output_type": "stream",
     "text": [
      "\n",
      "Avgerage Accumulated Reward: 187 | Loss: 35.090248107910156\n",
      "Episode 261\n"
     ]
    },
    {
     "data": {
      "application/vnd.jupyter.widget-view+json": {
       "model_id": "93c7a4763c4547369be7f84980838760",
       "version_major": 2,
       "version_minor": 0
      },
      "text/plain": [
       "HBox(children=(FloatProgress(value=0.0, max=20.0), HTML(value='')))"
      ]
     },
     "metadata": {},
     "output_type": "display_data"
    },
    {
     "name": "stdout",
     "output_type": "stream",
     "text": [
      "\n",
      "Avgerage Accumulated Reward: 192 | Loss: 38.935508728027344\n",
      "Episode 281\n"
     ]
    },
    {
     "data": {
      "application/vnd.jupyter.widget-view+json": {
       "model_id": "afa830acfef64824b0b87f6bc85da946",
       "version_major": 2,
       "version_minor": 0
      },
      "text/plain": [
       "HBox(children=(FloatProgress(value=0.0, max=20.0), HTML(value='')))"
      ]
     },
     "metadata": {},
     "output_type": "display_data"
    },
    {
     "name": "stdout",
     "output_type": "stream",
     "text": [
      "\n",
      "Avgerage Accumulated Reward: 200 | Loss: 48.818504333496094\n",
      "Episode 301\n"
     ]
    },
    {
     "data": {
      "application/vnd.jupyter.widget-view+json": {
       "model_id": "ed321cbfab98472d9eeafbfada95cdb5",
       "version_major": 2,
       "version_minor": 0
      },
      "text/plain": [
       "HBox(children=(FloatProgress(value=0.0, max=20.0), HTML(value='')))"
      ]
     },
     "metadata": {},
     "output_type": "display_data"
    },
    {
     "name": "stdout",
     "output_type": "stream",
     "text": [
      "\n",
      "Avgerage Accumulated Reward: 200 | Loss: 49.27289581298828\n",
      "Episode 321\n"
     ]
    },
    {
     "data": {
      "application/vnd.jupyter.widget-view+json": {
       "model_id": "a18c00bd643c43d4b1faf934409b5a9b",
       "version_major": 2,
       "version_minor": 0
      },
      "text/plain": [
       "HBox(children=(FloatProgress(value=0.0, max=20.0), HTML(value='')))"
      ]
     },
     "metadata": {},
     "output_type": "display_data"
    },
    {
     "name": "stdout",
     "output_type": "stream",
     "text": [
      "\n",
      "Avgerage Accumulated Reward: 197 | Loss: 43.152915954589844\n",
      "Episode 341\n"
     ]
    },
    {
     "data": {
      "application/vnd.jupyter.widget-view+json": {
       "model_id": "7e26f2e455c443138f3c6132695d8368",
       "version_major": 2,
       "version_minor": 0
      },
      "text/plain": [
       "HBox(children=(FloatProgress(value=0.0, max=20.0), HTML(value='')))"
      ]
     },
     "metadata": {},
     "output_type": "display_data"
    },
    {
     "name": "stdout",
     "output_type": "stream",
     "text": [
      "\n",
      "Avgerage Accumulated Reward: 195 | Loss: 30.594669342041016\n",
      "Episode 361\n"
     ]
    },
    {
     "data": {
      "application/vnd.jupyter.widget-view+json": {
       "model_id": "1b7606a77a3a4cb99a4dcbde9f167937",
       "version_major": 2,
       "version_minor": 0
      },
      "text/plain": [
       "HBox(children=(FloatProgress(value=0.0, max=20.0), HTML(value='')))"
      ]
     },
     "metadata": {},
     "output_type": "display_data"
    },
    {
     "name": "stdout",
     "output_type": "stream",
     "text": [
      "\n",
      "Avgerage Accumulated Reward: 196 | Loss: 53.95465850830078\n",
      "Episode 381\n"
     ]
    },
    {
     "data": {
      "application/vnd.jupyter.widget-view+json": {
       "model_id": "09facd07a24d4364b63cfe9f8aedb1e5",
       "version_major": 2,
       "version_minor": 0
      },
      "text/plain": [
       "HBox(children=(FloatProgress(value=0.0, max=20.0), HTML(value='')))"
      ]
     },
     "metadata": {},
     "output_type": "display_data"
    },
    {
     "name": "stdout",
     "output_type": "stream",
     "text": [
      "\n",
      "Avgerage Accumulated Reward: 196 | Loss: 35.39226531982422\n",
      "Episode 401\n"
     ]
    },
    {
     "data": {
      "application/vnd.jupyter.widget-view+json": {
       "model_id": "c3e58ee5075b4422a6b39123b4d46ffd",
       "version_major": 2,
       "version_minor": 0
      },
      "text/plain": [
       "HBox(children=(FloatProgress(value=0.0, max=20.0), HTML(value='')))"
      ]
     },
     "metadata": {},
     "output_type": "display_data"
    },
    {
     "name": "stdout",
     "output_type": "stream",
     "text": [
      "\n",
      "Avgerage Accumulated Reward: 200 | Loss: 52.132896423339844\n",
      "Episode 421\n"
     ]
    },
    {
     "data": {
      "application/vnd.jupyter.widget-view+json": {
       "model_id": "e287014199064a0191dba9e5b4779c4f",
       "version_major": 2,
       "version_minor": 0
      },
      "text/plain": [
       "HBox(children=(FloatProgress(value=0.0, max=20.0), HTML(value='')))"
      ]
     },
     "metadata": {},
     "output_type": "display_data"
    },
    {
     "name": "stdout",
     "output_type": "stream",
     "text": [
      "\n",
      "Avgerage Accumulated Reward: 179 | Loss: 19.24551773071289\n",
      "Episode 441\n"
     ]
    },
    {
     "data": {
      "application/vnd.jupyter.widget-view+json": {
       "model_id": "4e2dce2df92846bfacc246f85fa92d26",
       "version_major": 2,
       "version_minor": 0
      },
      "text/plain": [
       "HBox(children=(FloatProgress(value=0.0, max=20.0), HTML(value='')))"
      ]
     },
     "metadata": {},
     "output_type": "display_data"
    },
    {
     "name": "stdout",
     "output_type": "stream",
     "text": [
      "\n",
      "Avgerage Accumulated Reward: 195 | Loss: 36.260841369628906\n",
      "Episode 461\n"
     ]
    },
    {
     "data": {
      "application/vnd.jupyter.widget-view+json": {
       "model_id": "f74d3538b50d45f19f0640811d85760a",
       "version_major": 2,
       "version_minor": 0
      },
      "text/plain": [
       "HBox(children=(FloatProgress(value=0.0, max=20.0), HTML(value='')))"
      ]
     },
     "metadata": {},
     "output_type": "display_data"
    },
    {
     "name": "stdout",
     "output_type": "stream",
     "text": [
      "\n",
      "Avgerage Accumulated Reward: 200 | Loss: 48.371009826660156\n",
      "Episode 481\n"
     ]
    },
    {
     "data": {
      "application/vnd.jupyter.widget-view+json": {
       "model_id": "4c74dccf331e48959e996efd5d441347",
       "version_major": 2,
       "version_minor": 0
      },
      "text/plain": [
       "HBox(children=(FloatProgress(value=0.0, max=20.0), HTML(value='')))"
      ]
     },
     "metadata": {},
     "output_type": "display_data"
    },
    {
     "name": "stdout",
     "output_type": "stream",
     "text": [
      "\n",
      "Avgerage Accumulated Reward: 187 | Loss: 51.05027389526367\n",
      "Episode 501\n"
     ]
    },
    {
     "data": {
      "application/vnd.jupyter.widget-view+json": {
       "model_id": "e2c64cd2cba94af6a5a9cfdb63afa7fb",
       "version_major": 2,
       "version_minor": 0
      },
      "text/plain": [
       "HBox(children=(FloatProgress(value=0.0, max=20.0), HTML(value='')))"
      ]
     },
     "metadata": {},
     "output_type": "display_data"
    },
    {
     "name": "stdout",
     "output_type": "stream",
     "text": [
      "\n",
      "Avgerage Accumulated Reward: 189 | Loss: 44.84046173095703\n",
      "Episode 521\n"
     ]
    },
    {
     "data": {
      "application/vnd.jupyter.widget-view+json": {
       "model_id": "e12b11ba9fbe4c6baff0e5292c37b429",
       "version_major": 2,
       "version_minor": 0
      },
      "text/plain": [
       "HBox(children=(FloatProgress(value=0.0, max=20.0), HTML(value='')))"
      ]
     },
     "metadata": {},
     "output_type": "display_data"
    },
    {
     "name": "stdout",
     "output_type": "stream",
     "text": [
      "\n",
      "Avgerage Accumulated Reward: 196 | Loss: 28.04030990600586\n",
      "Episode 541\n"
     ]
    },
    {
     "data": {
      "application/vnd.jupyter.widget-view+json": {
       "model_id": "5f8d44388e3a4761b417a4498732bcd3",
       "version_major": 2,
       "version_minor": 0
      },
      "text/plain": [
       "HBox(children=(FloatProgress(value=0.0, max=20.0), HTML(value='')))"
      ]
     },
     "metadata": {},
     "output_type": "display_data"
    },
    {
     "name": "stdout",
     "output_type": "stream",
     "text": [
      "\n",
      "Avgerage Accumulated Reward: 189 | Loss: 32.432395935058594\n",
      "Episode 561\n"
     ]
    },
    {
     "data": {
      "application/vnd.jupyter.widget-view+json": {
       "model_id": "ce60f4f7462b4c11a3b6e5bab60fb4cf",
       "version_major": 2,
       "version_minor": 0
      },
      "text/plain": [
       "HBox(children=(FloatProgress(value=0.0, max=20.0), HTML(value='')))"
      ]
     },
     "metadata": {},
     "output_type": "display_data"
    },
    {
     "name": "stdout",
     "output_type": "stream",
     "text": [
      "\n",
      "Avgerage Accumulated Reward: 190 | Loss: 24.490983963012695\n",
      "Episode 581\n"
     ]
    },
    {
     "data": {
      "application/vnd.jupyter.widget-view+json": {
       "model_id": "56589d0da8154bab883f4593767947f7",
       "version_major": 2,
       "version_minor": 0
      },
      "text/plain": [
       "HBox(children=(FloatProgress(value=0.0, max=20.0), HTML(value='')))"
      ]
     },
     "metadata": {},
     "output_type": "display_data"
    },
    {
     "name": "stdout",
     "output_type": "stream",
     "text": [
      "\n",
      "Avgerage Accumulated Reward: 193 | Loss: 13.038902282714844\n",
      "Episode 601\n"
     ]
    },
    {
     "data": {
      "application/vnd.jupyter.widget-view+json": {
       "model_id": "64fdf074cc434f64803ea1cfd8cfb9a0",
       "version_major": 2,
       "version_minor": 0
      },
      "text/plain": [
       "HBox(children=(FloatProgress(value=0.0, max=20.0), HTML(value='')))"
      ]
     },
     "metadata": {},
     "output_type": "display_data"
    },
    {
     "name": "stdout",
     "output_type": "stream",
     "text": [
      "\n",
      "Avgerage Accumulated Reward: 195 | Loss: 27.04570960998535\n",
      "Episode 621\n"
     ]
    },
    {
     "data": {
      "application/vnd.jupyter.widget-view+json": {
       "model_id": "c9f538031d7e4c42ae099deeff1d996f",
       "version_major": 2,
       "version_minor": 0
      },
      "text/plain": [
       "HBox(children=(FloatProgress(value=0.0, max=20.0), HTML(value='')))"
      ]
     },
     "metadata": {},
     "output_type": "display_data"
    },
    {
     "name": "stdout",
     "output_type": "stream",
     "text": [
      "\n",
      "Avgerage Accumulated Reward: 200 | Loss: 33.99336242675781\n",
      "Episode 641\n"
     ]
    },
    {
     "data": {
      "application/vnd.jupyter.widget-view+json": {
       "model_id": "e0d59eb894ea4e249e09e3f5f9e4eea9",
       "version_major": 2,
       "version_minor": 0
      },
      "text/plain": [
       "HBox(children=(FloatProgress(value=0.0, max=20.0), HTML(value='')))"
      ]
     },
     "metadata": {},
     "output_type": "display_data"
    },
    {
     "name": "stdout",
     "output_type": "stream",
     "text": [
      "\n",
      "Avgerage Accumulated Reward: 200 | Loss: 19.909564971923828\n",
      "Episode 661\n"
     ]
    },
    {
     "data": {
      "application/vnd.jupyter.widget-view+json": {
       "model_id": "3feaf7baede84f8c92683d7a9aa7fe20",
       "version_major": 2,
       "version_minor": 0
      },
      "text/plain": [
       "HBox(children=(FloatProgress(value=0.0, max=20.0), HTML(value='')))"
      ]
     },
     "metadata": {},
     "output_type": "display_data"
    },
    {
     "name": "stdout",
     "output_type": "stream",
     "text": [
      "\n",
      "Avgerage Accumulated Reward: 200 | Loss: 56.770484924316406\n",
      "Episode 681\n"
     ]
    },
    {
     "data": {
      "application/vnd.jupyter.widget-view+json": {
       "model_id": "db50d2b7aff94feeb34099d26b251e6d",
       "version_major": 2,
       "version_minor": 0
      },
      "text/plain": [
       "HBox(children=(FloatProgress(value=0.0, max=20.0), HTML(value='')))"
      ]
     },
     "metadata": {},
     "output_type": "display_data"
    },
    {
     "name": "stdout",
     "output_type": "stream",
     "text": [
      "\n",
      "Avgerage Accumulated Reward: 199 | Loss: 62.82231903076172\n",
      "Episode 701\n"
     ]
    },
    {
     "data": {
      "application/vnd.jupyter.widget-view+json": {
       "model_id": "fdcc444a9aae42949d028c31fb45984b",
       "version_major": 2,
       "version_minor": 0
      },
      "text/plain": [
       "HBox(children=(FloatProgress(value=0.0, max=20.0), HTML(value='')))"
      ]
     },
     "metadata": {},
     "output_type": "display_data"
    },
    {
     "name": "stdout",
     "output_type": "stream",
     "text": [
      "\n",
      "Avgerage Accumulated Reward: 200 | Loss: 62.399131774902344\n",
      "Episode 721\n"
     ]
    },
    {
     "data": {
      "application/vnd.jupyter.widget-view+json": {
       "model_id": "d225d15617f046ff8d93843755497906",
       "version_major": 2,
       "version_minor": 0
      },
      "text/plain": [
       "HBox(children=(FloatProgress(value=0.0, max=20.0), HTML(value='')))"
      ]
     },
     "metadata": {},
     "output_type": "display_data"
    },
    {
     "name": "stdout",
     "output_type": "stream",
     "text": [
      "\n",
      "Avgerage Accumulated Reward: 200 | Loss: 53.15924835205078\n",
      "Episode 741\n"
     ]
    },
    {
     "data": {
      "application/vnd.jupyter.widget-view+json": {
       "model_id": "d96b9305ba8c4c878b80a227b44b0eb1",
       "version_major": 2,
       "version_minor": 0
      },
      "text/plain": [
       "HBox(children=(FloatProgress(value=0.0, max=20.0), HTML(value='')))"
      ]
     },
     "metadata": {},
     "output_type": "display_data"
    },
    {
     "name": "stdout",
     "output_type": "stream",
     "text": [
      "\n",
      "Avgerage Accumulated Reward: 200 | Loss: 45.45025634765625\n",
      "Episode 761\n"
     ]
    },
    {
     "data": {
      "application/vnd.jupyter.widget-view+json": {
       "model_id": "196bc0b5272a415da2bcb3d3d3cda56d",
       "version_major": 2,
       "version_minor": 0
      },
      "text/plain": [
       "HBox(children=(FloatProgress(value=0.0, max=20.0), HTML(value='')))"
      ]
     },
     "metadata": {},
     "output_type": "display_data"
    },
    {
     "name": "stdout",
     "output_type": "stream",
     "text": [
      "\n",
      "Avgerage Accumulated Reward: 200 | Loss: 59.40447998046875\n",
      "Episode 781\n"
     ]
    },
    {
     "data": {
      "application/vnd.jupyter.widget-view+json": {
       "model_id": "5400ad8143d147d4ba4c03e10ed4dfdd",
       "version_major": 2,
       "version_minor": 0
      },
      "text/plain": [
       "HBox(children=(FloatProgress(value=0.0, max=20.0), HTML(value='')))"
      ]
     },
     "metadata": {},
     "output_type": "display_data"
    },
    {
     "name": "stdout",
     "output_type": "stream",
     "text": [
      "\n",
      "Avgerage Accumulated Reward: 200 | Loss: 59.24421310424805\n",
      "Episode 801\n"
     ]
    },
    {
     "data": {
      "application/vnd.jupyter.widget-view+json": {
       "model_id": "aa3c66e589ac4b5e9daf6ed6529ab5d9",
       "version_major": 2,
       "version_minor": 0
      },
      "text/plain": [
       "HBox(children=(FloatProgress(value=0.0, max=20.0), HTML(value='')))"
      ]
     },
     "metadata": {},
     "output_type": "display_data"
    },
    {
     "name": "stdout",
     "output_type": "stream",
     "text": [
      "\n",
      "Avgerage Accumulated Reward: 199 | Loss: 56.34541702270508\n",
      "Episode 821\n"
     ]
    },
    {
     "data": {
      "application/vnd.jupyter.widget-view+json": {
       "model_id": "2b4e9046f0984a56a42f087754dcb58b",
       "version_major": 2,
       "version_minor": 0
      },
      "text/plain": [
       "HBox(children=(FloatProgress(value=0.0, max=20.0), HTML(value='')))"
      ]
     },
     "metadata": {},
     "output_type": "display_data"
    },
    {
     "name": "stdout",
     "output_type": "stream",
     "text": [
      "\n",
      "Avgerage Accumulated Reward: 196 | Loss: 21.153654098510742\n",
      "Episode 841\n"
     ]
    },
    {
     "data": {
      "application/vnd.jupyter.widget-view+json": {
       "model_id": "bb61dacaf9704f50a88fc0d9d8ef9913",
       "version_major": 2,
       "version_minor": 0
      },
      "text/plain": [
       "HBox(children=(FloatProgress(value=0.0, max=20.0), HTML(value='')))"
      ]
     },
     "metadata": {},
     "output_type": "display_data"
    },
    {
     "name": "stdout",
     "output_type": "stream",
     "text": [
      "\n",
      "Avgerage Accumulated Reward: 193 | Loss: 28.813928604125977\n",
      "Episode 861\n"
     ]
    },
    {
     "data": {
      "application/vnd.jupyter.widget-view+json": {
       "model_id": "ceaeb38508114785b9fbe148f5707a3c",
       "version_major": 2,
       "version_minor": 0
      },
      "text/plain": [
       "HBox(children=(FloatProgress(value=0.0, max=20.0), HTML(value='')))"
      ]
     },
     "metadata": {},
     "output_type": "display_data"
    },
    {
     "name": "stdout",
     "output_type": "stream",
     "text": [
      "\n",
      "Avgerage Accumulated Reward: 191 | Loss: 29.474140167236328\n",
      "Episode 881\n"
     ]
    },
    {
     "data": {
      "application/vnd.jupyter.widget-view+json": {
       "model_id": "8c1ed0d22e2049efa07218361b179c2d",
       "version_major": 2,
       "version_minor": 0
      },
      "text/plain": [
       "HBox(children=(FloatProgress(value=0.0, max=20.0), HTML(value='')))"
      ]
     },
     "metadata": {},
     "output_type": "display_data"
    },
    {
     "name": "stdout",
     "output_type": "stream",
     "text": [
      "\n",
      "Avgerage Accumulated Reward: 200 | Loss: 27.328506469726562\n",
      "Episode 901\n"
     ]
    },
    {
     "data": {
      "application/vnd.jupyter.widget-view+json": {
       "model_id": "2ad10611d6e54a7592ead69fa1c779e9",
       "version_major": 2,
       "version_minor": 0
      },
      "text/plain": [
       "HBox(children=(FloatProgress(value=0.0, max=20.0), HTML(value='')))"
      ]
     },
     "metadata": {},
     "output_type": "display_data"
    },
    {
     "name": "stdout",
     "output_type": "stream",
     "text": [
      "\n",
      "Avgerage Accumulated Reward: 200 | Loss: 46.26395797729492\n",
      "Episode 921\n"
     ]
    },
    {
     "data": {
      "application/vnd.jupyter.widget-view+json": {
       "model_id": "164f765d35624776943a3b1dcc9af576",
       "version_major": 2,
       "version_minor": 0
      },
      "text/plain": [
       "HBox(children=(FloatProgress(value=0.0, max=20.0), HTML(value='')))"
      ]
     },
     "metadata": {},
     "output_type": "display_data"
    },
    {
     "name": "stdout",
     "output_type": "stream",
     "text": [
      "\n",
      "Avgerage Accumulated Reward: 198 | Loss: 42.614418029785156\n",
      "Episode 941\n"
     ]
    },
    {
     "data": {
      "application/vnd.jupyter.widget-view+json": {
       "model_id": "9bd0a1747f064f1dacbd5fa9ef72ea3f",
       "version_major": 2,
       "version_minor": 0
      },
      "text/plain": [
       "HBox(children=(FloatProgress(value=0.0, max=20.0), HTML(value='')))"
      ]
     },
     "metadata": {},
     "output_type": "display_data"
    },
    {
     "name": "stdout",
     "output_type": "stream",
     "text": [
      "\n",
      "Avgerage Accumulated Reward: 200 | Loss: 51.042423248291016\n",
      "Episode 961\n"
     ]
    },
    {
     "data": {
      "application/vnd.jupyter.widget-view+json": {
       "model_id": "0be61ae604484a20a0248795e2291721",
       "version_major": 2,
       "version_minor": 0
      },
      "text/plain": [
       "HBox(children=(FloatProgress(value=0.0, max=20.0), HTML(value='')))"
      ]
     },
     "metadata": {},
     "output_type": "display_data"
    },
    {
     "name": "stdout",
     "output_type": "stream",
     "text": [
      "\n",
      "Avgerage Accumulated Reward: 200 | Loss: 56.758705139160156\n",
      "Episode 981\n"
     ]
    },
    {
     "data": {
      "application/vnd.jupyter.widget-view+json": {
       "model_id": "41c98ad9b27b44c6a992ad08f96e9483",
       "version_major": 2,
       "version_minor": 0
      },
      "text/plain": [
       "HBox(children=(FloatProgress(value=0.0, max=20.0), HTML(value='')))"
      ]
     },
     "metadata": {},
     "output_type": "display_data"
    },
    {
     "name": "stdout",
     "output_type": "stream",
     "text": [
      "\n",
      "Avgerage Accumulated Reward: 199 | Loss: 59.959312438964844\n",
      "Episode 1001\n"
     ]
    },
    {
     "data": {
      "application/vnd.jupyter.widget-view+json": {
       "model_id": "541818fac69948f08716d8db5e164cf1",
       "version_major": 2,
       "version_minor": 0
      },
      "text/plain": [
       "HBox(children=(FloatProgress(value=0.0, max=20.0), HTML(value='')))"
      ]
     },
     "metadata": {},
     "output_type": "display_data"
    },
    {
     "name": "stdout",
     "output_type": "stream",
     "text": [
      "\n",
      "Avgerage Accumulated Reward: 196 | Loss: 41.21056365966797\n",
      "Episode 1021\n"
     ]
    },
    {
     "data": {
      "application/vnd.jupyter.widget-view+json": {
       "model_id": "3b8f44bf5584419d9df8da594f75aac4",
       "version_major": 2,
       "version_minor": 0
      },
      "text/plain": [
       "HBox(children=(FloatProgress(value=0.0, max=20.0), HTML(value='')))"
      ]
     },
     "metadata": {},
     "output_type": "display_data"
    },
    {
     "name": "stdout",
     "output_type": "stream",
     "text": [
      "\n",
      "Avgerage Accumulated Reward: 184 | Loss: 41.46380615234375\n",
      "Episode 1041\n"
     ]
    },
    {
     "data": {
      "application/vnd.jupyter.widget-view+json": {
       "model_id": "c4fccdb014ec4ebca7cb6490c3f981af",
       "version_major": 2,
       "version_minor": 0
      },
      "text/plain": [
       "HBox(children=(FloatProgress(value=0.0, max=20.0), HTML(value='')))"
      ]
     },
     "metadata": {},
     "output_type": "display_data"
    },
    {
     "name": "stdout",
     "output_type": "stream",
     "text": [
      "\n",
      "Avgerage Accumulated Reward: 190 | Loss: 35.44264602661133\n",
      "Episode 1061\n"
     ]
    },
    {
     "data": {
      "application/vnd.jupyter.widget-view+json": {
       "model_id": "9c7b09307eb44bdfaf403b01c0b268d0",
       "version_major": 2,
       "version_minor": 0
      },
      "text/plain": [
       "HBox(children=(FloatProgress(value=0.0, max=20.0), HTML(value='')))"
      ]
     },
     "metadata": {},
     "output_type": "display_data"
    },
    {
     "name": "stdout",
     "output_type": "stream",
     "text": [
      "\n",
      "Avgerage Accumulated Reward: 191 | Loss: 44.19203186035156\n",
      "Episode 1081\n"
     ]
    },
    {
     "data": {
      "application/vnd.jupyter.widget-view+json": {
       "model_id": "775ff35afe114c8cb6d891f06bc5b83d",
       "version_major": 2,
       "version_minor": 0
      },
      "text/plain": [
       "HBox(children=(FloatProgress(value=0.0, max=20.0), HTML(value='')))"
      ]
     },
     "metadata": {},
     "output_type": "display_data"
    },
    {
     "name": "stdout",
     "output_type": "stream",
     "text": [
      "\n",
      "Avgerage Accumulated Reward: 198 | Loss: 45.455589294433594\n",
      "Episode 1101\n"
     ]
    },
    {
     "data": {
      "application/vnd.jupyter.widget-view+json": {
       "model_id": "3febe8318475498dac55d70d377d649c",
       "version_major": 2,
       "version_minor": 0
      },
      "text/plain": [
       "HBox(children=(FloatProgress(value=0.0, max=20.0), HTML(value='')))"
      ]
     },
     "metadata": {},
     "output_type": "display_data"
    },
    {
     "name": "stdout",
     "output_type": "stream",
     "text": [
      "\n",
      "Avgerage Accumulated Reward: 200 | Loss: 42.613868713378906\n",
      "Episode 1121\n"
     ]
    },
    {
     "data": {
      "application/vnd.jupyter.widget-view+json": {
       "model_id": "e0b6c077c8174536b81d248667a2671b",
       "version_major": 2,
       "version_minor": 0
      },
      "text/plain": [
       "HBox(children=(FloatProgress(value=0.0, max=20.0), HTML(value='')))"
      ]
     },
     "metadata": {},
     "output_type": "display_data"
    },
    {
     "name": "stdout",
     "output_type": "stream",
     "text": [
      "\n",
      "Avgerage Accumulated Reward: 200 | Loss: 47.044002532958984\n",
      "Episode 1141\n"
     ]
    },
    {
     "data": {
      "application/vnd.jupyter.widget-view+json": {
       "model_id": "579b58ff3e374243b80bae72b20d7caa",
       "version_major": 2,
       "version_minor": 0
      },
      "text/plain": [
       "HBox(children=(FloatProgress(value=0.0, max=20.0), HTML(value='')))"
      ]
     },
     "metadata": {},
     "output_type": "display_data"
    },
    {
     "name": "stdout",
     "output_type": "stream",
     "text": [
      "\n",
      "Avgerage Accumulated Reward: 200 | Loss: 33.915367126464844\n",
      "Episode 1161\n"
     ]
    },
    {
     "data": {
      "application/vnd.jupyter.widget-view+json": {
       "model_id": "d6fedeae167f4886aca30b58baf41432",
       "version_major": 2,
       "version_minor": 0
      },
      "text/plain": [
       "HBox(children=(FloatProgress(value=0.0, max=20.0), HTML(value='')))"
      ]
     },
     "metadata": {},
     "output_type": "display_data"
    },
    {
     "name": "stdout",
     "output_type": "stream",
     "text": [
      "\n",
      "Avgerage Accumulated Reward: 200 | Loss: 33.7115478515625\n",
      "Episode 1181\n"
     ]
    },
    {
     "data": {
      "application/vnd.jupyter.widget-view+json": {
       "model_id": "484ff51161b04f038133c5830215d922",
       "version_major": 2,
       "version_minor": 0
      },
      "text/plain": [
       "HBox(children=(FloatProgress(value=0.0, max=20.0), HTML(value='')))"
      ]
     },
     "metadata": {},
     "output_type": "display_data"
    },
    {
     "name": "stdout",
     "output_type": "stream",
     "text": [
      "\n",
      "Avgerage Accumulated Reward: 200 | Loss: 20.171619415283203\n",
      "Episode 1201\n"
     ]
    },
    {
     "data": {
      "application/vnd.jupyter.widget-view+json": {
       "model_id": "2c14d43ff9414ba28ae584029bb04ba1",
       "version_major": 2,
       "version_minor": 0
      },
      "text/plain": [
       "HBox(children=(FloatProgress(value=0.0, max=20.0), HTML(value='')))"
      ]
     },
     "metadata": {},
     "output_type": "display_data"
    },
    {
     "name": "stdout",
     "output_type": "stream",
     "text": [
      "\n",
      "Avgerage Accumulated Reward: 200 | Loss: 42.56952667236328\n",
      "Episode 1221\n"
     ]
    },
    {
     "data": {
      "application/vnd.jupyter.widget-view+json": {
       "model_id": "4d3bbb29f4364b41a0424c62cc870155",
       "version_major": 2,
       "version_minor": 0
      },
      "text/plain": [
       "HBox(children=(FloatProgress(value=0.0, max=20.0), HTML(value='')))"
      ]
     },
     "metadata": {},
     "output_type": "display_data"
    },
    {
     "name": "stdout",
     "output_type": "stream",
     "text": [
      "\n",
      "Avgerage Accumulated Reward: 200 | Loss: 61.84162139892578\n",
      "Episode 1241\n"
     ]
    },
    {
     "data": {
      "application/vnd.jupyter.widget-view+json": {
       "model_id": "d7207122b3c246a696e98f807e517fbf",
       "version_major": 2,
       "version_minor": 0
      },
      "text/plain": [
       "HBox(children=(FloatProgress(value=0.0, max=20.0), HTML(value='')))"
      ]
     },
     "metadata": {},
     "output_type": "display_data"
    },
    {
     "name": "stdout",
     "output_type": "stream",
     "text": [
      "\n",
      "Avgerage Accumulated Reward: 192 | Loss: 35.52693557739258\n",
      "Episode 1261\n"
     ]
    },
    {
     "data": {
      "application/vnd.jupyter.widget-view+json": {
       "model_id": "8ba9d03a1316481f9d6fe5a975311f01",
       "version_major": 2,
       "version_minor": 0
      },
      "text/plain": [
       "HBox(children=(FloatProgress(value=0.0, max=20.0), HTML(value='')))"
      ]
     },
     "metadata": {},
     "output_type": "display_data"
    },
    {
     "name": "stdout",
     "output_type": "stream",
     "text": [
      "\n",
      "Avgerage Accumulated Reward: 200 | Loss: 23.466054916381836\n",
      "Episode 1281\n"
     ]
    },
    {
     "data": {
      "application/vnd.jupyter.widget-view+json": {
       "model_id": "f270f568b5554d189c8b1bfd6c9683ac",
       "version_major": 2,
       "version_minor": 0
      },
      "text/plain": [
       "HBox(children=(FloatProgress(value=0.0, max=20.0), HTML(value='')))"
      ]
     },
     "metadata": {},
     "output_type": "display_data"
    },
    {
     "name": "stdout",
     "output_type": "stream",
     "text": [
      "\n",
      "Avgerage Accumulated Reward: 172 | Loss: 14.481897354125977\n",
      "Episode 1301\n"
     ]
    },
    {
     "data": {
      "application/vnd.jupyter.widget-view+json": {
       "model_id": "cd5df831cddb47e4a224b7ee56ec274b",
       "version_major": 2,
       "version_minor": 0
      },
      "text/plain": [
       "HBox(children=(FloatProgress(value=0.0, max=20.0), HTML(value='')))"
      ]
     },
     "metadata": {},
     "output_type": "display_data"
    },
    {
     "name": "stdout",
     "output_type": "stream",
     "text": [
      "\n",
      "Avgerage Accumulated Reward: 162 | Loss: 8.950993537902832\n",
      "Episode 1321\n"
     ]
    },
    {
     "data": {
      "application/vnd.jupyter.widget-view+json": {
       "model_id": "7c5ad81e28eb4d2bb9b51e56623d51c7",
       "version_major": 2,
       "version_minor": 0
      },
      "text/plain": [
       "HBox(children=(FloatProgress(value=0.0, max=20.0), HTML(value='')))"
      ]
     },
     "metadata": {},
     "output_type": "display_data"
    },
    {
     "name": "stdout",
     "output_type": "stream",
     "text": [
      "\n",
      "Avgerage Accumulated Reward: 187 | Loss: 8.043258666992188\n",
      "Episode 1341\n"
     ]
    },
    {
     "data": {
      "application/vnd.jupyter.widget-view+json": {
       "model_id": "8061800be5884115af326160b4f91371",
       "version_major": 2,
       "version_minor": 0
      },
      "text/plain": [
       "HBox(children=(FloatProgress(value=0.0, max=20.0), HTML(value='')))"
      ]
     },
     "metadata": {},
     "output_type": "display_data"
    },
    {
     "name": "stdout",
     "output_type": "stream",
     "text": [
      "\n",
      "Avgerage Accumulated Reward: 185 | Loss: 10.618870735168457\n",
      "Episode 1361\n"
     ]
    },
    {
     "data": {
      "application/vnd.jupyter.widget-view+json": {
       "model_id": "2d56893a55f84a7ca1737cfd3f147fa9",
       "version_major": 2,
       "version_minor": 0
      },
      "text/plain": [
       "HBox(children=(FloatProgress(value=0.0, max=20.0), HTML(value='')))"
      ]
     },
     "metadata": {},
     "output_type": "display_data"
    },
    {
     "name": "stdout",
     "output_type": "stream",
     "text": [
      "\n",
      "Avgerage Accumulated Reward: 200 | Loss: 16.967798233032227\n",
      "Episode 1381\n"
     ]
    },
    {
     "data": {
      "application/vnd.jupyter.widget-view+json": {
       "model_id": "5c25f07a0d2f4d15ad89e53d6c918aae",
       "version_major": 2,
       "version_minor": 0
      },
      "text/plain": [
       "HBox(children=(FloatProgress(value=0.0, max=20.0), HTML(value='')))"
      ]
     },
     "metadata": {},
     "output_type": "display_data"
    },
    {
     "name": "stdout",
     "output_type": "stream",
     "text": [
      "\n",
      "Avgerage Accumulated Reward: 193 | Loss: 23.392345428466797\n",
      "Episode 1401\n"
     ]
    },
    {
     "data": {
      "application/vnd.jupyter.widget-view+json": {
       "model_id": "cd27cb3dd1454595b28e1f269cd34ddd",
       "version_major": 2,
       "version_minor": 0
      },
      "text/plain": [
       "HBox(children=(FloatProgress(value=0.0, max=20.0), HTML(value='')))"
      ]
     },
     "metadata": {},
     "output_type": "display_data"
    },
    {
     "name": "stdout",
     "output_type": "stream",
     "text": [
      "\n",
      "Avgerage Accumulated Reward: 172 | Loss: 6.970348358154297\n",
      "Episode 1421\n"
     ]
    },
    {
     "data": {
      "application/vnd.jupyter.widget-view+json": {
       "model_id": "eb47a917fc8c41a7bb6ede6818dc04d0",
       "version_major": 2,
       "version_minor": 0
      },
      "text/plain": [
       "HBox(children=(FloatProgress(value=0.0, max=20.0), HTML(value='')))"
      ]
     },
     "metadata": {},
     "output_type": "display_data"
    },
    {
     "name": "stdout",
     "output_type": "stream",
     "text": [
      "\n",
      "Avgerage Accumulated Reward: 191 | Loss: 3.2840652465820312\n",
      "Episode 1441\n"
     ]
    },
    {
     "data": {
      "application/vnd.jupyter.widget-view+json": {
       "model_id": "588b61833d74401ea0456850696d26a4",
       "version_major": 2,
       "version_minor": 0
      },
      "text/plain": [
       "HBox(children=(FloatProgress(value=0.0, max=20.0), HTML(value='')))"
      ]
     },
     "metadata": {},
     "output_type": "display_data"
    },
    {
     "name": "stdout",
     "output_type": "stream",
     "text": [
      "\n",
      "Avgerage Accumulated Reward: 200 | Loss: 18.354873657226562\n",
      "Episode 1461\n"
     ]
    },
    {
     "data": {
      "application/vnd.jupyter.widget-view+json": {
       "model_id": "0eb10730c62641799e5aac52bd7d3d17",
       "version_major": 2,
       "version_minor": 0
      },
      "text/plain": [
       "HBox(children=(FloatProgress(value=0.0, max=20.0), HTML(value='')))"
      ]
     },
     "metadata": {},
     "output_type": "display_data"
    },
    {
     "name": "stdout",
     "output_type": "stream",
     "text": [
      "\n",
      "Avgerage Accumulated Reward: 200 | Loss: 43.215267181396484\n",
      "Episode 1481\n"
     ]
    },
    {
     "data": {
      "application/vnd.jupyter.widget-view+json": {
       "model_id": "7deabff451ff4d71b2570ee6a1ffc799",
       "version_major": 2,
       "version_minor": 0
      },
      "text/plain": [
       "HBox(children=(FloatProgress(value=0.0, max=20.0), HTML(value='')))"
      ]
     },
     "metadata": {},
     "output_type": "display_data"
    },
    {
     "name": "stdout",
     "output_type": "stream",
     "text": [
      "\n",
      "Avgerage Accumulated Reward: 176 | Loss: 68.91669464111328\n",
      "Episode 1501\n"
     ]
    },
    {
     "data": {
      "application/vnd.jupyter.widget-view+json": {
       "model_id": "0b752c0f487f450ebac2086be9067017",
       "version_major": 2,
       "version_minor": 0
      },
      "text/plain": [
       "HBox(children=(FloatProgress(value=0.0, max=20.0), HTML(value='')))"
      ]
     },
     "metadata": {},
     "output_type": "display_data"
    },
    {
     "name": "stdout",
     "output_type": "stream",
     "text": [
      "\n",
      "Avgerage Accumulated Reward: 192 | Loss: 14.106657028198242\n",
      "Episode 1521\n"
     ]
    },
    {
     "data": {
      "application/vnd.jupyter.widget-view+json": {
       "model_id": "ecd89d014c4541769a7a6ff52f984508",
       "version_major": 2,
       "version_minor": 0
      },
      "text/plain": [
       "HBox(children=(FloatProgress(value=0.0, max=20.0), HTML(value='')))"
      ]
     },
     "metadata": {},
     "output_type": "display_data"
    },
    {
     "name": "stdout",
     "output_type": "stream",
     "text": [
      "\n",
      "Avgerage Accumulated Reward: 200 | Loss: 29.654911041259766\n",
      "Episode 1541\n"
     ]
    },
    {
     "data": {
      "application/vnd.jupyter.widget-view+json": {
       "model_id": "e027a47b85134b379da96bc3978965af",
       "version_major": 2,
       "version_minor": 0
      },
      "text/plain": [
       "HBox(children=(FloatProgress(value=0.0, max=20.0), HTML(value='')))"
      ]
     },
     "metadata": {},
     "output_type": "display_data"
    },
    {
     "name": "stdout",
     "output_type": "stream",
     "text": [
      "\n",
      "Avgerage Accumulated Reward: 200 | Loss: 16.894468307495117\n",
      "Episode 1561\n"
     ]
    },
    {
     "data": {
      "application/vnd.jupyter.widget-view+json": {
       "model_id": "f4901b08d245454d821050891a5c8794",
       "version_major": 2,
       "version_minor": 0
      },
      "text/plain": [
       "HBox(children=(FloatProgress(value=0.0, max=20.0), HTML(value='')))"
      ]
     },
     "metadata": {},
     "output_type": "display_data"
    },
    {
     "name": "stdout",
     "output_type": "stream",
     "text": [
      "\n",
      "Avgerage Accumulated Reward: 200 | Loss: 32.2730712890625\n",
      "Episode 1581\n"
     ]
    },
    {
     "data": {
      "application/vnd.jupyter.widget-view+json": {
       "model_id": "e0dad7aa9ee742be8985bb6c8811313e",
       "version_major": 2,
       "version_minor": 0
      },
      "text/plain": [
       "HBox(children=(FloatProgress(value=0.0, max=20.0), HTML(value='')))"
      ]
     },
     "metadata": {},
     "output_type": "display_data"
    },
    {
     "name": "stdout",
     "output_type": "stream",
     "text": [
      "\n",
      "Avgerage Accumulated Reward: 200 | Loss: 0.6362912058830261\n",
      "Episode 1601\n"
     ]
    },
    {
     "data": {
      "application/vnd.jupyter.widget-view+json": {
       "model_id": "3e506a4e1bd04a609072f461f94e8c91",
       "version_major": 2,
       "version_minor": 0
      },
      "text/plain": [
       "HBox(children=(FloatProgress(value=0.0, max=20.0), HTML(value='')))"
      ]
     },
     "metadata": {},
     "output_type": "display_data"
    },
    {
     "name": "stdout",
     "output_type": "stream",
     "text": [
      "\n",
      "Avgerage Accumulated Reward: 200 | Loss: 10.878840446472168\n",
      "Episode 1621\n"
     ]
    },
    {
     "data": {
      "application/vnd.jupyter.widget-view+json": {
       "model_id": "c017e15070ea49118c6ebe63002b2a81",
       "version_major": 2,
       "version_minor": 0
      },
      "text/plain": [
       "HBox(children=(FloatProgress(value=0.0, max=20.0), HTML(value='')))"
      ]
     },
     "metadata": {},
     "output_type": "display_data"
    },
    {
     "name": "stdout",
     "output_type": "stream",
     "text": [
      "\n",
      "Avgerage Accumulated Reward: 200 | Loss: 13.508638381958008\n",
      "Episode 1641\n"
     ]
    },
    {
     "data": {
      "application/vnd.jupyter.widget-view+json": {
       "model_id": "e7126b4faed2457a9a0c0c2e27309205",
       "version_major": 2,
       "version_minor": 0
      },
      "text/plain": [
       "HBox(children=(FloatProgress(value=0.0, max=20.0), HTML(value='')))"
      ]
     },
     "metadata": {},
     "output_type": "display_data"
    },
    {
     "name": "stdout",
     "output_type": "stream",
     "text": [
      "\n",
      "Avgerage Accumulated Reward: 200 | Loss: 34.7498664855957\n",
      "Episode 1661\n"
     ]
    },
    {
     "data": {
      "application/vnd.jupyter.widget-view+json": {
       "model_id": "4f349691f9b84954bd72a48b1d9250e5",
       "version_major": 2,
       "version_minor": 0
      },
      "text/plain": [
       "HBox(children=(FloatProgress(value=0.0, max=20.0), HTML(value='')))"
      ]
     },
     "metadata": {},
     "output_type": "display_data"
    },
    {
     "name": "stdout",
     "output_type": "stream",
     "text": [
      "\n",
      "Avgerage Accumulated Reward: 185 | Loss: -4.426549434661865\n",
      "Episode 1681\n"
     ]
    },
    {
     "data": {
      "application/vnd.jupyter.widget-view+json": {
       "model_id": "b020d9bcee744953bac518100f9e1a67",
       "version_major": 2,
       "version_minor": 0
      },
      "text/plain": [
       "HBox(children=(FloatProgress(value=0.0, max=20.0), HTML(value='')))"
      ]
     },
     "metadata": {},
     "output_type": "display_data"
    },
    {
     "name": "stdout",
     "output_type": "stream",
     "text": [
      "\n",
      "Avgerage Accumulated Reward: 185 | Loss: 13.30035400390625\n",
      "Episode 1701\n"
     ]
    },
    {
     "data": {
      "application/vnd.jupyter.widget-view+json": {
       "model_id": "010e566836a641a9ab68f7296a762f0e",
       "version_major": 2,
       "version_minor": 0
      },
      "text/plain": [
       "HBox(children=(FloatProgress(value=0.0, max=20.0), HTML(value='')))"
      ]
     },
     "metadata": {},
     "output_type": "display_data"
    },
    {
     "name": "stdout",
     "output_type": "stream",
     "text": [
      "\n",
      "Avgerage Accumulated Reward: 199 | Loss: 6.166097640991211\n",
      "Episode 1721\n"
     ]
    },
    {
     "data": {
      "application/vnd.jupyter.widget-view+json": {
       "model_id": "5462c03d53ac4758972e0f10de578e3f",
       "version_major": 2,
       "version_minor": 0
      },
      "text/plain": [
       "HBox(children=(FloatProgress(value=0.0, max=20.0), HTML(value='')))"
      ]
     },
     "metadata": {},
     "output_type": "display_data"
    },
    {
     "name": "stdout",
     "output_type": "stream",
     "text": [
      "\n",
      "Avgerage Accumulated Reward: 199 | Loss: 18.15808868408203\n",
      "Episode 1741\n"
     ]
    },
    {
     "data": {
      "application/vnd.jupyter.widget-view+json": {
       "model_id": "541e40e61a3347fe9aeed9c9027c2d38",
       "version_major": 2,
       "version_minor": 0
      },
      "text/plain": [
       "HBox(children=(FloatProgress(value=0.0, max=20.0), HTML(value='')))"
      ]
     },
     "metadata": {},
     "output_type": "display_data"
    },
    {
     "name": "stdout",
     "output_type": "stream",
     "text": [
      "\n",
      "Avgerage Accumulated Reward: 200 | Loss: 7.389034271240234\n",
      "Episode 1761\n"
     ]
    },
    {
     "data": {
      "application/vnd.jupyter.widget-view+json": {
       "model_id": "6ad1a54529224bd1ab6911a7abfce975",
       "version_major": 2,
       "version_minor": 0
      },
      "text/plain": [
       "HBox(children=(FloatProgress(value=0.0, max=20.0), HTML(value='')))"
      ]
     },
     "metadata": {},
     "output_type": "display_data"
    },
    {
     "name": "stdout",
     "output_type": "stream",
     "text": [
      "\n",
      "Avgerage Accumulated Reward: 199 | Loss: 4.621337413787842\n",
      "Episode 1781\n"
     ]
    },
    {
     "data": {
      "application/vnd.jupyter.widget-view+json": {
       "model_id": "8d6faeb4a8cd44328c4868c458fabb37",
       "version_major": 2,
       "version_minor": 0
      },
      "text/plain": [
       "HBox(children=(FloatProgress(value=0.0, max=20.0), HTML(value='')))"
      ]
     },
     "metadata": {},
     "output_type": "display_data"
    },
    {
     "name": "stdout",
     "output_type": "stream",
     "text": [
      "\n",
      "Avgerage Accumulated Reward: 199 | Loss: 23.726966857910156\n",
      "Episode 1801\n"
     ]
    },
    {
     "data": {
      "application/vnd.jupyter.widget-view+json": {
       "model_id": "f782f96e4daa4dd485b21adab25827de",
       "version_major": 2,
       "version_minor": 0
      },
      "text/plain": [
       "HBox(children=(FloatProgress(value=0.0, max=20.0), HTML(value='')))"
      ]
     },
     "metadata": {},
     "output_type": "display_data"
    },
    {
     "name": "stdout",
     "output_type": "stream",
     "text": [
      "\n",
      "Avgerage Accumulated Reward: 194 | Loss: 2.7167348861694336\n",
      "Episode 1821\n"
     ]
    },
    {
     "data": {
      "application/vnd.jupyter.widget-view+json": {
       "model_id": "edbd7c401efd428eaa7303b4915382d5",
       "version_major": 2,
       "version_minor": 0
      },
      "text/plain": [
       "HBox(children=(FloatProgress(value=0.0, max=20.0), HTML(value='')))"
      ]
     },
     "metadata": {},
     "output_type": "display_data"
    },
    {
     "name": "stdout",
     "output_type": "stream",
     "text": [
      "\n",
      "Avgerage Accumulated Reward: 200 | Loss: 27.235137939453125\n",
      "Episode 1841\n"
     ]
    },
    {
     "data": {
      "application/vnd.jupyter.widget-view+json": {
       "model_id": "f5998dc7cd7c4cc5a10d4746392cb036",
       "version_major": 2,
       "version_minor": 0
      },
      "text/plain": [
       "HBox(children=(FloatProgress(value=0.0, max=20.0), HTML(value='')))"
      ]
     },
     "metadata": {},
     "output_type": "display_data"
    },
    {
     "name": "stdout",
     "output_type": "stream",
     "text": [
      "\n",
      "Avgerage Accumulated Reward: 200 | Loss: 14.357011795043945\n",
      "Episode 1861\n"
     ]
    },
    {
     "data": {
      "application/vnd.jupyter.widget-view+json": {
       "model_id": "bb42f80353c04d1f8fd7bf41c6692bd1",
       "version_major": 2,
       "version_minor": 0
      },
      "text/plain": [
       "HBox(children=(FloatProgress(value=0.0, max=20.0), HTML(value='')))"
      ]
     },
     "metadata": {},
     "output_type": "display_data"
    },
    {
     "name": "stdout",
     "output_type": "stream",
     "text": [
      "\n",
      "Avgerage Accumulated Reward: 200 | Loss: 14.330015182495117\n",
      "Episode 1881\n"
     ]
    },
    {
     "data": {
      "application/vnd.jupyter.widget-view+json": {
       "model_id": "c3f19b32228f4daebd5a602341163138",
       "version_major": 2,
       "version_minor": 0
      },
      "text/plain": [
       "HBox(children=(FloatProgress(value=0.0, max=20.0), HTML(value='')))"
      ]
     },
     "metadata": {},
     "output_type": "display_data"
    },
    {
     "name": "stdout",
     "output_type": "stream",
     "text": [
      "\n",
      "Avgerage Accumulated Reward: 200 | Loss: 50.10818099975586\n",
      "Episode 1901\n"
     ]
    },
    {
     "data": {
      "application/vnd.jupyter.widget-view+json": {
       "model_id": "14a81508c4a74aceb12e7c175c791320",
       "version_major": 2,
       "version_minor": 0
      },
      "text/plain": [
       "HBox(children=(FloatProgress(value=0.0, max=20.0), HTML(value='')))"
      ]
     },
     "metadata": {},
     "output_type": "display_data"
    },
    {
     "name": "stdout",
     "output_type": "stream",
     "text": [
      "\n",
      "Avgerage Accumulated Reward: 200 | Loss: 20.416004180908203\n",
      "Episode 1921\n"
     ]
    },
    {
     "data": {
      "application/vnd.jupyter.widget-view+json": {
       "model_id": "c4226e9fea6247be8c85cacf8d5e0397",
       "version_major": 2,
       "version_minor": 0
      },
      "text/plain": [
       "HBox(children=(FloatProgress(value=0.0, max=20.0), HTML(value='')))"
      ]
     },
     "metadata": {},
     "output_type": "display_data"
    },
    {
     "name": "stdout",
     "output_type": "stream",
     "text": [
      "\n",
      "Avgerage Accumulated Reward: 200 | Loss: -6.764279842376709\n",
      "Episode 1941\n"
     ]
    },
    {
     "data": {
      "application/vnd.jupyter.widget-view+json": {
       "model_id": "4659d86e466e41969be9e614594c9dd9",
       "version_major": 2,
       "version_minor": 0
      },
      "text/plain": [
       "HBox(children=(FloatProgress(value=0.0, max=20.0), HTML(value='')))"
      ]
     },
     "metadata": {},
     "output_type": "display_data"
    },
    {
     "name": "stdout",
     "output_type": "stream",
     "text": [
      "\n",
      "Avgerage Accumulated Reward: 200 | Loss: 40.80251693725586\n",
      "Episode 1961\n"
     ]
    },
    {
     "data": {
      "application/vnd.jupyter.widget-view+json": {
       "model_id": "ff0331e153584320ad0e7cd433dd6ad9",
       "version_major": 2,
       "version_minor": 0
      },
      "text/plain": [
       "HBox(children=(FloatProgress(value=0.0, max=20.0), HTML(value='')))"
      ]
     },
     "metadata": {},
     "output_type": "display_data"
    },
    {
     "name": "stdout",
     "output_type": "stream",
     "text": [
      "\n",
      "Avgerage Accumulated Reward: 195 | Loss: 28.285842895507812\n",
      "Episode 1981\n"
     ]
    },
    {
     "data": {
      "application/vnd.jupyter.widget-view+json": {
       "model_id": "d96f3f0546d44321aadf13b69975151e",
       "version_major": 2,
       "version_minor": 0
      },
      "text/plain": [
       "HBox(children=(FloatProgress(value=0.0, max=20.0), HTML(value='')))"
      ]
     },
     "metadata": {},
     "output_type": "display_data"
    },
    {
     "name": "stdout",
     "output_type": "stream",
     "text": [
      "\n",
      "Accumulated Reward: 200 | Loss: 20.794048309326172\n",
      "Evaluate\n",
      "Accumulated Reward: 200.0\n"
     ]
    },
    {
     "data": {
      "image/png": "[encoded data removed]",
      "text/plain": [
       "<Figure size 1920x480 with 2 Axes>"
      ]
     },
     "metadata": {
      "needs_background": "light"
     },
     "output_type": "display_data"
    }
   ],
   "source": [
    "# CartPole-A2C Experiment\n",
    "# 2020/08/11 SYC \n",
    "\n",
    "# import models.A2C as A2C\n",
    "# import models.expStrategy.epsilonGreedy as EPSG\n",
    "# import envs.cartPole as cartPole\n",
    "import models.util as Util\n",
    "import logging\n",
    "import matplotlib.pyplot as plt\n",
    "from matplotlib.pylab import figure\n",
    "import numpy as np\n",
    "# To run tqdm on notebook, import tqdm.notebook\n",
    "from tqdm.notebook import tqdm\n",
    "# Run on pure python\n",
    "# from tqdm import tqdm\n",
    "\n",
    "# Config Logging format\n",
    "# logging.basicConfig(format='%(asctime)s - %(message)s', level=logging.INFO)\n",
    "# Config logging module to enable on notebook\n",
    "# logger = logging.getLogger()\n",
    "# logger.setLevel(logging.DEBUG)\n",
    "\n",
    "# Test GPU and show the available logical & physical GPUs\n",
    "Util.test_gpu()\n",
    "\n",
    "env = CartPoleEnv()\n",
    "NUM_STATE_FEATURES = env.get_num_state_features()\n",
    "NUM_ACTIONS = env.get_num_actions()\n",
    "EPISODE_NUM = 2000\n",
    "PRINT_EVERY_EPISODE = 20\n",
    "LEARNING_RATE = 0.003\n",
    "REWARD_DISCOUNT = 0.99\n",
    "\n",
    "exp_stg = EpsilonGreedy(0.2, NUM_ACTIONS)\n",
    "agent = Agent((NUM_STATE_FEATURES, ), NUM_ACTIONS, REWARD_DISCOUNT, LEARNING_RATE, exp_stg)\n",
    "\n",
    "state = env.reset()\n",
    "accum_reward = 0\n",
    "\n",
    "# tqdm progress bar\n",
    "bar = []\n",
    "# Reward & LossHistory\n",
    "r_his = []\n",
    "avg_r_his = [0]\n",
    "loss_his = []\n",
    "episode_reward = 0\n",
    "\n",
    "print(\"Episode 1\")\n",
    "for episode in range(1, EPISODE_NUM + 1):\n",
    "    if episode % PRINT_EVERY_EPISODE == 1:\n",
    "        if episode > 1:\n",
    "            bar.close()\n",
    "            print(\"Avgerage Accumulated Reward: {} | Loss: {}\".format(round(accum_reward / PRINT_EVERY_EPISODE), agent.get_metrics_loss()))\n",
    "            print(\"Episode {}\".format(episode))\n",
    "            agent.reset_metrics_loss()\n",
    "            avg_r_his.append(round(accum_reward / PRINT_EVERY_EPISODE))\n",
    "            accum_reward = 0\n",
    "        bar = tqdm(total = PRINT_EVERY_EPISODE)\n",
    "\n",
    "    episode_reward, episode_loss = agent.train_on_env(env)\n",
    "    accum_reward += episode_reward\n",
    "    r_his.append(episode_reward)\n",
    "    loss_his.append(episode_loss)\n",
    "    \n",
    "    episode_reward = 0\n",
    "\n",
    "    bar.update(1)        \n",
    "    env.reset()\n",
    "\n",
    "bar.close()    \n",
    "print(\"Accumulated Reward: {} | Loss: {}\".format(round(accum_reward / PRINT_EVERY_EPISODE), agent.get_metrics_loss()))\n",
    "avg_r_his.append(round(accum_reward / PRINT_EVERY_EPISODE))\n",
    "agent.reset_metrics_loss()\n",
    "\n",
    "# Evaluate the model\n",
    "agent.shutdown_explore()\n",
    "agent.reset_metrics_loss()\n",
    "# Reset Game\n",
    "env_state = env.reset()\n",
    "accum_reward = 0\n",
    "\n",
    "while not env.is_over():\n",
    "    # env.render()\n",
    "    action, act_log_prob, value = agent.select_action(state)\n",
    "    state_prime, reward, is_done, info = env.act(action)\n",
    "\n",
    "    state = state_prime\n",
    "    accum_reward += reward\n",
    "\n",
    "print(\"Evaluate\")\n",
    "print(\"Accumulated Reward: {}\".format(accum_reward))\n",
    "\n",
    "# Plot Reward History\n",
    "# figure(num=None, figsize=(24, 6), dpi=80)\n",
    "fig, (ax1, ax2) = plt.subplots(2, 1, figsize=(24, 6), dpi=80)\n",
    "fig.suptitle(f'CartPole A2C Result (Evaluate Reward: {accum_reward})')\n",
    "x_datas = range(0, len(r_his))\n",
    "avg_x_datas = range(0, EPISODE_NUM + 1, PRINT_EVERY_EPISODE)\n",
    "\n",
    "ax1.plot(x_datas, r_his, color='blue')\n",
    "ax1.plot(avg_x_datas, avg_r_his, color='red')\n",
    "ax1.set_xlabel('Episodes')\n",
    "ax1.set_ylabel('Reward / Episode')\n",
    "ax1.grid()\n",
    "\n",
    "ax2.plot(x_datas, loss_his, color='orange')\n",
    "ax2.set_xlabel('Episodes')\n",
    "ax2.set_ylabel('Loss / Episode')\n",
    "ax2.grid()\n",
    "\n",
    "plt.savefig('CartPole-A2C-res.svg')\n",
    "plt.show()"
   ]
  },
  {
   "cell_type": "code",
   "execution_count": null,
   "metadata": {},
   "outputs": [],
   "source": []
  }
 ],
 "metadata": {
  "kernelspec": {
   "display_name": "tf2",
   "language": "python",
   "name": "tf2"
  },
  "language_info": {
   "codemirror_mode": {
    "name": "ipython",
    "version": 3
   },
   "file_extension": ".py",
   "mimetype": "text/x-python",
   "name": "python",
   "nbconvert_exporter": "python",
   "pygments_lexer": "ipython3",
   "version": "3.6.8"
  }
 },
 "nbformat": 4,
 "nbformat_minor": 2
}