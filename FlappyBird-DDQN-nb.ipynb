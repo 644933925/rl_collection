{
 "cells": [
  {
   "cell_type": "code",
   "execution_count": 66,
   "metadata": {},
   "outputs": [],
   "source": [
    "# CartPole Env\n",
    "import gym\n",
    "import matplotlib as plt\n",
    "\n",
    "class CartPoleEnv:\n",
    "    def __init__(self):\n",
    "        self.fps = 30\n",
    "        self.env = gym.make('CartPole-v0')  # environment interface to game\n",
    "        self.env.seed(42)\n",
    "        self.env.reset()\n",
    "        self.is_show = False\n",
    "        self.current_sate = []\n",
    "        self.is_done = False\n",
    "\n",
    "    def render(self):\n",
    "        self.env.render()\n",
    "        \n",
    "    def reset(self, is_show = False):\n",
    "        state = self.env.reset()\n",
    "        state = state.tolist()\n",
    "        self.current_sate = state\n",
    "        self.is_done = False\n",
    "        self.is_show = is_show\n",
    "        if self.is_show:\n",
    "            self.env.render()\n",
    "\n",
    "        return state\n",
    "    \n",
    "    def act(self, action):\n",
    "        if self.is_show:\n",
    "            self.env.render()\n",
    "        # return observation, reward, done, info\n",
    "        state, reward, is_done, info = self.env.step(self.get_action_set()[action])\n",
    "        state = state.tolist()\n",
    "        self.current_sate = state\n",
    "        self.is_done = is_done\n",
    "        return state, reward, is_done, info\n",
    "\n",
    "    def get_num_actions(self):\n",
    "        return 2\n",
    "\n",
    "    def get_action_set(self):\n",
    "        return [0, 1]\n",
    "\n",
    "    def get_screen_rgb(self):\n",
    "        pass\n",
    "\n",
    "    def get_screen_gray(self):\n",
    "        pass\n",
    "\n",
    "    def get_num_state_features(self):\n",
    "        return 4\n",
    "\n",
    "    def get_state(self):\n",
    "        return self.current_sate\n",
    "\n",
    "    def is_over(self):\n",
    "        return self.is_done\n"
   ]
  },
  {
   "cell_type": "code",
   "execution_count": 67,
   "metadata": {},
   "outputs": [],
   "source": [
    "# !pip install pygame\n",
    "# !git clone https://github.com/ntasfi/PyGame-Learning-Environment.git\n",
    "# !pip install -e ./PyGame-Learning-Environment"
   ]
  },
  {
   "cell_type": "code",
   "execution_count": 68,
   "metadata": {},
   "outputs": [],
   "source": [
    "from ple.games.flappybird import FlappyBird as flappyBird\n",
    "from ple import PLE\n",
    "\n",
    "class FlappyBirdEnv:\n",
    "    def __init__(self):\n",
    "        self.fps = 30\n",
    "        self.game = flappyBird()\n",
    "        self.env = PLE(self.game, fps=self.fps, display_screen=False)  # environment interface to game\n",
    "        self.env.reset_game()\n",
    "\n",
    "    def reset(self, is_show = False):\n",
    "        self.env = PLE(self.game, fps=self.fps, display_screen=is_show)  # environment interface to game\n",
    "        self.env.reset_game()\n",
    "        state = self.get_state()\n",
    "\n",
    "        return state\n",
    "    \n",
    "    def act(self, action):\n",
    "        # return state_prime, reward, done, info\n",
    "        reward = self.env.act(self.env.getActionSet()[action])\n",
    "#         print(reward)\n",
    "        \n",
    "        # Survive reward +1\n",
    "#         reward += 1\n",
    "        \n",
    "        # Get closer to the middle of top and bottom pipe and get more reward\n",
    "#         state = self.game.getGameState()\n",
    "        \n",
    "#         next_dis_to_mid = abs((state['next_pipe_top_y'] + state['next_pipe_bottom_y']) / 2 - state['player_y'])\n",
    "#         print('State')\n",
    "#         print(state)\n",
    "#         print('Mid')\n",
    "#         print((state['next_pipe_top_y'] + state['next_pipe_bottom_y']) / 2)\n",
    "#         print('next_dis_to_mid')\n",
    "#         print(abs((state['next_pipe_top_y'] + state['next_pipe_bottom_y']) / 2 - state['player_y']))\n",
    "#         next_next_dis_to_mid = abs((state['next_next_pipe_top_y'] + state['next_next_pipe_bottom_y']) / 2 - state['player_y'])\n",
    "#         dis_reward_coef = 0.01\n",
    "        \n",
    "#         reward += dis_reward_coef * ((-next_dis_to_mid) + 0.5 * (-next_next_dis_to_mid))\n",
    "        \n",
    "        state_prime = self.get_state()\n",
    "        is_done = self.is_over()\n",
    "        info = \"\"\n",
    "        return state_prime, reward, is_done, info\n",
    "\n",
    "    def get_num_actions(self):\n",
    "        return len(self.env.getActionSet())\n",
    "\n",
    "    def get_action_set(self):\n",
    "        return self.env.getActionSet()\n",
    "\n",
    "    def get_screen_rgb(self):\n",
    "        return self.env.getScreenRGB()\n",
    "\n",
    "    def get_screen_gray(self):\n",
    "        return self.env.getScreenGrayscale()\n",
    "\n",
    "    def get_num_state_features(self):\n",
    "        return len(self.game.getGameState())\n",
    "\n",
    "    def get_state(self):\n",
    "        # dict\n",
    "        #     * player y position.\n",
    "        #     * players velocity.\n",
    "        #     * next pipe distance to player\n",
    "        #     * next pipe top y position\n",
    "        #     * next pipe bottom y position\n",
    "        #     * next next pipe distance to player\n",
    "        #     * next next pipe top y position\n",
    "        #     * next next pipe bottom y position\n",
    "\n",
    "        # state = {\n",
    "        #     \"player_y\": self.player.pos_y,\n",
    "        #     \"player_vel\": self.player.vel,\n",
    "            \n",
    "        #     \"next_pipe_dist_to_player\": next_pipe.x - self.player.pos_x,\n",
    "        #     \"next_pipe_top_y\": next_pipe.gap_start,\n",
    "        #     \"next_pipe_bottom_y\": next_pipe.gap_start+self.pipe_gap, \n",
    "            \n",
    "        #     \"next_next_pipe_dist_to_player\": next_next_pipe.x - self.player.pos_x,\n",
    "        #     \"next_next_pipe_top_y\": next_next_pipe.gap_start,\n",
    "        #     \"next_next_pipe_bottom_y\": next_next_pipe.gap_start+self.pipe_gap \n",
    "        # }\n",
    "        state = self.game.getGameState()\n",
    "        state['next_pipe_top_y'] -= state['player_y']\n",
    "        state['next_pipe_bottom_y'] -= state['player_y']\n",
    "        state['next_next_pipe_top_y'] -= state['player_y']\n",
    "        state['next_next_pipe_bottom_y'] -= state['player_y']\n",
    "        return list(state.values())\n",
    "\n",
    "    def is_over(self):\n",
    "        return self.env.game_over()\n"
   ]
  },
  {
   "cell_type": "code",
   "execution_count": 69,
   "metadata": {},
   "outputs": [],
   "source": [
    "import numpy as np\n",
    "\n",
    "class EpsilonGreedy:\n",
    "    def __init__(self, epsilon, num_action, min_epsilon = 0.01, decay = 0.99):\n",
    "        self.epsilon = epsilon\n",
    "        self.num_action = num_action\n",
    "        self.min_epsilon = min_epsilon\n",
    "        self.decay = decay\n",
    "        self.action_time = 0\n",
    "\n",
    "    def select_action(self):\n",
    "        self.action_time += 1\n",
    "        if np.random.rand() < self.epsilon:\n",
    "            self.update_epsilon()\n",
    "            return np.random.choice(self.num_action)\n",
    "        else: \n",
    "            self.update_epsilon()\n",
    "            return -1\n",
    "    \n",
    "    def update_epsilon(self):\n",
    "        self.epsilon = max(self.min_epsilon, min(0.5, 0.99**(self.action_time / 30)))\n",
    "    \n",
    "    def shutdown_explore(self):\n",
    "        self.epsilon = 0"
   ]
  },
  {
   "cell_type": "code",
   "execution_count": 70,
   "metadata": {},
   "outputs": [],
   "source": [
    "# ddqn.py\n",
    "# Implement DDQN with Delay Network, History Replay, Epsilon Greedy\n",
    "# 2020/08/10 SYC\n",
    "\n",
    "import tensorflow as tf\n",
    "import numpy as np\n",
    "# import matplotlib as plt\n",
    "# import policiesPractice.models.expStrategy as stg\n",
    "\n",
    "class Agent:\n",
    "    def __init__(self, state_size, num_action, delay_update_every_iter, reward_discount, learning_rate, exploration_strategy):\n",
    "        self.state_size = state_size\n",
    "        self.num_action = num_action\n",
    "        self.reward_discount = reward_discount\n",
    "        self.exploration_strategy = exploration_strategy\n",
    "        self.delay_update_every_iter = delay_update_every_iter\n",
    "        self.iter = 0\n",
    "        self.eps = 0\n",
    "        self.data_type = tf.float32\n",
    "        self.batch_size = 32\n",
    "        self.optimizer = tf.keras.optimizers.Adam(learning_rate = learning_rate)\n",
    "        self.avg_loss = tf.keras.metrics.Mean(name = 'loss')\n",
    "        self.online_model = self.build_model('online')\n",
    "        self.target_model = self.build_model('target')\n",
    "        self.is_shutdown_explore = False\n",
    "\n",
    "        self.buffer = []\n",
    "        self.buffer_size = 50000\n",
    "    \n",
    "    def build_model(self, name):\n",
    "        nn_input = tf.keras.Input(shape = self.state_size, dtype = self.data_type)\n",
    "\n",
    "        x = tf.keras.layers.Dense(units = 128)(nn_input)\n",
    "        x = tf.keras.layers.ReLU()(x)\n",
    "        x = tf.keras.layers.Dense(units = 128)(x)\n",
    "        x = tf.keras.layers.ReLU()(x)\n",
    "        nn_output = tf.keras.layers.Dense(units = self.num_action)(x)\n",
    "\n",
    "        model = tf.keras.Model(name = name, inputs = nn_input, outputs = nn_output)\n",
    "\n",
    "        return model\n",
    "\n",
    "    def predict(self, state):\n",
    "        # Online Model\n",
    "        return self.online_model(tf.convert_to_tensor(state, self.data_type))\n",
    "\n",
    "    def max_q(self, state_primes):\n",
    "        # Target Model\n",
    "        return tf.reduce_max(self.target_model(tf.convert_to_tensor(state_primes, self.data_type)), axis = 1)\n",
    "\n",
    "    def loss(self, states, actions, rewards, state_primes):\n",
    "        predicts = self.predict(states)\n",
    "        indice = tf.stack([tf.range(len(actions)), actions], axis = 1)\n",
    "        predict_qs = tf.gather_nd(predicts, indice)\n",
    "\n",
    "        target_qs = self.max_q(state_primes)\n",
    "        # Compute loss as formular: loss = E((r + gamma * max(Q(s', a'| Theta')) - Q(s, a, | Theta))^2)\n",
    "        # Update model with a batch Every time. As a result, we compute the Expectation(E) of the total loss of a batch.\n",
    "        return tf.reduce_mean(tf.square(rewards + self.reward_discount * target_qs - predict_qs))\n",
    "\n",
    "    def get_metrics_loss(self):\n",
    "        return self.avg_loss.result()\n",
    "    \n",
    "    def reset_metrics_loss(self):\n",
    "        self.avg_loss.reset_states()\n",
    "\n",
    "    def select_action(self, state):\n",
    "        # Assume using Epsilon Greedy Strategy\n",
    "        action = self.exploration_strategy.select_action()\n",
    "        act_qs = self.predict([state])\n",
    "        # If the index of action (return value) is -1, choose the action with highest probability that online_model predict\n",
    "        if action == -1:\n",
    "            return tf.argmax(act_qs, axis = 1)[0], act_qs\n",
    "        else:\n",
    "            # If the index of action (return value) is != -1, act randomly    \n",
    "            return action, act_qs\n",
    "\n",
    "    def shutdown_explore(self):\n",
    "        self.is_shutdown_explore = True\n",
    "\n",
    "    def update(self, loss, tape):\n",
    "        gradients = tape.gradient(loss, self.online_model.trainable_variables)\n",
    "        # gradients = [gradients if gradients is not None else tf.zeros_like(var) for var, grad in zip(self.model.trainable_variables, gradients)]\n",
    "        self.optimizer.apply_gradients(zip(gradients, self.online_model.trainable_variables))\n",
    "        self.avg_loss.update_state(loss)\n",
    "\n",
    "        # Update exploration rate of Epsilon Greedy Strategy\n",
    "        self.exploration_strategy.update_epsilon()\n",
    "        \n",
    "        # Deplay Update\n",
    "        is_update_target = False\n",
    "        if self.iter % self.delay_update_every_iter == 0:\n",
    "            self.target_model.set_weights(self.online_model.get_weights())\n",
    "            is_update_target = True\n",
    "\n",
    "        return is_update_target\n",
    "    \n",
    "#     def preprocess_state(self, env_state):\n",
    "#         # Preprocess SINGLE state\n",
    "#         return list(env_state.values())\n",
    "\n",
    "#     def preprocess_states(self, env_states):\n",
    "#         # Preprocess MULTIPLE states\n",
    "#         state_list = []\n",
    "#         for env_state in env_states:\n",
    "#             state_list.append(list(env_state.values()))\n",
    "\n",
    "#         return state_list\n",
    "\n",
    "    def add_buffer(self, new_state, new_action, new_reward, new_state_prime):\n",
    "        # Add ONE action-state pair every time\n",
    "        self.buffer.append({'state': new_state, 'action': new_action, 'reward': new_reward, 'state_prime': new_state_prime})\n",
    "        if len(self.buffer) > self.buffer_size:\n",
    "            self.buffer.pop(0)\n",
    "    \n",
    "    def sample(self, num_sample):\n",
    "        if num_sample >= len(self.buffer):\n",
    "            idx_samples = np.random.choice(len(self.buffer), num_sample).tolist()\n",
    "        else:\n",
    "            idx_samples = np.random.choice(len(self.buffer), num_sample, replace = False).tolist()\n",
    "\n",
    "        states = []\n",
    "        actions = []\n",
    "        rewards = []\n",
    "        state_primes = []\n",
    "#         act_qs = []\n",
    "\n",
    "        for idx in idx_samples:\n",
    "            states.append(self.buffer[idx]['state'])\n",
    "            actions.append(self.buffer[idx]['action'])\n",
    "            rewards.append(self.buffer[idx]['reward'])\n",
    "            state_primes.append(self.buffer[idx]['state_prime'])\n",
    "#             act_qs.append(self.buffer[idx]['act_qs'])\n",
    "\n",
    "        return states, actions, rewards, state_primes #, act_qs\n",
    "    \n",
    "    def train_on_env(self, env, is_show = False):\n",
    "        episode_reward = 0\n",
    "        episode_loss = 0\n",
    "        count = 0\n",
    "        state = env.reset(is_show)\n",
    "\n",
    "        while not env.is_over():\n",
    "            action, act_qs = self.select_action(state)\n",
    "            state_prime, reward, is_done, info = env.act(action)\n",
    "\n",
    "            # print(f'B State: {state}, Action: {action}, Reward: {reward}, State_Prime: {state_prime}')\n",
    "\n",
    "            self.add_buffer(state, action, reward, state_prime)\n",
    "            sample_states, sample_actions, sample_rewards, sample_state_primes = self.sample(self.batch_size)\n",
    "            #  Update model with TD\n",
    "            with tf.GradientTape() as tape:\n",
    "                tape.watch(self.online_model.trainable_variables)\n",
    "                loss = self.loss(sample_states, sample_actions, sample_rewards, sample_state_primes)\n",
    "                is_update_target = self.update(loss, tape)\n",
    "\n",
    "                self.iter += 1\n",
    "                count += 1\n",
    "\n",
    "                state = state_prime\n",
    "                episode_reward += reward\n",
    "                episode_loss += loss\n",
    "                \n",
    "        env.reset()\n",
    "        self.eps += 1\n",
    "\n",
    "        return episode_reward, (episode_loss / count)"
   ]
  },
  {
   "cell_type": "code",
   "execution_count": null,
   "metadata": {
    "scrolled": false
   },
   "outputs": [
    {
     "name": "stdout",
     "output_type": "stream",
     "text": [
      "4 Physical GPUs, 1 Logical GPUs\n",
      "Episode 1\n"
     ]
    },
    {
     "data": {
      "application/vnd.jupyter.widget-view+json": {
       "model_id": "fdcf92a62c79457187f6e09111282809",
       "version_major": 2,
       "version_minor": 0
      },
      "text/plain": [
       "HBox(children=(FloatProgress(value=0.0, max=50.0), HTML(value='')))"
      ]
     },
     "metadata": {},
     "output_type": "display_data"
    },
    {
     "name": "stdout",
     "output_type": "stream",
     "text": [
      "\n",
      "Avgerage Accumulated Reward: -5 | Loss: 13.07143783569336\n",
      "Episode 51\n"
     ]
    },
    {
     "data": {
      "application/vnd.jupyter.widget-view+json": {
       "model_id": "a8bc2a16b0384e8993bda95d2bd10391",
       "version_major": 2,
       "version_minor": 0
      },
      "text/plain": [
       "HBox(children=(FloatProgress(value=0.0, max=50.0), HTML(value='')))"
      ]
     },
     "metadata": {},
     "output_type": "display_data"
    },
    {
     "name": "stdout",
     "output_type": "stream",
     "text": [
      "\n",
      "Avgerage Accumulated Reward: -5 | Loss: 1.8814830780029297\n",
      "Episode 101\n"
     ]
    },
    {
     "data": {
      "application/vnd.jupyter.widget-view+json": {
       "model_id": "042add419ef84a01b9f9b5567d664f03",
       "version_major": 2,
       "version_minor": 0
      },
      "text/plain": [
       "HBox(children=(FloatProgress(value=0.0, max=50.0), HTML(value='')))"
      ]
     },
     "metadata": {},
     "output_type": "display_data"
    },
    {
     "name": "stdout",
     "output_type": "stream",
     "text": [
      "\n",
      "Avgerage Accumulated Reward: -5 | Loss: 2.406684637069702\n",
      "Episode 151\n"
     ]
    },
    {
     "data": {
      "application/vnd.jupyter.widget-view+json": {
       "model_id": "aad0fb6468c7480abda76ab1d7c4cf33",
       "version_major": 2,
       "version_minor": 0
      },
      "text/plain": [
       "HBox(children=(FloatProgress(value=0.0, max=50.0), HTML(value='')))"
      ]
     },
     "metadata": {},
     "output_type": "display_data"
    },
    {
     "name": "stdout",
     "output_type": "stream",
     "text": [
      "\n",
      "Avgerage Accumulated Reward: -5 | Loss: 4.795338153839111\n",
      "Episode 201\n"
     ]
    },
    {
     "data": {
      "application/vnd.jupyter.widget-view+json": {
       "model_id": "08c7e414be2a4e1b85f8a937089bb88d",
       "version_major": 2,
       "version_minor": 0
      },
      "text/plain": [
       "HBox(children=(FloatProgress(value=0.0, max=50.0), HTML(value='')))"
      ]
     },
     "metadata": {},
     "output_type": "display_data"
    },
    {
     "name": "stdout",
     "output_type": "stream",
     "text": [
      "\n",
      "Avgerage Accumulated Reward: -5 | Loss: 3.5003223419189453\n",
      "Episode 251\n"
     ]
    },
    {
     "data": {
      "application/vnd.jupyter.widget-view+json": {
       "model_id": "1e9302b8f8244ca991192d71ac83227c",
       "version_major": 2,
       "version_minor": 0
      },
      "text/plain": [
       "HBox(children=(FloatProgress(value=0.0, max=50.0), HTML(value='')))"
      ]
     },
     "metadata": {},
     "output_type": "display_data"
    },
    {
     "name": "stdout",
     "output_type": "stream",
     "text": [
      "\n",
      "Avgerage Accumulated Reward: -5 | Loss: 4.842352867126465\n",
      "Episode 301\n"
     ]
    },
    {
     "data": {
      "application/vnd.jupyter.widget-view+json": {
       "model_id": "07c2e17d02c147c2a7f25642bf7a5f52",
       "version_major": 2,
       "version_minor": 0
      },
      "text/plain": [
       "HBox(children=(FloatProgress(value=0.0, max=50.0), HTML(value='')))"
      ]
     },
     "metadata": {},
     "output_type": "display_data"
    },
    {
     "name": "stdout",
     "output_type": "stream",
     "text": [
      "\n",
      "Avgerage Accumulated Reward: -5 | Loss: 3.590871572494507\n",
      "Episode 351\n"
     ]
    },
    {
     "data": {
      "application/vnd.jupyter.widget-view+json": {
       "model_id": "80158adda55c4719a6e085d1503d3b9e",
       "version_major": 2,
       "version_minor": 0
      },
      "text/plain": [
       "HBox(children=(FloatProgress(value=0.0, max=50.0), HTML(value='')))"
      ]
     },
     "metadata": {},
     "output_type": "display_data"
    },
    {
     "name": "stdout",
     "output_type": "stream",
     "text": [
      "\n",
      "Avgerage Accumulated Reward: -5 | Loss: 4.247480392456055\n",
      "Episode 401\n"
     ]
    },
    {
     "data": {
      "application/vnd.jupyter.widget-view+json": {
       "model_id": "1d9a7f13ff4a451f9bb4a66b0861ba30",
       "version_major": 2,
       "version_minor": 0
      },
      "text/plain": [
       "HBox(children=(FloatProgress(value=0.0, max=50.0), HTML(value='')))"
      ]
     },
     "metadata": {},
     "output_type": "display_data"
    },
    {
     "name": "stdout",
     "output_type": "stream",
     "text": [
      "\n",
      "Avgerage Accumulated Reward: -5 | Loss: 5.6505513191223145\n",
      "Episode 451\n"
     ]
    },
    {
     "data": {
      "application/vnd.jupyter.widget-view+json": {
       "model_id": "cb56c22426a04c8180bac9c11e90030e",
       "version_major": 2,
       "version_minor": 0
      },
      "text/plain": [
       "HBox(children=(FloatProgress(value=0.0, max=50.0), HTML(value='')))"
      ]
     },
     "metadata": {},
     "output_type": "display_data"
    },
    {
     "name": "stdout",
     "output_type": "stream",
     "text": [
      "\n",
      "Avgerage Accumulated Reward: -5 | Loss: 5.840968608856201\n",
      "Episode 501\n"
     ]
    },
    {
     "data": {
      "application/vnd.jupyter.widget-view+json": {
       "model_id": "269a4a11931145f5a6d29eecbedf5956",
       "version_major": 2,
       "version_minor": 0
      },
      "text/plain": [
       "HBox(children=(FloatProgress(value=0.0, max=50.0), HTML(value='')))"
      ]
     },
     "metadata": {},
     "output_type": "display_data"
    },
    {
     "name": "stdout",
     "output_type": "stream",
     "text": [
      "\n",
      "Avgerage Accumulated Reward: -5 | Loss: 7.314149379730225\n",
      "Episode 551\n"
     ]
    },
    {
     "data": {
      "application/vnd.jupyter.widget-view+json": {
       "model_id": "2645a19cd9114f9faed668345a2f80b9",
       "version_major": 2,
       "version_minor": 0
      },
      "text/plain": [
       "HBox(children=(FloatProgress(value=0.0, max=50.0), HTML(value='')))"
      ]
     },
     "metadata": {},
     "output_type": "display_data"
    },
    {
     "name": "stdout",
     "output_type": "stream",
     "text": [
      "\n",
      "Avgerage Accumulated Reward: -5 | Loss: 18.18058204650879\n",
      "Episode 601\n"
     ]
    },
    {
     "data": {
      "application/vnd.jupyter.widget-view+json": {
       "model_id": "4174558019d14da49cc12baa20d88378",
       "version_major": 2,
       "version_minor": 0
      },
      "text/plain": [
       "HBox(children=(FloatProgress(value=0.0, max=50.0), HTML(value='')))"
      ]
     },
     "metadata": {},
     "output_type": "display_data"
    },
    {
     "name": "stdout",
     "output_type": "stream",
     "text": [
      "\n",
      "Avgerage Accumulated Reward: -5 | Loss: 16.049421310424805\n",
      "Episode 651\n"
     ]
    },
    {
     "data": {
      "application/vnd.jupyter.widget-view+json": {
       "model_id": "c61f05a50af44ce3988c7fb0571ec480",
       "version_major": 2,
       "version_minor": 0
      },
      "text/plain": [
       "HBox(children=(FloatProgress(value=0.0, max=50.0), HTML(value='')))"
      ]
     },
     "metadata": {},
     "output_type": "display_data"
    },
    {
     "name": "stdout",
     "output_type": "stream",
     "text": [
      "\n",
      "Avgerage Accumulated Reward: -5 | Loss: 7.476778030395508\n",
      "Episode 701\n"
     ]
    },
    {
     "data": {
      "application/vnd.jupyter.widget-view+json": {
       "model_id": "547e4f24c08a409798d1d4c8c345e428",
       "version_major": 2,
       "version_minor": 0
      },
      "text/plain": [
       "HBox(children=(FloatProgress(value=0.0, max=50.0), HTML(value='')))"
      ]
     },
     "metadata": {},
     "output_type": "display_data"
    },
    {
     "name": "stdout",
     "output_type": "stream",
     "text": [
      "\n",
      "Avgerage Accumulated Reward: -5 | Loss: 6.231672286987305\n",
      "Episode 751\n"
     ]
    },
    {
     "data": {
      "application/vnd.jupyter.widget-view+json": {
       "model_id": "674afa46b200404ebf71dfb2a5c1f322",
       "version_major": 2,
       "version_minor": 0
      },
      "text/plain": [
       "HBox(children=(FloatProgress(value=0.0, max=50.0), HTML(value='')))"
      ]
     },
     "metadata": {},
     "output_type": "display_data"
    },
    {
     "name": "stdout",
     "output_type": "stream",
     "text": [
      "\n",
      "Avgerage Accumulated Reward: -5 | Loss: 7.6787238121032715\n",
      "Episode 801\n"
     ]
    },
    {
     "data": {
      "application/vnd.jupyter.widget-view+json": {
       "model_id": "b8ed032026f444ce9c91d7fe01767815",
       "version_major": 2,
       "version_minor": 0
      },
      "text/plain": [
       "HBox(children=(FloatProgress(value=0.0, max=50.0), HTML(value='')))"
      ]
     },
     "metadata": {},
     "output_type": "display_data"
    },
    {
     "name": "stdout",
     "output_type": "stream",
     "text": [
      "\n",
      "Avgerage Accumulated Reward: -5 | Loss: 4.7448225021362305\n",
      "Episode 851\n"
     ]
    },
    {
     "data": {
      "application/vnd.jupyter.widget-view+json": {
       "model_id": "be575c319b0741f6b0656ea669ac6ec7",
       "version_major": 2,
       "version_minor": 0
      },
      "text/plain": [
       "HBox(children=(FloatProgress(value=0.0, max=50.0), HTML(value='')))"
      ]
     },
     "metadata": {},
     "output_type": "display_data"
    },
    {
     "name": "stdout",
     "output_type": "stream",
     "text": [
      "\n",
      "Avgerage Accumulated Reward: -5 | Loss: 7.798046112060547\n",
      "Episode 901\n"
     ]
    },
    {
     "data": {
      "application/vnd.jupyter.widget-view+json": {
       "model_id": "120553eb48614211b1f0681d1ea7d0df",
       "version_major": 2,
       "version_minor": 0
      },
      "text/plain": [
       "HBox(children=(FloatProgress(value=0.0, max=50.0), HTML(value='')))"
      ]
     },
     "metadata": {},
     "output_type": "display_data"
    },
    {
     "name": "stdout",
     "output_type": "stream",
     "text": [
      "\n",
      "Avgerage Accumulated Reward: -5 | Loss: 5.158641815185547\n",
      "Episode 951\n"
     ]
    },
    {
     "data": {
      "application/vnd.jupyter.widget-view+json": {
       "model_id": "3352bef5456340d69e1ba21e83185ac1",
       "version_major": 2,
       "version_minor": 0
      },
      "text/plain": [
       "HBox(children=(FloatProgress(value=0.0, max=50.0), HTML(value='')))"
      ]
     },
     "metadata": {},
     "output_type": "display_data"
    },
    {
     "name": "stdout",
     "output_type": "stream",
     "text": [
      "\n",
      "Avgerage Accumulated Reward: -5 | Loss: 9.776373863220215\n",
      "Episode 1001\n"
     ]
    },
    {
     "data": {
      "application/vnd.jupyter.widget-view+json": {
       "model_id": "5e12a700447741d9991d4e66ef35b912",
       "version_major": 2,
       "version_minor": 0
      },
      "text/plain": [
       "HBox(children=(FloatProgress(value=0.0, max=50.0), HTML(value='')))"
      ]
     },
     "metadata": {},
     "output_type": "display_data"
    },
    {
     "name": "stdout",
     "output_type": "stream",
     "text": [
      "\n",
      "Avgerage Accumulated Reward: -5 | Loss: 6.288321018218994\n",
      "Episode 1051\n"
     ]
    },
    {
     "data": {
      "application/vnd.jupyter.widget-view+json": {
       "model_id": "003da3f629e2436ab8f5a4b4dc4f219a",
       "version_major": 2,
       "version_minor": 0
      },
      "text/plain": [
       "HBox(children=(FloatProgress(value=0.0, max=50.0), HTML(value='')))"
      ]
     },
     "metadata": {},
     "output_type": "display_data"
    },
    {
     "name": "stdout",
     "output_type": "stream",
     "text": [
      "\n",
      "Avgerage Accumulated Reward: -5 | Loss: 2.7699506282806396\n",
      "Episode 1101\n"
     ]
    },
    {
     "data": {
      "application/vnd.jupyter.widget-view+json": {
       "model_id": "beb26bd52f58491d8ef10f4c3af7e3e8",
       "version_major": 2,
       "version_minor": 0
      },
      "text/plain": [
       "HBox(children=(FloatProgress(value=0.0, max=50.0), HTML(value='')))"
      ]
     },
     "metadata": {},
     "output_type": "display_data"
    },
    {
     "name": "stdout",
     "output_type": "stream",
     "text": [
      "\n",
      "Avgerage Accumulated Reward: -5 | Loss: 1.617060899734497\n",
      "Episode 1151\n"
     ]
    },
    {
     "data": {
      "application/vnd.jupyter.widget-view+json": {
       "model_id": "3d8c6d3ada464eacbbeb55e4e592cd4b",
       "version_major": 2,
       "version_minor": 0
      },
      "text/plain": [
       "HBox(children=(FloatProgress(value=0.0, max=50.0), HTML(value='')))"
      ]
     },
     "metadata": {},
     "output_type": "display_data"
    },
    {
     "name": "stdout",
     "output_type": "stream",
     "text": [
      "\n",
      "Avgerage Accumulated Reward: -5 | Loss: 1.9096837043762207\n",
      "Episode 1201\n"
     ]
    },
    {
     "data": {
      "application/vnd.jupyter.widget-view+json": {
       "model_id": "04757ec6f2d847ebb8e254f578968ec0",
       "version_major": 2,
       "version_minor": 0
      },
      "text/plain": [
       "HBox(children=(FloatProgress(value=0.0, max=50.0), HTML(value='')))"
      ]
     },
     "metadata": {},
     "output_type": "display_data"
    },
    {
     "name": "stdout",
     "output_type": "stream",
     "text": [
      "\n",
      "Avgerage Accumulated Reward: -5 | Loss: 2.0969722270965576\n",
      "Episode 1251\n"
     ]
    },
    {
     "data": {
      "application/vnd.jupyter.widget-view+json": {
       "model_id": "4a3c8a790d684a3db4709100ecb163f0",
       "version_major": 2,
       "version_minor": 0
      },
      "text/plain": [
       "HBox(children=(FloatProgress(value=0.0, max=50.0), HTML(value='')))"
      ]
     },
     "metadata": {},
     "output_type": "display_data"
    },
    {
     "name": "stdout",
     "output_type": "stream",
     "text": [
      "\n",
      "Avgerage Accumulated Reward: -5 | Loss: 1.623816967010498\n",
      "Episode 1301\n"
     ]
    },
    {
     "data": {
      "application/vnd.jupyter.widget-view+json": {
       "model_id": "d01fd946dfd5483e9229403aefbb8658",
       "version_major": 2,
       "version_minor": 0
      },
      "text/plain": [
       "HBox(children=(FloatProgress(value=0.0, max=50.0), HTML(value='')))"
      ]
     },
     "metadata": {},
     "output_type": "display_data"
    },
    {
     "name": "stdout",
     "output_type": "stream",
     "text": [
      "\n",
      "Avgerage Accumulated Reward: -5 | Loss: 1.557982325553894\n",
      "Episode 1351\n"
     ]
    },
    {
     "data": {
      "application/vnd.jupyter.widget-view+json": {
       "model_id": "d56ef85e772d4563bc8ecbcb221bda4a",
       "version_major": 2,
       "version_minor": 0
      },
      "text/plain": [
       "HBox(children=(FloatProgress(value=0.0, max=50.0), HTML(value='')))"
      ]
     },
     "metadata": {},
     "output_type": "display_data"
    },
    {
     "name": "stdout",
     "output_type": "stream",
     "text": [
      "\n",
      "Avgerage Accumulated Reward: -5 | Loss: 1.4874756336212158\n",
      "Episode 1401\n"
     ]
    },
    {
     "data": {
      "application/vnd.jupyter.widget-view+json": {
       "model_id": "a6f23d1dde2c48b38d974b22203c907d",
       "version_major": 2,
       "version_minor": 0
      },
      "text/plain": [
       "HBox(children=(FloatProgress(value=0.0, max=50.0), HTML(value='')))"
      ]
     },
     "metadata": {},
     "output_type": "display_data"
    },
    {
     "name": "stdout",
     "output_type": "stream",
     "text": [
      "\n",
      "Avgerage Accumulated Reward: -5 | Loss: 1.2645293474197388\n",
      "Episode 1451\n"
     ]
    },
    {
     "data": {
      "application/vnd.jupyter.widget-view+json": {
       "model_id": "21ca66420f274c9db81b06e08f97d6a4",
       "version_major": 2,
       "version_minor": 0
      },
      "text/plain": [
       "HBox(children=(FloatProgress(value=0.0, max=50.0), HTML(value='')))"
      ]
     },
     "metadata": {},
     "output_type": "display_data"
    },
    {
     "name": "stdout",
     "output_type": "stream",
     "text": [
      "\n",
      "Avgerage Accumulated Reward: -5 | Loss: 1.236274003982544\n",
      "Episode 1501\n"
     ]
    },
    {
     "data": {
      "application/vnd.jupyter.widget-view+json": {
       "model_id": "ee39b91fb95843059447dc0a29a67bc3",
       "version_major": 2,
       "version_minor": 0
      },
      "text/plain": [
       "HBox(children=(FloatProgress(value=0.0, max=50.0), HTML(value='')))"
      ]
     },
     "metadata": {},
     "output_type": "display_data"
    },
    {
     "name": "stdout",
     "output_type": "stream",
     "text": [
      "\n",
      "Avgerage Accumulated Reward: -5 | Loss: 1.4282358884811401\n",
      "Episode 1551\n"
     ]
    },
    {
     "data": {
      "application/vnd.jupyter.widget-view+json": {
       "model_id": "627fb0f50471459db714f388b4f7a49c",
       "version_major": 2,
       "version_minor": 0
      },
      "text/plain": [
       "HBox(children=(FloatProgress(value=0.0, max=50.0), HTML(value='')))"
      ]
     },
     "metadata": {},
     "output_type": "display_data"
    },
    {
     "name": "stdout",
     "output_type": "stream",
     "text": [
      "\n",
      "Avgerage Accumulated Reward: -5 | Loss: 1.5292607545852661\n",
      "Episode 1601\n"
     ]
    },
    {
     "data": {
      "application/vnd.jupyter.widget-view+json": {
       "model_id": "71e13981b3bc4dafa85abf01897aae70",
       "version_major": 2,
       "version_minor": 0
      },
      "text/plain": [
       "HBox(children=(FloatProgress(value=0.0, max=50.0), HTML(value='')))"
      ]
     },
     "metadata": {},
     "output_type": "display_data"
    },
    {
     "name": "stdout",
     "output_type": "stream",
     "text": [
      "\n",
      "Avgerage Accumulated Reward: -4 | Loss: 1.9284616708755493\n",
      "Episode 1651\n"
     ]
    },
    {
     "data": {
      "application/vnd.jupyter.widget-view+json": {
       "model_id": "b0d253302dec4856986c314f3aa6e5e7",
       "version_major": 2,
       "version_minor": 0
      },
      "text/plain": [
       "HBox(children=(FloatProgress(value=0.0, max=50.0), HTML(value='')))"
      ]
     },
     "metadata": {},
     "output_type": "display_data"
    },
    {
     "name": "stdout",
     "output_type": "stream",
     "text": [
      "\n",
      "Avgerage Accumulated Reward: -4 | Loss: 2.314467191696167\n",
      "Episode 1701\n"
     ]
    },
    {
     "data": {
      "application/vnd.jupyter.widget-view+json": {
       "model_id": "7bdb31c1901e40e8b7c90307d4aba2e1",
       "version_major": 2,
       "version_minor": 0
      },
      "text/plain": [
       "HBox(children=(FloatProgress(value=0.0, max=50.0), HTML(value='')))"
      ]
     },
     "metadata": {},
     "output_type": "display_data"
    },
    {
     "name": "stdout",
     "output_type": "stream",
     "text": [
      "\n",
      "Avgerage Accumulated Reward: -5 | Loss: 2.1109583377838135\n",
      "Episode 1751\n"
     ]
    },
    {
     "data": {
      "application/vnd.jupyter.widget-view+json": {
       "model_id": "e8bf09cfe081499094d35eae4a021931",
       "version_major": 2,
       "version_minor": 0
      },
      "text/plain": [
       "HBox(children=(FloatProgress(value=0.0, max=50.0), HTML(value='')))"
      ]
     },
     "metadata": {},
     "output_type": "display_data"
    },
    {
     "name": "stdout",
     "output_type": "stream",
     "text": [
      "\n",
      "Avgerage Accumulated Reward: -5 | Loss: 1.714040994644165\n",
      "Episode 1801\n"
     ]
    },
    {
     "data": {
      "application/vnd.jupyter.widget-view+json": {
       "model_id": "44a66b92af654219bc99dffe5bbfd1b6",
       "version_major": 2,
       "version_minor": 0
      },
      "text/plain": [
       "HBox(children=(FloatProgress(value=0.0, max=50.0), HTML(value='')))"
      ]
     },
     "metadata": {},
     "output_type": "display_data"
    },
    {
     "name": "stdout",
     "output_type": "stream",
     "text": [
      "\n",
      "Avgerage Accumulated Reward: -5 | Loss: 1.5188148021697998\n",
      "Episode 1851\n"
     ]
    },
    {
     "data": {
      "application/vnd.jupyter.widget-view+json": {
       "model_id": "8535e08e14994ffd995829a2fa966382",
       "version_major": 2,
       "version_minor": 0
      },
      "text/plain": [
       "HBox(children=(FloatProgress(value=0.0, max=50.0), HTML(value='')))"
      ]
     },
     "metadata": {},
     "output_type": "display_data"
    },
    {
     "name": "stdout",
     "output_type": "stream",
     "text": [
      "\n",
      "Avgerage Accumulated Reward: -5 | Loss: 1.264337420463562\n",
      "Episode 1901\n"
     ]
    },
    {
     "data": {
      "application/vnd.jupyter.widget-view+json": {
       "model_id": "a6e55dfa10974a6d8c2c0c66c15c7e2d",
       "version_major": 2,
       "version_minor": 0
      },
      "text/plain": [
       "HBox(children=(FloatProgress(value=0.0, max=50.0), HTML(value='')))"
      ]
     },
     "metadata": {},
     "output_type": "display_data"
    },
    {
     "name": "stdout",
     "output_type": "stream",
     "text": [
      "\n",
      "Avgerage Accumulated Reward: -4 | Loss: 1.1767215728759766\n",
      "Episode 1951\n"
     ]
    },
    {
     "data": {
      "application/vnd.jupyter.widget-view+json": {
       "model_id": "32bab87eb2554d5495a86c5e14a62ef4",
       "version_major": 2,
       "version_minor": 0
      },
      "text/plain": [
       "HBox(children=(FloatProgress(value=0.0, max=50.0), HTML(value='')))"
      ]
     },
     "metadata": {},
     "output_type": "display_data"
    },
    {
     "name": "stdout",
     "output_type": "stream",
     "text": [
      "\n",
      "Avgerage Accumulated Reward: -4 | Loss: 0.9964500665664673\n",
      "Episode 2001\n"
     ]
    },
    {
     "data": {
      "application/vnd.jupyter.widget-view+json": {
       "model_id": "f740418e14d94b26b06005b6b3cd4be4",
       "version_major": 2,
       "version_minor": 0
      },
      "text/plain": [
       "HBox(children=(FloatProgress(value=0.0, max=50.0), HTML(value='')))"
      ]
     },
     "metadata": {},
     "output_type": "display_data"
    },
    {
     "name": "stdout",
     "output_type": "stream",
     "text": [
      "\n",
      "Avgerage Accumulated Reward: -2 | Loss: 0.9112913608551025\n",
      "Episode 2051\n"
     ]
    },
    {
     "data": {
      "application/vnd.jupyter.widget-view+json": {
       "model_id": "698bb52c6ad340818c13c28c14bd16c9",
       "version_major": 2,
       "version_minor": 0
      },
      "text/plain": [
       "HBox(children=(FloatProgress(value=0.0, max=50.0), HTML(value='')))"
      ]
     },
     "metadata": {},
     "output_type": "display_data"
    },
    {
     "name": "stdout",
     "output_type": "stream",
     "text": [
      "\n",
      "Avgerage Accumulated Reward: -3 | Loss: 1.0108236074447632\n",
      "Episode 2101\n"
     ]
    },
    {
     "data": {
      "application/vnd.jupyter.widget-view+json": {
       "model_id": "0db24cc5092b44c9bcf2349b2cfb32f5",
       "version_major": 2,
       "version_minor": 0
      },
      "text/plain": [
       "HBox(children=(FloatProgress(value=0.0, max=50.0), HTML(value='')))"
      ]
     },
     "metadata": {},
     "output_type": "display_data"
    },
    {
     "name": "stdout",
     "output_type": "stream",
     "text": [
      "\n",
      "Avgerage Accumulated Reward: -4 | Loss: 1.089985966682434\n",
      "Episode 2151\n"
     ]
    },
    {
     "data": {
      "application/vnd.jupyter.widget-view+json": {
       "model_id": "a13adb1ad0034a8a8d9567678244d104",
       "version_major": 2,
       "version_minor": 0
      },
      "text/plain": [
       "HBox(children=(FloatProgress(value=0.0, max=50.0), HTML(value='')))"
      ]
     },
     "metadata": {},
     "output_type": "display_data"
    },
    {
     "name": "stdout",
     "output_type": "stream",
     "text": [
      "\n",
      "Avgerage Accumulated Reward: -5 | Loss: 0.9630497694015503\n",
      "Episode 2201\n"
     ]
    },
    {
     "data": {
      "application/vnd.jupyter.widget-view+json": {
       "model_id": "0f281618a5b04f388f9e60e48c1f1894",
       "version_major": 2,
       "version_minor": 0
      },
      "text/plain": [
       "HBox(children=(FloatProgress(value=0.0, max=50.0), HTML(value='')))"
      ]
     },
     "metadata": {},
     "output_type": "display_data"
    },
    {
     "name": "stdout",
     "output_type": "stream",
     "text": [
      "\n",
      "Avgerage Accumulated Reward: -4 | Loss: 1.1375681161880493\n",
      "Episode 2251\n"
     ]
    },
    {
     "data": {
      "application/vnd.jupyter.widget-view+json": {
       "model_id": "0f66eac5d4074b69844e2be289dff0b6",
       "version_major": 2,
       "version_minor": 0
      },
      "text/plain": [
       "HBox(children=(FloatProgress(value=0.0, max=50.0), HTML(value='')))"
      ]
     },
     "metadata": {},
     "output_type": "display_data"
    },
    {
     "name": "stdout",
     "output_type": "stream",
     "text": [
      "\n",
      "Avgerage Accumulated Reward: -4 | Loss: 1.1195056438446045\n",
      "Episode 2301\n"
     ]
    },
    {
     "data": {
      "application/vnd.jupyter.widget-view+json": {
       "model_id": "a143f962d1584c3c8b5ed7661fb3dd6c",
       "version_major": 2,
       "version_minor": 0
      },
      "text/plain": [
       "HBox(children=(FloatProgress(value=0.0, max=50.0), HTML(value='')))"
      ]
     },
     "metadata": {},
     "output_type": "display_data"
    },
    {
     "name": "stdout",
     "output_type": "stream",
     "text": [
      "\n",
      "Avgerage Accumulated Reward: -4 | Loss: 0.9513604044914246\n",
      "Episode 2351\n"
     ]
    },
    {
     "data": {
      "application/vnd.jupyter.widget-view+json": {
       "model_id": "b7303f7eeab6440f8fc77ee3a1d32b3a",
       "version_major": 2,
       "version_minor": 0
      },
      "text/plain": [
       "HBox(children=(FloatProgress(value=0.0, max=50.0), HTML(value='')))"
      ]
     },
     "metadata": {},
     "output_type": "display_data"
    },
    {
     "name": "stdout",
     "output_type": "stream",
     "text": [
      "\n",
      "Avgerage Accumulated Reward: -3 | Loss: 0.8562552332878113\n",
      "Episode 2401\n"
     ]
    },
    {
     "data": {
      "application/vnd.jupyter.widget-view+json": {
       "model_id": "7611559fb1e74854b7693ac68b8bddd1",
       "version_major": 2,
       "version_minor": 0
      },
      "text/plain": [
       "HBox(children=(FloatProgress(value=0.0, max=50.0), HTML(value='')))"
      ]
     },
     "metadata": {},
     "output_type": "display_data"
    },
    {
     "name": "stdout",
     "output_type": "stream",
     "text": [
      "\n",
      "Avgerage Accumulated Reward: -4 | Loss: 0.9215745329856873\n",
      "Episode 2451\n"
     ]
    },
    {
     "data": {
      "application/vnd.jupyter.widget-view+json": {
       "model_id": "382efe6d1a244190a2b882d425d22bf5",
       "version_major": 2,
       "version_minor": 0
      },
      "text/plain": [
       "HBox(children=(FloatProgress(value=0.0, max=50.0), HTML(value='')))"
      ]
     },
     "metadata": {},
     "output_type": "display_data"
    },
    {
     "name": "stdout",
     "output_type": "stream",
     "text": [
      "\n",
      "Avgerage Accumulated Reward: -5 | Loss: 0.6665618419647217\n",
      "Episode 2501\n"
     ]
    },
    {
     "data": {
      "application/vnd.jupyter.widget-view+json": {
       "model_id": "25e4293eb5ca4930aa2a8e0e80d707ab",
       "version_major": 2,
       "version_minor": 0
      },
      "text/plain": [
       "HBox(children=(FloatProgress(value=0.0, max=50.0), HTML(value='')))"
      ]
     },
     "metadata": {},
     "output_type": "display_data"
    },
    {
     "name": "stdout",
     "output_type": "stream",
     "text": [
      "\n",
      "Avgerage Accumulated Reward: -5 | Loss: 0.805955708026886\n",
      "Episode 2551\n"
     ]
    },
    {
     "data": {
      "application/vnd.jupyter.widget-view+json": {
       "model_id": "22a517aa247e4e30a9408ab4c78d444c",
       "version_major": 2,
       "version_minor": 0
      },
      "text/plain": [
       "HBox(children=(FloatProgress(value=0.0, max=50.0), HTML(value='')))"
      ]
     },
     "metadata": {},
     "output_type": "display_data"
    },
    {
     "name": "stdout",
     "output_type": "stream",
     "text": [
      "\n",
      "Avgerage Accumulated Reward: -5 | Loss: 1.160130500793457\n",
      "Episode 2601\n"
     ]
    },
    {
     "data": {
      "application/vnd.jupyter.widget-view+json": {
       "model_id": "218c63a73245497aac6f3e82bcfe5e8e",
       "version_major": 2,
       "version_minor": 0
      },
      "text/plain": [
       "HBox(children=(FloatProgress(value=0.0, max=50.0), HTML(value='')))"
      ]
     },
     "metadata": {},
     "output_type": "display_data"
    },
    {
     "name": "stdout",
     "output_type": "stream",
     "text": [
      "\n",
      "Avgerage Accumulated Reward: -5 | Loss: 1.3908895254135132\n",
      "Episode 2651\n"
     ]
    },
    {
     "data": {
      "application/vnd.jupyter.widget-view+json": {
       "model_id": "fd4fb1a2a4df4fc3ad2897d61ad52504",
       "version_major": 2,
       "version_minor": 0
      },
      "text/plain": [
       "HBox(children=(FloatProgress(value=0.0, max=50.0), HTML(value='')))"
      ]
     },
     "metadata": {},
     "output_type": "display_data"
    },
    {
     "name": "stdout",
     "output_type": "stream",
     "text": [
      "\n",
      "Avgerage Accumulated Reward: -5 | Loss: 1.4405453205108643\n",
      "Episode 2701\n"
     ]
    },
    {
     "data": {
      "application/vnd.jupyter.widget-view+json": {
       "model_id": "c6c1b367b3394fe3a524f1863a27b6dc",
       "version_major": 2,
       "version_minor": 0
      },
      "text/plain": [
       "HBox(children=(FloatProgress(value=0.0, max=50.0), HTML(value='')))"
      ]
     },
     "metadata": {},
     "output_type": "display_data"
    },
    {
     "name": "stdout",
     "output_type": "stream",
     "text": [
      "\n",
      "Avgerage Accumulated Reward: -5 | Loss: 1.4799304008483887\n",
      "Episode 2751\n"
     ]
    },
    {
     "data": {
      "application/vnd.jupyter.widget-view+json": {
       "model_id": "3d02b1e3f06144109b120f9091271308",
       "version_major": 2,
       "version_minor": 0
      },
      "text/plain": [
       "HBox(children=(FloatProgress(value=0.0, max=50.0), HTML(value='')))"
      ]
     },
     "metadata": {},
     "output_type": "display_data"
    },
    {
     "name": "stdout",
     "output_type": "stream",
     "text": [
      "\n",
      "Avgerage Accumulated Reward: -5 | Loss: 1.4471639394760132\n",
      "Episode 2801\n"
     ]
    },
    {
     "data": {
      "application/vnd.jupyter.widget-view+json": {
       "model_id": "13686087af1a4c88b63b12eb78a115f6",
       "version_major": 2,
       "version_minor": 0
      },
      "text/plain": [
       "HBox(children=(FloatProgress(value=0.0, max=50.0), HTML(value='')))"
      ]
     },
     "metadata": {},
     "output_type": "display_data"
    },
    {
     "name": "stdout",
     "output_type": "stream",
     "text": [
      "\n",
      "Avgerage Accumulated Reward: -4 | Loss: 0.7744407653808594\n",
      "Episode 2901\n"
     ]
    },
    {
     "data": {
      "application/vnd.jupyter.widget-view+json": {
       "model_id": "5ac522e0cd094afb9b369abe53a81cbd",
       "version_major": 2,
       "version_minor": 0
      },
      "text/plain": [
       "HBox(children=(FloatProgress(value=0.0, max=50.0), HTML(value='')))"
      ]
     },
     "metadata": {},
     "output_type": "display_data"
    },
    {
     "name": "stdout",
     "output_type": "stream",
     "text": [
      "\n",
      "Avgerage Accumulated Reward: -4 | Loss: 0.8235609531402588\n",
      "Episode 2951\n"
     ]
    },
    {
     "data": {
      "application/vnd.jupyter.widget-view+json": {
       "model_id": "7fe202312fcb4a61badd598813b5ada9",
       "version_major": 2,
       "version_minor": 0
      },
      "text/plain": [
       "HBox(children=(FloatProgress(value=0.0, max=50.0), HTML(value='')))"
      ]
     },
     "metadata": {},
     "output_type": "display_data"
    },
    {
     "name": "stdout",
     "output_type": "stream",
     "text": [
      "\n",
      "Avgerage Accumulated Reward: -4 | Loss: 1.0144259929656982\n",
      "Episode 3001\n"
     ]
    },
    {
     "data": {
      "application/vnd.jupyter.widget-view+json": {
       "model_id": "0d2d0b73133846b9a8945148f81d0943",
       "version_major": 2,
       "version_minor": 0
      },
      "text/plain": [
       "HBox(children=(FloatProgress(value=0.0, max=50.0), HTML(value='')))"
      ]
     },
     "metadata": {},
     "output_type": "display_data"
    },
    {
     "name": "stdout",
     "output_type": "stream",
     "text": [
      "\n",
      "Avgerage Accumulated Reward: -4 | Loss: 1.6961697340011597\n",
      "Episode 3051\n"
     ]
    },
    {
     "data": {
      "application/vnd.jupyter.widget-view+json": {
       "model_id": "528d42413e0e4ef09a784d572bb0797b",
       "version_major": 2,
       "version_minor": 0
      },
      "text/plain": [
       "HBox(children=(FloatProgress(value=0.0, max=50.0), HTML(value='')))"
      ]
     },
     "metadata": {},
     "output_type": "display_data"
    },
    {
     "name": "stdout",
     "output_type": "stream",
     "text": [
      "\n",
      "Avgerage Accumulated Reward: -4 | Loss: 1.556186318397522\n",
      "Episode 3101\n"
     ]
    },
    {
     "data": {
      "application/vnd.jupyter.widget-view+json": {
       "model_id": "80137d6362874b1d8f24f5b7294a4195",
       "version_major": 2,
       "version_minor": 0
      },
      "text/plain": [
       "HBox(children=(FloatProgress(value=0.0, max=50.0), HTML(value='')))"
      ]
     },
     "metadata": {},
     "output_type": "display_data"
    },
    {
     "name": "stdout",
     "output_type": "stream",
     "text": [
      "\n",
      "Avgerage Accumulated Reward: -4 | Loss: 1.222946286201477\n",
      "Episode 3151\n"
     ]
    },
    {
     "data": {
      "application/vnd.jupyter.widget-view+json": {
       "model_id": "d14c1de394c146cfad768f1be85fef55",
       "version_major": 2,
       "version_minor": 0
      },
      "text/plain": [
       "HBox(children=(FloatProgress(value=0.0, max=50.0), HTML(value='')))"
      ]
     },
     "metadata": {},
     "output_type": "display_data"
    },
    {
     "name": "stdout",
     "output_type": "stream",
     "text": [
      "\n",
      "Avgerage Accumulated Reward: -4 | Loss: 1.5153964757919312\n",
      "Episode 3201\n"
     ]
    },
    {
     "data": {
      "application/vnd.jupyter.widget-view+json": {
       "model_id": "42aa3e67229449948115a22b3c32c377",
       "version_major": 2,
       "version_minor": 0
      },
      "text/plain": [
       "HBox(children=(FloatProgress(value=0.0, max=50.0), HTML(value='')))"
      ]
     },
     "metadata": {},
     "output_type": "display_data"
    },
    {
     "name": "stdout",
     "output_type": "stream",
     "text": [
      "\n",
      "Avgerage Accumulated Reward: -4 | Loss: 1.5242582559585571\n",
      "Episode 3251\n"
     ]
    },
    {
     "data": {
      "application/vnd.jupyter.widget-view+json": {
       "model_id": "0d5f7df6d81e451ca79ad5a1cbdb9377",
       "version_major": 2,
       "version_minor": 0
      },
      "text/plain": [
       "HBox(children=(FloatProgress(value=0.0, max=50.0), HTML(value='')))"
      ]
     },
     "metadata": {},
     "output_type": "display_data"
    },
    {
     "name": "stdout",
     "output_type": "stream",
     "text": [
      "\n",
      "Avgerage Accumulated Reward: -4 | Loss: 0.911913275718689\n",
      "Episode 3301\n"
     ]
    },
    {
     "data": {
      "application/vnd.jupyter.widget-view+json": {
       "model_id": "5275f9ca57ff435d959fe28f775d2e06",
       "version_major": 2,
       "version_minor": 0
      },
      "text/plain": [
       "HBox(children=(FloatProgress(value=0.0, max=50.0), HTML(value='')))"
      ]
     },
     "metadata": {},
     "output_type": "display_data"
    },
    {
     "name": "stdout",
     "output_type": "stream",
     "text": [
      "\n",
      "Avgerage Accumulated Reward: -5 | Loss: 0.9526376128196716\n",
      "Episode 3351\n"
     ]
    },
    {
     "data": {
      "application/vnd.jupyter.widget-view+json": {
       "model_id": "60432140f9cd4ecead7ecaf3d44451cf",
       "version_major": 2,
       "version_minor": 0
      },
      "text/plain": [
       "HBox(children=(FloatProgress(value=0.0, max=50.0), HTML(value='')))"
      ]
     },
     "metadata": {},
     "output_type": "display_data"
    },
    {
     "name": "stdout",
     "output_type": "stream",
     "text": [
      "\n",
      "Avgerage Accumulated Reward: -5 | Loss: 0.8475018739700317\n",
      "Episode 3401\n"
     ]
    },
    {
     "data": {
      "application/vnd.jupyter.widget-view+json": {
       "model_id": "66ddfb2bdaa5431290c1b7d5589c164e",
       "version_major": 2,
       "version_minor": 0
      },
      "text/plain": [
       "HBox(children=(FloatProgress(value=0.0, max=50.0), HTML(value='')))"
      ]
     },
     "metadata": {},
     "output_type": "display_data"
    },
    {
     "name": "stdout",
     "output_type": "stream",
     "text": [
      "\n",
      "Avgerage Accumulated Reward: -5 | Loss: 1.4894357919692993\n",
      "Episode 3451\n"
     ]
    },
    {
     "data": {
      "application/vnd.jupyter.widget-view+json": {
       "model_id": "7810f16667534819b22e3b36d2171ffa",
       "version_major": 2,
       "version_minor": 0
      },
      "text/plain": [
       "HBox(children=(FloatProgress(value=0.0, max=50.0), HTML(value='')))"
      ]
     },
     "metadata": {},
     "output_type": "display_data"
    },
    {
     "name": "stdout",
     "output_type": "stream",
     "text": [
      "\n",
      "Avgerage Accumulated Reward: -5 | Loss: 1.9805737733840942\n",
      "Episode 3501\n"
     ]
    },
    {
     "data": {
      "application/vnd.jupyter.widget-view+json": {
       "model_id": "4215d5e9db1e47e0905f7a95cfff98d9",
       "version_major": 2,
       "version_minor": 0
      },
      "text/plain": [
       "HBox(children=(FloatProgress(value=0.0, max=50.0), HTML(value='')))"
      ]
     },
     "metadata": {},
     "output_type": "display_data"
    },
    {
     "name": "stdout",
     "output_type": "stream",
     "text": [
      "\n",
      "Avgerage Accumulated Reward: -5 | Loss: 1.4395755529403687\n",
      "Episode 3551\n"
     ]
    },
    {
     "data": {
      "application/vnd.jupyter.widget-view+json": {
       "model_id": "24ef76e0e31845ecbbd925106c69d385",
       "version_major": 2,
       "version_minor": 0
      },
      "text/plain": [
       "HBox(children=(FloatProgress(value=0.0, max=50.0), HTML(value='')))"
      ]
     },
     "metadata": {},
     "output_type": "display_data"
    },
    {
     "name": "stdout",
     "output_type": "stream",
     "text": [
      "\n",
      "Avgerage Accumulated Reward: -4 | Loss: 2.0070159435272217\n",
      "Episode 3601\n"
     ]
    },
    {
     "data": {
      "application/vnd.jupyter.widget-view+json": {
       "model_id": "09e7aff97a63438a8efe5976de07db4a",
       "version_major": 2,
       "version_minor": 0
      },
      "text/plain": [
       "HBox(children=(FloatProgress(value=0.0, max=50.0), HTML(value='')))"
      ]
     },
     "metadata": {},
     "output_type": "display_data"
    },
    {
     "name": "stdout",
     "output_type": "stream",
     "text": [
      "\n",
      "Avgerage Accumulated Reward: -4 | Loss: 1.33761465549469\n",
      "Episode 3651\n"
     ]
    },
    {
     "data": {
      "application/vnd.jupyter.widget-view+json": {
       "model_id": "76a8f37a68214aeea5c435fdf4d58867",
       "version_major": 2,
       "version_minor": 0
      },
      "text/plain": [
       "HBox(children=(FloatProgress(value=0.0, max=50.0), HTML(value='')))"
      ]
     },
     "metadata": {},
     "output_type": "display_data"
    },
    {
     "name": "stdout",
     "output_type": "stream",
     "text": [
      "\n",
      "Avgerage Accumulated Reward: -5 | Loss: 1.890002727508545\n",
      "Episode 3701\n"
     ]
    },
    {
     "data": {
      "application/vnd.jupyter.widget-view+json": {
       "model_id": "0dcd9d034af64edd9b01c3f233cadd63",
       "version_major": 2,
       "version_minor": 0
      },
      "text/plain": [
       "HBox(children=(FloatProgress(value=0.0, max=50.0), HTML(value='')))"
      ]
     },
     "metadata": {},
     "output_type": "display_data"
    },
    {
     "name": "stdout",
     "output_type": "stream",
     "text": [
      "\n",
      "Avgerage Accumulated Reward: -5 | Loss: 1.9637559652328491\n",
      "Episode 3751\n"
     ]
    },
    {
     "data": {
      "application/vnd.jupyter.widget-view+json": {
       "model_id": "1ae2a54d46604773bc83ae4c12b82299",
       "version_major": 2,
       "version_minor": 0
      },
      "text/plain": [
       "HBox(children=(FloatProgress(value=0.0, max=50.0), HTML(value='')))"
      ]
     },
     "metadata": {},
     "output_type": "display_data"
    },
    {
     "name": "stdout",
     "output_type": "stream",
     "text": [
      "\n",
      "Avgerage Accumulated Reward: -5 | Loss: 2.9070839881896973\n",
      "Episode 3801\n"
     ]
    },
    {
     "data": {
      "application/vnd.jupyter.widget-view+json": {
       "model_id": "a5475e124c9f4c10b684efa3068ceeee",
       "version_major": 2,
       "version_minor": 0
      },
      "text/plain": [
       "HBox(children=(FloatProgress(value=0.0, max=50.0), HTML(value='')))"
      ]
     },
     "metadata": {},
     "output_type": "display_data"
    },
    {
     "name": "stdout",
     "output_type": "stream",
     "text": [
      "\n",
      "Avgerage Accumulated Reward: -4 | Loss: 3.6458535194396973\n",
      "Episode 3851\n"
     ]
    },
    {
     "data": {
      "application/vnd.jupyter.widget-view+json": {
       "model_id": "99e66185fe6a4ad9a8fa98f3eb268ac4",
       "version_major": 2,
       "version_minor": 0
      },
      "text/plain": [
       "HBox(children=(FloatProgress(value=0.0, max=50.0), HTML(value='')))"
      ]
     },
     "metadata": {},
     "output_type": "display_data"
    },
    {
     "name": "stdout",
     "output_type": "stream",
     "text": [
      "\n",
      "Avgerage Accumulated Reward: -2 | Loss: 3.7281174659729004\n",
      "Episode 3901\n"
     ]
    },
    {
     "data": {
      "application/vnd.jupyter.widget-view+json": {
       "model_id": "26b766e3220c4c4c915adab2cb64d68a",
       "version_major": 2,
       "version_minor": 0
      },
      "text/plain": [
       "HBox(children=(FloatProgress(value=0.0, max=50.0), HTML(value='')))"
      ]
     },
     "metadata": {},
     "output_type": "display_data"
    },
    {
     "name": "stdout",
     "output_type": "stream",
     "text": [
      "\n",
      "Avgerage Accumulated Reward: -4 | Loss: 2.089149236679077\n",
      "Episode 3951\n"
     ]
    },
    {
     "data": {
      "application/vnd.jupyter.widget-view+json": {
       "model_id": "3956b5e093e245ccbbab8342fbf3847d",
       "version_major": 2,
       "version_minor": 0
      },
      "text/plain": [
       "HBox(children=(FloatProgress(value=0.0, max=50.0), HTML(value='')))"
      ]
     },
     "metadata": {},
     "output_type": "display_data"
    },
    {
     "name": "stdout",
     "output_type": "stream",
     "text": [
      "\n",
      "Avgerage Accumulated Reward: -4 | Loss: 1.85068678855896\n",
      "Episode 4001\n"
     ]
    },
    {
     "data": {
      "application/vnd.jupyter.widget-view+json": {
       "model_id": "02f3d1a264a747f381dcc9b18f67a0d3",
       "version_major": 2,
       "version_minor": 0
      },
      "text/plain": [
       "HBox(children=(FloatProgress(value=0.0, max=50.0), HTML(value='')))"
      ]
     },
     "metadata": {},
     "output_type": "display_data"
    },
    {
     "name": "stdout",
     "output_type": "stream",
     "text": [
      "\n",
      "Avgerage Accumulated Reward: -4 | Loss: 1.6698994636535645\n",
      "Episode 4051\n"
     ]
    },
    {
     "data": {
      "application/vnd.jupyter.widget-view+json": {
       "model_id": "3fd8871a1e734a4993e360c733d4d535",
       "version_major": 2,
       "version_minor": 0
      },
      "text/plain": [
       "HBox(children=(FloatProgress(value=0.0, max=50.0), HTML(value='')))"
      ]
     },
     "metadata": {},
     "output_type": "display_data"
    },
    {
     "name": "stdout",
     "output_type": "stream",
     "text": [
      "\n",
      "Avgerage Accumulated Reward: -3 | Loss: 3.0963072776794434\n",
      "Episode 4101\n"
     ]
    },
    {
     "data": {
      "application/vnd.jupyter.widget-view+json": {
       "model_id": "4626670228434a7a80d632d45b95ae82",
       "version_major": 2,
       "version_minor": 0
      },
      "text/plain": [
       "HBox(children=(FloatProgress(value=0.0, max=50.0), HTML(value='')))"
      ]
     },
     "metadata": {},
     "output_type": "display_data"
    },
    {
     "name": "stdout",
     "output_type": "stream",
     "text": [
      "\n",
      "Avgerage Accumulated Reward: -3 | Loss: 4.365659713745117\n",
      "Episode 4151\n"
     ]
    },
    {
     "data": {
      "application/vnd.jupyter.widget-view+json": {
       "model_id": "b9a352c0bf364c838a16494e4ad16a64",
       "version_major": 2,
       "version_minor": 0
      },
      "text/plain": [
       "HBox(children=(FloatProgress(value=0.0, max=50.0), HTML(value='')))"
      ]
     },
     "metadata": {},
     "output_type": "display_data"
    },
    {
     "name": "stdout",
     "output_type": "stream",
     "text": [
      "\n",
      "Avgerage Accumulated Reward: -4 | Loss: 3.570122718811035\n",
      "Episode 4201\n"
     ]
    },
    {
     "data": {
      "application/vnd.jupyter.widget-view+json": {
       "model_id": "3334d2827a494913b4ebb17b973074ce",
       "version_major": 2,
       "version_minor": 0
      },
      "text/plain": [
       "HBox(children=(FloatProgress(value=0.0, max=50.0), HTML(value='')))"
      ]
     },
     "metadata": {},
     "output_type": "display_data"
    },
    {
     "name": "stdout",
     "output_type": "stream",
     "text": [
      "\n",
      "Avgerage Accumulated Reward: -4 | Loss: 4.393612384796143\n",
      "Episode 4251\n"
     ]
    },
    {
     "data": {
      "application/vnd.jupyter.widget-view+json": {
       "model_id": "968ff37513ca4f05b883bcf7deed8ac4",
       "version_major": 2,
       "version_minor": 0
      },
      "text/plain": [
       "HBox(children=(FloatProgress(value=0.0, max=50.0), HTML(value='')))"
      ]
     },
     "metadata": {},
     "output_type": "display_data"
    },
    {
     "name": "stdout",
     "output_type": "stream",
     "text": [
      "\n",
      "Avgerage Accumulated Reward: -5 | Loss: 1.6451107263565063\n",
      "Episode 4301\n"
     ]
    },
    {
     "data": {
      "application/vnd.jupyter.widget-view+json": {
       "model_id": "87da1c7f42f143158e83451707baea22",
       "version_major": 2,
       "version_minor": 0
      },
      "text/plain": [
       "HBox(children=(FloatProgress(value=0.0, max=50.0), HTML(value='')))"
      ]
     },
     "metadata": {},
     "output_type": "display_data"
    },
    {
     "name": "stdout",
     "output_type": "stream",
     "text": [
      "\n",
      "Avgerage Accumulated Reward: -5 | Loss: 1.6401164531707764\n",
      "Episode 4351\n"
     ]
    },
    {
     "data": {
      "application/vnd.jupyter.widget-view+json": {
       "model_id": "2963da66ee4840b89719f6f61f9428f3",
       "version_major": 2,
       "version_minor": 0
      },
      "text/plain": [
       "HBox(children=(FloatProgress(value=0.0, max=50.0), HTML(value='')))"
      ]
     },
     "metadata": {},
     "output_type": "display_data"
    },
    {
     "name": "stdout",
     "output_type": "stream",
     "text": [
      "\n",
      "Avgerage Accumulated Reward: -5 | Loss: 1.3425432443618774\n",
      "Episode 4401\n"
     ]
    },
    {
     "data": {
      "application/vnd.jupyter.widget-view+json": {
       "model_id": "d5a6b3ad7d0341f8b13ce55b419d38c4",
       "version_major": 2,
       "version_minor": 0
      },
      "text/plain": [
       "HBox(children=(FloatProgress(value=0.0, max=50.0), HTML(value='')))"
      ]
     },
     "metadata": {},
     "output_type": "display_data"
    },
    {
     "name": "stdout",
     "output_type": "stream",
     "text": [
      "\n",
      "Avgerage Accumulated Reward: -5 | Loss: 1.530549168586731\n",
      "Episode 4451\n"
     ]
    },
    {
     "data": {
      "application/vnd.jupyter.widget-view+json": {
       "model_id": "cd8043c6984b4343b7440b74e5de177d",
       "version_major": 2,
       "version_minor": 0
      },
      "text/plain": [
       "HBox(children=(FloatProgress(value=0.0, max=50.0), HTML(value='')))"
      ]
     },
     "metadata": {},
     "output_type": "display_data"
    },
    {
     "name": "stdout",
     "output_type": "stream",
     "text": [
      "\n",
      "Avgerage Accumulated Reward: -5 | Loss: 1.1989011764526367\n",
      "Episode 4501\n"
     ]
    },
    {
     "data": {
      "application/vnd.jupyter.widget-view+json": {
       "model_id": "1eba7830a81847b38c2e1dd9fb8c8312",
       "version_major": 2,
       "version_minor": 0
      },
      "text/plain": [
       "HBox(children=(FloatProgress(value=0.0, max=50.0), HTML(value='')))"
      ]
     },
     "metadata": {},
     "output_type": "display_data"
    },
    {
     "name": "stdout",
     "output_type": "stream",
     "text": [
      "\n",
      "Avgerage Accumulated Reward: -5 | Loss: 1.2917654514312744\n",
      "Episode 4551\n"
     ]
    },
    {
     "data": {
      "application/vnd.jupyter.widget-view+json": {
       "model_id": "fc803f2218f04293ae259a5f840be18e",
       "version_major": 2,
       "version_minor": 0
      },
      "text/plain": [
       "HBox(children=(FloatProgress(value=0.0, max=50.0), HTML(value='')))"
      ]
     },
     "metadata": {},
     "output_type": "display_data"
    },
    {
     "name": "stdout",
     "output_type": "stream",
     "text": [
      "\n",
      "Avgerage Accumulated Reward: -5 | Loss: 1.607459545135498\n",
      "Episode 4601\n"
     ]
    },
    {
     "data": {
      "application/vnd.jupyter.widget-view+json": {
       "model_id": "85b6e20621594a51961ba3642ffb8afb",
       "version_major": 2,
       "version_minor": 0
      },
      "text/plain": [
       "HBox(children=(FloatProgress(value=0.0, max=50.0), HTML(value='')))"
      ]
     },
     "metadata": {},
     "output_type": "display_data"
    },
    {
     "name": "stdout",
     "output_type": "stream",
     "text": [
      "\n",
      "Avgerage Accumulated Reward: -5 | Loss: 2.1509780883789062\n",
      "Episode 4651\n"
     ]
    },
    {
     "data": {
      "application/vnd.jupyter.widget-view+json": {
       "model_id": "962cf77ea08244488b194dfc950cd50a",
       "version_major": 2,
       "version_minor": 0
      },
      "text/plain": [
       "HBox(children=(FloatProgress(value=0.0, max=50.0), HTML(value='')))"
      ]
     },
     "metadata": {},
     "output_type": "display_data"
    },
    {
     "name": "stdout",
     "output_type": "stream",
     "text": [
      "\n",
      "Avgerage Accumulated Reward: -5 | Loss: 1.9597071409225464\n",
      "Episode 4701\n"
     ]
    },
    {
     "data": {
      "application/vnd.jupyter.widget-view+json": {
       "model_id": "7438a0bae6bf447488b23ae9cec94cfb",
       "version_major": 2,
       "version_minor": 0
      },
      "text/plain": [
       "HBox(children=(FloatProgress(value=0.0, max=50.0), HTML(value='')))"
      ]
     },
     "metadata": {},
     "output_type": "display_data"
    },
    {
     "name": "stdout",
     "output_type": "stream",
     "text": [
      "\n",
      "Avgerage Accumulated Reward: -5 | Loss: 2.7018113136291504\n",
      "Episode 4751\n"
     ]
    },
    {
     "data": {
      "application/vnd.jupyter.widget-view+json": {
       "model_id": "b755e285ef67409f9c346146e37d972a",
       "version_major": 2,
       "version_minor": 0
      },
      "text/plain": [
       "HBox(children=(FloatProgress(value=0.0, max=50.0), HTML(value='')))"
      ]
     },
     "metadata": {},
     "output_type": "display_data"
    },
    {
     "name": "stdout",
     "output_type": "stream",
     "text": [
      "\n",
      "Avgerage Accumulated Reward: -5 | Loss: 2.1540884971618652\n",
      "Episode 4801\n"
     ]
    },
    {
     "data": {
      "application/vnd.jupyter.widget-view+json": {
       "model_id": "5d316ff6885d4f60b29353b18d600bd5",
       "version_major": 2,
       "version_minor": 0
      },
      "text/plain": [
       "HBox(children=(FloatProgress(value=0.0, max=50.0), HTML(value='')))"
      ]
     },
     "metadata": {},
     "output_type": "display_data"
    },
    {
     "name": "stdout",
     "output_type": "stream",
     "text": [
      "\n",
      "Avgerage Accumulated Reward: -5 | Loss: 1.7633302211761475\n",
      "Episode 4851\n"
     ]
    },
    {
     "data": {
      "application/vnd.jupyter.widget-view+json": {
       "model_id": "bea12884017247fbbdb5c442ecb455cd",
       "version_major": 2,
       "version_minor": 0
      },
      "text/plain": [
       "HBox(children=(FloatProgress(value=0.0, max=50.0), HTML(value='')))"
      ]
     },
     "metadata": {},
     "output_type": "display_data"
    },
    {
     "name": "stdout",
     "output_type": "stream",
     "text": [
      "\n",
      "Avgerage Accumulated Reward: -5 | Loss: 1.3567256927490234\n",
      "Episode 4901\n"
     ]
    },
    {
     "data": {
      "application/vnd.jupyter.widget-view+json": {
       "model_id": "0da41d25ce564c8aa6c720e9c728dd2b",
       "version_major": 2,
       "version_minor": 0
      },
      "text/plain": [
       "HBox(children=(FloatProgress(value=0.0, max=50.0), HTML(value='')))"
      ]
     },
     "metadata": {},
     "output_type": "display_data"
    },
    {
     "name": "stdout",
     "output_type": "stream",
     "text": [
      "\n",
      "Avgerage Accumulated Reward: -4 | Loss: 1.244228720664978\n",
      "Episode 4951\n"
     ]
    },
    {
     "data": {
      "application/vnd.jupyter.widget-view+json": {
       "model_id": "461115da3de149858d7dfc1f8420c2fb",
       "version_major": 2,
       "version_minor": 0
      },
      "text/plain": [
       "HBox(children=(FloatProgress(value=0.0, max=50.0), HTML(value='')))"
      ]
     },
     "metadata": {},
     "output_type": "display_data"
    },
    {
     "name": "stdout",
     "output_type": "stream",
     "text": [
      "\n",
      "Avgerage Accumulated Reward: -4 | Loss: 1.4006562232971191\n",
      "Episode 5001\n"
     ]
    },
    {
     "data": {
      "application/vnd.jupyter.widget-view+json": {
       "model_id": "3eeadcbce4bc42ca996350e80de5970e",
       "version_major": 2,
       "version_minor": 0
      },
      "text/plain": [
       "HBox(children=(FloatProgress(value=0.0, max=50.0), HTML(value='')))"
      ]
     },
     "metadata": {},
     "output_type": "display_data"
    },
    {
     "name": "stdout",
     "output_type": "stream",
     "text": [
      "\n",
      "Avgerage Accumulated Reward: -4 | Loss: 1.4206677675247192\n",
      "Episode 5051\n"
     ]
    },
    {
     "data": {
      "application/vnd.jupyter.widget-view+json": {
       "model_id": "82a84127ac97458e85a9db38de84a8a7",
       "version_major": 2,
       "version_minor": 0
      },
      "text/plain": [
       "HBox(children=(FloatProgress(value=0.0, max=50.0), HTML(value='')))"
      ]
     },
     "metadata": {},
     "output_type": "display_data"
    },
    {
     "name": "stdout",
     "output_type": "stream",
     "text": [
      "\n",
      "Avgerage Accumulated Reward: -4 | Loss: 1.4805175065994263\n",
      "Episode 5101\n"
     ]
    },
    {
     "data": {
      "application/vnd.jupyter.widget-view+json": {
       "model_id": "eb436359a72f496ea014886abb9245de",
       "version_major": 2,
       "version_minor": 0
      },
      "text/plain": [
       "HBox(children=(FloatProgress(value=0.0, max=50.0), HTML(value='')))"
      ]
     },
     "metadata": {},
     "output_type": "display_data"
    },
    {
     "name": "stdout",
     "output_type": "stream",
     "text": [
      "\n",
      "Avgerage Accumulated Reward: -3 | Loss: 1.632175087928772\n",
      "Episode 5151\n"
     ]
    },
    {
     "data": {
      "application/vnd.jupyter.widget-view+json": {
       "model_id": "e55d87367d034b2e9851e1d1753fb1f2",
       "version_major": 2,
       "version_minor": 0
      },
      "text/plain": [
       "HBox(children=(FloatProgress(value=0.0, max=50.0), HTML(value='')))"
      ]
     },
     "metadata": {},
     "output_type": "display_data"
    },
    {
     "name": "stdout",
     "output_type": "stream",
     "text": [
      "\n",
      "Avgerage Accumulated Reward: -3 | Loss: 2.519871950149536\n",
      "Episode 5201\n"
     ]
    },
    {
     "data": {
      "application/vnd.jupyter.widget-view+json": {
       "model_id": "c63090f3958f4fc48262406dc4de69bc",
       "version_major": 2,
       "version_minor": 0
      },
      "text/plain": [
       "HBox(children=(FloatProgress(value=0.0, max=50.0), HTML(value='')))"
      ]
     },
     "metadata": {},
     "output_type": "display_data"
    },
    {
     "name": "stdout",
     "output_type": "stream",
     "text": [
      "\n",
      "Avgerage Accumulated Reward: -4 | Loss: 2.2691705226898193\n",
      "Episode 5251\n"
     ]
    },
    {
     "data": {
      "application/vnd.jupyter.widget-view+json": {
       "model_id": "e6e1bdaace004aaa96239224acef864c",
       "version_major": 2,
       "version_minor": 0
      },
      "text/plain": [
       "HBox(children=(FloatProgress(value=0.0, max=50.0), HTML(value='')))"
      ]
     },
     "metadata": {},
     "output_type": "display_data"
    },
    {
     "name": "stdout",
     "output_type": "stream",
     "text": [
      "\n",
      "Avgerage Accumulated Reward: -4 | Loss: 1.781538724899292\n",
      "Episode 5301\n"
     ]
    },
    {
     "data": {
      "application/vnd.jupyter.widget-view+json": {
       "model_id": "f8d9a02ab8a341b4a885dc49b4338716",
       "version_major": 2,
       "version_minor": 0
      },
      "text/plain": [
       "HBox(children=(FloatProgress(value=0.0, max=50.0), HTML(value='')))"
      ]
     },
     "metadata": {},
     "output_type": "display_data"
    },
    {
     "name": "stdout",
     "output_type": "stream",
     "text": [
      "\n",
      "Avgerage Accumulated Reward: -4 | Loss: 1.966525673866272\n",
      "Episode 5351\n"
     ]
    },
    {
     "data": {
      "application/vnd.jupyter.widget-view+json": {
       "model_id": "d4379b8fd2c04c9ba722bfd41fdd9d3f",
       "version_major": 2,
       "version_minor": 0
      },
      "text/plain": [
       "HBox(children=(FloatProgress(value=0.0, max=50.0), HTML(value='')))"
      ]
     },
     "metadata": {},
     "output_type": "display_data"
    },
    {
     "name": "stdout",
     "output_type": "stream",
     "text": [
      "\n",
      "Avgerage Accumulated Reward: -5 | Loss: 1.6690917015075684\n",
      "Episode 5401\n"
     ]
    },
    {
     "data": {
      "application/vnd.jupyter.widget-view+json": {
       "model_id": "6ad548f9bf7b41acb45bc8e96d7e8e08",
       "version_major": 2,
       "version_minor": 0
      },
      "text/plain": [
       "HBox(children=(FloatProgress(value=0.0, max=50.0), HTML(value='')))"
      ]
     },
     "metadata": {},
     "output_type": "display_data"
    },
    {
     "name": "stdout",
     "output_type": "stream",
     "text": [
      "\n",
      "Avgerage Accumulated Reward: -4 | Loss: 1.35860276222229\n",
      "Episode 5451\n"
     ]
    },
    {
     "data": {
      "application/vnd.jupyter.widget-view+json": {
       "model_id": "1e67fc4ba1fe4788b2ad19c80a09eae0",
       "version_major": 2,
       "version_minor": 0
      },
      "text/plain": [
       "HBox(children=(FloatProgress(value=0.0, max=50.0), HTML(value='')))"
      ]
     },
     "metadata": {},
     "output_type": "display_data"
    },
    {
     "name": "stdout",
     "output_type": "stream",
     "text": [
      "\n",
      "Avgerage Accumulated Reward: -4 | Loss: 0.9251344203948975\n",
      "Episode 5501\n"
     ]
    },
    {
     "data": {
      "application/vnd.jupyter.widget-view+json": {
       "model_id": "539890d629de422985a36e866e470975",
       "version_major": 2,
       "version_minor": 0
      },
      "text/plain": [
       "HBox(children=(FloatProgress(value=0.0, max=50.0), HTML(value='')))"
      ]
     },
     "metadata": {},
     "output_type": "display_data"
    },
    {
     "name": "stdout",
     "output_type": "stream",
     "text": [
      "\n",
      "Avgerage Accumulated Reward: -4 | Loss: 0.7628498077392578\n",
      "Episode 5551\n"
     ]
    },
    {
     "data": {
      "application/vnd.jupyter.widget-view+json": {
       "model_id": "edbca68a57864ddc829624ffe6af1acf",
       "version_major": 2,
       "version_minor": 0
      },
      "text/plain": [
       "HBox(children=(FloatProgress(value=0.0, max=50.0), HTML(value='')))"
      ]
     },
     "metadata": {},
     "output_type": "display_data"
    },
    {
     "name": "stdout",
     "output_type": "stream",
     "text": [
      "\n",
      "Avgerage Accumulated Reward: -4 | Loss: 0.6201433539390564\n",
      "Episode 5601\n"
     ]
    },
    {
     "data": {
      "application/vnd.jupyter.widget-view+json": {
       "model_id": "695c1c09750443b0ad5dc87d2316c75d",
       "version_major": 2,
       "version_minor": 0
      },
      "text/plain": [
       "HBox(children=(FloatProgress(value=0.0, max=50.0), HTML(value='')))"
      ]
     },
     "metadata": {},
     "output_type": "display_data"
    },
    {
     "name": "stdout",
     "output_type": "stream",
     "text": [
      "\n",
      "Avgerage Accumulated Reward: -4 | Loss: 0.5875346660614014\n",
      "Episode 5651\n"
     ]
    },
    {
     "data": {
      "application/vnd.jupyter.widget-view+json": {
       "model_id": "74d8bd04a86c41028f0ad589b74a1932",
       "version_major": 2,
       "version_minor": 0
      },
      "text/plain": [
       "HBox(children=(FloatProgress(value=0.0, max=50.0), HTML(value='')))"
      ]
     },
     "metadata": {},
     "output_type": "display_data"
    },
    {
     "name": "stdout",
     "output_type": "stream",
     "text": [
      "\n",
      "Avgerage Accumulated Reward: -4 | Loss: 0.6540151238441467\n",
      "Episode 5701\n"
     ]
    },
    {
     "data": {
      "application/vnd.jupyter.widget-view+json": {
       "model_id": "3a95eaf9440e4f84b7f58eeeccbad0cd",
       "version_major": 2,
       "version_minor": 0
      },
      "text/plain": [
       "HBox(children=(FloatProgress(value=0.0, max=50.0), HTML(value='')))"
      ]
     },
     "metadata": {},
     "output_type": "display_data"
    },
    {
     "name": "stdout",
     "output_type": "stream",
     "text": [
      "\n",
      "Avgerage Accumulated Reward: -4 | Loss: 0.5255524516105652\n",
      "Episode 5751\n"
     ]
    },
    {
     "data": {
      "application/vnd.jupyter.widget-view+json": {
       "model_id": "0b1daf6257894505873daa82ab00ede2",
       "version_major": 2,
       "version_minor": 0
      },
      "text/plain": [
       "HBox(children=(FloatProgress(value=0.0, max=50.0), HTML(value='')))"
      ]
     },
     "metadata": {},
     "output_type": "display_data"
    },
    {
     "name": "stdout",
     "output_type": "stream",
     "text": [
      "\n",
      "Avgerage Accumulated Reward: -5 | Loss: 0.4607388973236084\n",
      "Episode 5801\n"
     ]
    },
    {
     "data": {
      "application/vnd.jupyter.widget-view+json": {
       "model_id": "6f788bf6d6f74c5083aaa870aa18270b",
       "version_major": 2,
       "version_minor": 0
      },
      "text/plain": [
       "HBox(children=(FloatProgress(value=0.0, max=50.0), HTML(value='')))"
      ]
     },
     "metadata": {},
     "output_type": "display_data"
    },
    {
     "name": "stdout",
     "output_type": "stream",
     "text": [
      "\n",
      "Avgerage Accumulated Reward: -5 | Loss: 0.4240669310092926\n",
      "Episode 5851\n"
     ]
    },
    {
     "data": {
      "application/vnd.jupyter.widget-view+json": {
       "model_id": "65793a05f72742109e0f84c3fbff4513",
       "version_major": 2,
       "version_minor": 0
      },
      "text/plain": [
       "HBox(children=(FloatProgress(value=0.0, max=50.0), HTML(value='')))"
      ]
     },
     "metadata": {},
     "output_type": "display_data"
    },
    {
     "name": "stdout",
     "output_type": "stream",
     "text": [
      "\n",
      "Avgerage Accumulated Reward: -5 | Loss: 0.3823837339878082\n",
      "Episode 5901\n"
     ]
    },
    {
     "data": {
      "application/vnd.jupyter.widget-view+json": {
       "model_id": "c017406968d64ddc8b1c897ba3e1f6ee",
       "version_major": 2,
       "version_minor": 0
      },
      "text/plain": [
       "HBox(children=(FloatProgress(value=0.0, max=50.0), HTML(value='')))"
      ]
     },
     "metadata": {},
     "output_type": "display_data"
    },
    {
     "name": "stdout",
     "output_type": "stream",
     "text": [
      "\n",
      "Avgerage Accumulated Reward: -5 | Loss: 0.4437709450721741\n",
      "Episode 5951\n"
     ]
    },
    {
     "data": {
      "application/vnd.jupyter.widget-view+json": {
       "model_id": "6efb276a838648e2b10d62509aa27b17",
       "version_major": 2,
       "version_minor": 0
      },
      "text/plain": [
       "HBox(children=(FloatProgress(value=0.0, max=50.0), HTML(value='')))"
      ]
     },
     "metadata": {},
     "output_type": "display_data"
    },
    {
     "name": "stdout",
     "output_type": "stream",
     "text": [
      "\n",
      "Avgerage Accumulated Reward: -5 | Loss: 0.4887484014034271\n",
      "Episode 6001\n"
     ]
    },
    {
     "data": {
      "application/vnd.jupyter.widget-view+json": {
       "model_id": "8c086a125e7c4a12ab7686399e4c8732",
       "version_major": 2,
       "version_minor": 0
      },
      "text/plain": [
       "HBox(children=(FloatProgress(value=0.0, max=50.0), HTML(value='')))"
      ]
     },
     "metadata": {},
     "output_type": "display_data"
    },
    {
     "name": "stdout",
     "output_type": "stream",
     "text": [
      "\n",
      "Avgerage Accumulated Reward: -5 | Loss: 0.5060444474220276\n",
      "Episode 6051\n"
     ]
    },
    {
     "data": {
      "application/vnd.jupyter.widget-view+json": {
       "model_id": "8be2892b52c04f20a72e651b9c529c01",
       "version_major": 2,
       "version_minor": 0
      },
      "text/plain": [
       "HBox(children=(FloatProgress(value=0.0, max=50.0), HTML(value='')))"
      ]
     },
     "metadata": {},
     "output_type": "display_data"
    },
    {
     "name": "stdout",
     "output_type": "stream",
     "text": [
      "\n",
      "Avgerage Accumulated Reward: -4 | Loss: 0.5539207458496094\n",
      "Episode 6101\n"
     ]
    },
    {
     "data": {
      "application/vnd.jupyter.widget-view+json": {
       "model_id": "54f52338fbed4633914e8aa161aaac00",
       "version_major": 2,
       "version_minor": 0
      },
      "text/plain": [
       "HBox(children=(FloatProgress(value=0.0, max=50.0), HTML(value='')))"
      ]
     },
     "metadata": {},
     "output_type": "display_data"
    },
    {
     "name": "stdout",
     "output_type": "stream",
     "text": [
      "\n",
      "Avgerage Accumulated Reward: -4 | Loss: 0.7758709192276001\n",
      "Episode 6151\n"
     ]
    },
    {
     "data": {
      "application/vnd.jupyter.widget-view+json": {
       "model_id": "d9995159dcc94f1184f725a825b48d37",
       "version_major": 2,
       "version_minor": 0
      },
      "text/plain": [
       "HBox(children=(FloatProgress(value=0.0, max=50.0), HTML(value='')))"
      ]
     },
     "metadata": {},
     "output_type": "display_data"
    },
    {
     "name": "stdout",
     "output_type": "stream",
     "text": [
      "\n",
      "Avgerage Accumulated Reward: -4 | Loss: 0.73581463098526\n",
      "Episode 6201\n"
     ]
    },
    {
     "data": {
      "application/vnd.jupyter.widget-view+json": {
       "model_id": "89180af90b924394a538a0718f7b0c68",
       "version_major": 2,
       "version_minor": 0
      },
      "text/plain": [
       "HBox(children=(FloatProgress(value=0.0, max=50.0), HTML(value='')))"
      ]
     },
     "metadata": {},
     "output_type": "display_data"
    },
    {
     "name": "stdout",
     "output_type": "stream",
     "text": [
      "\n",
      "Avgerage Accumulated Reward: -5 | Loss: 1.031221628189087\n",
      "Episode 6251\n"
     ]
    },
    {
     "data": {
      "application/vnd.jupyter.widget-view+json": {
       "model_id": "cb97b2647e96474289a75f0c37e819a2",
       "version_major": 2,
       "version_minor": 0
      },
      "text/plain": [
       "HBox(children=(FloatProgress(value=0.0, max=50.0), HTML(value='')))"
      ]
     },
     "metadata": {},
     "output_type": "display_data"
    },
    {
     "name": "stdout",
     "output_type": "stream",
     "text": [
      "\n",
      "Avgerage Accumulated Reward: -5 | Loss: 1.0788319110870361\n",
      "Episode 6301\n"
     ]
    },
    {
     "data": {
      "application/vnd.jupyter.widget-view+json": {
       "model_id": "a40730e303d6454080e59438ed096772",
       "version_major": 2,
       "version_minor": 0
      },
      "text/plain": [
       "HBox(children=(FloatProgress(value=0.0, max=50.0), HTML(value='')))"
      ]
     },
     "metadata": {},
     "output_type": "display_data"
    },
    {
     "name": "stdout",
     "output_type": "stream",
     "text": [
      "\n",
      "Avgerage Accumulated Reward: -5 | Loss: 1.553877830505371\n",
      "Episode 6351\n"
     ]
    },
    {
     "data": {
      "application/vnd.jupyter.widget-view+json": {
       "model_id": "111bd3290f5c4ab2a372cfb276c14962",
       "version_major": 2,
       "version_minor": 0
      },
      "text/plain": [
       "HBox(children=(FloatProgress(value=0.0, max=50.0), HTML(value='')))"
      ]
     },
     "metadata": {},
     "output_type": "display_data"
    },
    {
     "name": "stdout",
     "output_type": "stream",
     "text": [
      "\n",
      "Avgerage Accumulated Reward: -5 | Loss: 1.5797085762023926\n",
      "Episode 6401\n"
     ]
    },
    {
     "data": {
      "application/vnd.jupyter.widget-view+json": {
       "model_id": "d799415a56ce479f83825c4cecde1d6a",
       "version_major": 2,
       "version_minor": 0
      },
      "text/plain": [
       "HBox(children=(FloatProgress(value=0.0, max=50.0), HTML(value='')))"
      ]
     },
     "metadata": {},
     "output_type": "display_data"
    }
   ],
   "source": [
    "# FlappyBird-DDQN Experiment\n",
    "# 2020/08/11 SYC \n",
    "\n",
    "# import models.A2C as A2C\n",
    "# import models.expStrategy.epsilonGreedy as EPSG\n",
    "# import envs.cartPole as cartPole\n",
    "import models.util as Util\n",
    "import logging\n",
    "import matplotlib.pyplot as plt\n",
    "from matplotlib.pylab import figure\n",
    "import os\n",
    "import numpy as np\n",
    "# To run tqdm on notebook, import tqdm.notebook\n",
    "from tqdm.notebook import tqdm\n",
    "# Run on pure python\n",
    "# from tqdm import tqdm\n",
    "\n",
    "# Config Logging format\n",
    "# logging.basicConfig(format='%(asctime)s - %(message)s', level=logging.INFO)\n",
    "# Config logging module to enable on notebook\n",
    "# logger = logging.getLogger()\n",
    "# logger.setLevel(logging.DEBUG)\n",
    "\n",
    "# Block any pop-up windows\n",
    "os.environ['SDL_VIDEODRIVER'] = 'dummy'\n",
    "\n",
    "# Test GPU and show the available logical & physical GPUs\n",
    "Util.test_gpu()\n",
    "\n",
    "env = FlappyBirdEnv()\n",
    "# env = CartPoleEnv()\n",
    "NUM_STATE_FEATURES = env.get_num_state_features()\n",
    "NUM_ACTIONS = env.get_num_actions()\n",
    "EPISODE_NUM = 10000\n",
    "PRINT_EVERY_EPISODE = 50\n",
    "LEARNING_RATE = 0.003\n",
    "REWARD_DISCOUNT = 0.99\n",
    "DELAY_EVERY_ITER = 1000\n",
    "\n",
    "exp_stg = EpsilonGreedy(0.2, NUM_ACTIONS)\n",
    "agent = Agent((NUM_STATE_FEATURES, ), NUM_ACTIONS, DELAY_EVERY_ITER, REWARD_DISCOUNT, LEARNING_RATE, exp_stg)\n",
    "\n",
    "state = env.reset()\n",
    "accum_reward = 0\n",
    "\n",
    "# tqdm progress bar\n",
    "bar = []\n",
    "# Reward & LossHistory\n",
    "r_his = []\n",
    "avg_r_his = [0]\n",
    "loss_his = []\n",
    "episode_reward = 0\n",
    "\n",
    "print(\"Episode 1\")\n",
    "for episode in range(1, EPISODE_NUM + 1):\n",
    "    if episode % PRINT_EVERY_EPISODE == 1:\n",
    "        if episode > 1:\n",
    "            bar.close()\n",
    "            print(\"Avgerage Accumulated Reward: {} | Loss: {}\".format(round(accum_reward / PRINT_EVERY_EPISODE), agent.get_metrics_loss()))\n",
    "            print(\"Episode {}\".format(episode))\n",
    "            agent.reset_metrics_loss()\n",
    "            avg_r_his.append(round(accum_reward / PRINT_EVERY_EPISODE))\n",
    "            accum_reward = 0\n",
    "        bar = tqdm(total = PRINT_EVERY_EPISODE)\n",
    "\n",
    "    episode_reward, episode_loss = agent.train_on_env(env)\n",
    "    accum_reward += episode_reward\n",
    "    r_his.append(episode_reward)\n",
    "    loss_his.append(episode_loss)\n",
    "    \n",
    "    episode_reward = 0\n",
    "\n",
    "    bar.update(1)        \n",
    "    env.reset()\n",
    "\n",
    "bar.close()    \n",
    "print(\"Accumulated Reward: {} | Loss: {}\".format(round(accum_reward / PRINT_EVERY_EPISODE), agent.get_metrics_loss()))\n",
    "avg_r_his.append(round(accum_reward / PRINT_EVERY_EPISODE))\n",
    "agent.reset_metrics_loss()\n",
    "\n",
    "# Evaluate the model\n",
    "agent.shutdown_explore()\n",
    "agent.reset_metrics_loss()\n",
    "# Reset Game\n",
    "env_state = env.reset()\n",
    "accum_reward = 0\n",
    "\n",
    "while not env.is_over():\n",
    "    # env.render()\n",
    "    action, act_log_prob = agent.select_action(state)\n",
    "    state_prime, reward, is_done, info = env.act(action)\n",
    "\n",
    "    state = state_prime\n",
    "    accum_reward += reward\n",
    "\n",
    "print(\"Evaluate\")\n",
    "print(\"Accumulated Reward: {}\".format(round(accum_reward)))\n",
    "\n",
    "# Plot Reward History\n",
    "# figure(num=None, figsize=(24, 6), dpi=80)\n",
    "fig, (ax1, ax2) = plt.subplots(2, 1, figsize=(24, 6), dpi=80)\n",
    "fig.suptitle(f'FlappyBird DDQN Result (Evaluate Reward: {round(accum_reward)})')\n",
    "x_datas = range(0, len(r_his))\n",
    "avg_x_datas = range(0, EPISODE_NUM + 1, PRINT_EVERY_EPISODE)\n",
    "\n",
    "ax1.plot(x_datas, r_his, color='blue')\n",
    "ax1.plot(avg_x_datas, avg_r_his, color='red')\n",
    "ax1.set_xlabel('Episodes')\n",
    "ax1.set_ylabel('Reward / Episode')\n",
    "ax1.grid()\n",
    "\n",
    "ax2.plot(x_datas, loss_his, color='orange')\n",
    "ax2.set_xlabel('Episodes')\n",
    "ax2.set_ylabel('Loss / Episode')\n",
    "ax2.grid()\n",
    "\n",
    "plt.savefig('flappyBird-DDQN-res.svg')\n",
    "plt.show()"
   ]
  }
 ],
 "metadata": {
  "kernelspec": {
   "display_name": "tf2",
   "language": "python",
   "name": "tf2"
  },
  "language_info": {
   "codemirror_mode": {
    "name": "ipython",
    "version": 3
   },
   "file_extension": ".py",
   "mimetype": "text/x-python",
   "name": "python",
   "nbconvert_exporter": "python",
   "pygments_lexer": "ipython3",
   "version": "3.6.8"
  }
 },
 "nbformat": 4,
 "nbformat_minor": 2
}
